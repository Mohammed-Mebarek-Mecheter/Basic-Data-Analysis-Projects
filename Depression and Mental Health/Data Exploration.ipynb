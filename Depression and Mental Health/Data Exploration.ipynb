{
 "cells": [
  {
   "cell_type": "code",
   "execution_count": 1,
   "id": "initial_id",
   "metadata": {
    "collapsed": true,
    "ExecuteTime": {
     "end_time": "2024-01-27T20:19:40.282131500Z",
     "start_time": "2024-01-27T20:19:38.374584900Z"
    }
   },
   "outputs": [],
   "source": [
    "import pandas as pd"
   ]
  },
  {
   "cell_type": "code",
   "outputs": [],
   "source": [
    "# Load the dataset\n",
    "data = pd.read_csv(\"data/mental_health_finaldata.csv\")"
   ],
   "metadata": {
    "collapsed": false,
    "ExecuteTime": {
     "end_time": "2024-01-27T20:20:05.086402400Z",
     "start_time": "2024-01-27T20:20:04.994456700Z"
    }
   },
   "id": "712476e295ff8845",
   "execution_count": 2
  },
  {
   "cell_type": "markdown",
   "source": [
    "##### Exploratory Data Analysis"
   ],
   "metadata": {
    "collapsed": false
   },
   "id": "adfe06a4c171225b"
  },
  {
   "cell_type": "code",
   "outputs": [
    {
     "data": {
      "text/plain": "        Age  Gender Occupation        Days_Indoors Growing_Stress  \\\n0     20-25  Female  Corporate           1-14 days            Yes   \n1  30-Above    Male     Others          31-60 days            Yes   \n2  30-Above  Female    Student    Go out Every day             No   \n3     25-30    Male     Others           1-14 days            Yes   \n4     16-20  Female    Student  More than 2 months            Yes   \n\n  Quarantine_Frustrations Changes_Habits Mental_Health_History Weight_Change  \\\n0                     Yes             No                   Yes           Yes   \n1                     Yes          Maybe                    No            No   \n2                      No            Yes                    No            No   \n3                      No          Maybe                    No         Maybe   \n4                     Yes            Yes                    No           Yes   \n\n  Mood_Swings Coping_Struggles Work_Interest Social_Weakness  \n0      Medium               No            No             Yes  \n1        High               No            No             Yes  \n2      Medium              Yes         Maybe              No  \n3      Medium               No         Maybe             Yes  \n4      Medium              Yes         Maybe              No  ",
      "text/html": "<div>\n<style scoped>\n    .dataframe tbody tr th:only-of-type {\n        vertical-align: middle;\n    }\n\n    .dataframe tbody tr th {\n        vertical-align: top;\n    }\n\n    .dataframe thead th {\n        text-align: right;\n    }\n</style>\n<table border=\"1\" class=\"dataframe\">\n  <thead>\n    <tr style=\"text-align: right;\">\n      <th></th>\n      <th>Age</th>\n      <th>Gender</th>\n      <th>Occupation</th>\n      <th>Days_Indoors</th>\n      <th>Growing_Stress</th>\n      <th>Quarantine_Frustrations</th>\n      <th>Changes_Habits</th>\n      <th>Mental_Health_History</th>\n      <th>Weight_Change</th>\n      <th>Mood_Swings</th>\n      <th>Coping_Struggles</th>\n      <th>Work_Interest</th>\n      <th>Social_Weakness</th>\n    </tr>\n  </thead>\n  <tbody>\n    <tr>\n      <th>0</th>\n      <td>20-25</td>\n      <td>Female</td>\n      <td>Corporate</td>\n      <td>1-14 days</td>\n      <td>Yes</td>\n      <td>Yes</td>\n      <td>No</td>\n      <td>Yes</td>\n      <td>Yes</td>\n      <td>Medium</td>\n      <td>No</td>\n      <td>No</td>\n      <td>Yes</td>\n    </tr>\n    <tr>\n      <th>1</th>\n      <td>30-Above</td>\n      <td>Male</td>\n      <td>Others</td>\n      <td>31-60 days</td>\n      <td>Yes</td>\n      <td>Yes</td>\n      <td>Maybe</td>\n      <td>No</td>\n      <td>No</td>\n      <td>High</td>\n      <td>No</td>\n      <td>No</td>\n      <td>Yes</td>\n    </tr>\n    <tr>\n      <th>2</th>\n      <td>30-Above</td>\n      <td>Female</td>\n      <td>Student</td>\n      <td>Go out Every day</td>\n      <td>No</td>\n      <td>No</td>\n      <td>Yes</td>\n      <td>No</td>\n      <td>No</td>\n      <td>Medium</td>\n      <td>Yes</td>\n      <td>Maybe</td>\n      <td>No</td>\n    </tr>\n    <tr>\n      <th>3</th>\n      <td>25-30</td>\n      <td>Male</td>\n      <td>Others</td>\n      <td>1-14 days</td>\n      <td>Yes</td>\n      <td>No</td>\n      <td>Maybe</td>\n      <td>No</td>\n      <td>Maybe</td>\n      <td>Medium</td>\n      <td>No</td>\n      <td>Maybe</td>\n      <td>Yes</td>\n    </tr>\n    <tr>\n      <th>4</th>\n      <td>16-20</td>\n      <td>Female</td>\n      <td>Student</td>\n      <td>More than 2 months</td>\n      <td>Yes</td>\n      <td>Yes</td>\n      <td>Yes</td>\n      <td>No</td>\n      <td>Yes</td>\n      <td>Medium</td>\n      <td>Yes</td>\n      <td>Maybe</td>\n      <td>No</td>\n    </tr>\n  </tbody>\n</table>\n</div>"
     },
     "execution_count": 3,
     "metadata": {},
     "output_type": "execute_result"
    }
   ],
   "source": [
    "data.head()"
   ],
   "metadata": {
    "collapsed": false,
    "ExecuteTime": {
     "end_time": "2024-01-27T20:20:35.314944900Z",
     "start_time": "2024-01-27T20:20:35.006783500Z"
    }
   },
   "id": "1976685d7e22cc61",
   "execution_count": 3
  },
  {
   "cell_type": "code",
   "outputs": [
    {
     "data": {
      "text/plain": "(824, 13)"
     },
     "execution_count": 4,
     "metadata": {},
     "output_type": "execute_result"
    }
   ],
   "source": [
    "data.shape"
   ],
   "metadata": {
    "collapsed": false,
    "ExecuteTime": {
     "end_time": "2024-01-27T20:21:00.084394700Z",
     "start_time": "2024-01-27T20:20:59.918261300Z"
    }
   },
   "id": "f1bd5666e23902ab",
   "execution_count": 4
  },
  {
   "cell_type": "code",
   "outputs": [
    {
     "data": {
      "text/plain": "Index(['Age', 'Gender', 'Occupation', 'Days_Indoors', 'Growing_Stress',\n       'Quarantine_Frustrations', 'Changes_Habits', 'Mental_Health_History',\n       'Weight_Change', 'Mood_Swings', 'Coping_Struggles', 'Work_Interest',\n       'Social_Weakness'],\n      dtype='object')"
     },
     "execution_count": 8,
     "metadata": {},
     "output_type": "execute_result"
    }
   ],
   "source": [
    "data.columns"
   ],
   "metadata": {
    "collapsed": false,
    "ExecuteTime": {
     "end_time": "2024-01-27T20:21:48.747053800Z",
     "start_time": "2024-01-27T20:21:48.465063600Z"
    }
   },
   "id": "85520cc16a181d61",
   "execution_count": 8
  },
  {
   "cell_type": "code",
   "outputs": [
    {
     "name": "stdout",
     "output_type": "stream",
     "text": [
      "<class 'pandas.core.frame.DataFrame'>\n",
      "RangeIndex: 824 entries, 0 to 823\n",
      "Data columns (total 13 columns):\n",
      " #   Column                   Non-Null Count  Dtype \n",
      "---  ------                   --------------  ----- \n",
      " 0   Age                      824 non-null    object\n",
      " 1   Gender                   824 non-null    object\n",
      " 2   Occupation               824 non-null    object\n",
      " 3   Days_Indoors             824 non-null    object\n",
      " 4   Growing_Stress           824 non-null    object\n",
      " 5   Quarantine_Frustrations  824 non-null    object\n",
      " 6   Changes_Habits           824 non-null    object\n",
      " 7   Mental_Health_History    824 non-null    object\n",
      " 8   Weight_Change            824 non-null    object\n",
      " 9   Mood_Swings              824 non-null    object\n",
      " 10  Coping_Struggles         824 non-null    object\n",
      " 11  Work_Interest            824 non-null    object\n",
      " 12  Social_Weakness          824 non-null    object\n",
      "dtypes: object(13)\n",
      "memory usage: 83.8+ KB\n"
     ]
    }
   ],
   "source": [
    "data.info()"
   ],
   "metadata": {
    "collapsed": false,
    "ExecuteTime": {
     "end_time": "2024-01-27T20:21:55.166166300Z",
     "start_time": "2024-01-27T20:21:54.801234700Z"
    }
   },
   "id": "8dbf7cd48a814d92",
   "execution_count": 9
  },
  {
   "cell_type": "code",
   "outputs": [
    {
     "data": {
      "text/plain": "Age                        object\nGender                     object\nOccupation                 object\nDays_Indoors               object\nGrowing_Stress             object\nQuarantine_Frustrations    object\nChanges_Habits             object\nMental_Health_History      object\nWeight_Change              object\nMood_Swings                object\nCoping_Struggles           object\nWork_Interest              object\nSocial_Weakness            object\ndtype: object"
     },
     "execution_count": 5,
     "metadata": {},
     "output_type": "execute_result"
    }
   ],
   "source": [
    "data.dtypes"
   ],
   "metadata": {
    "collapsed": false,
    "ExecuteTime": {
     "end_time": "2024-01-27T20:21:07.710467500Z",
     "start_time": "2024-01-27T20:21:07.513671400Z"
    }
   },
   "id": "66cefbb0ac093b2f",
   "execution_count": 5
  },
  {
   "cell_type": "code",
   "outputs": [
    {
     "data": {
      "text/plain": "Age                        0\nGender                     0\nOccupation                 0\nDays_Indoors               0\nGrowing_Stress             0\nQuarantine_Frustrations    0\nChanges_Habits             0\nMental_Health_History      0\nWeight_Change              0\nMood_Swings                0\nCoping_Struggles           0\nWork_Interest              0\nSocial_Weakness            0\ndtype: int64"
     },
     "execution_count": 6,
     "metadata": {},
     "output_type": "execute_result"
    }
   ],
   "source": [
    "data.isnull().sum()"
   ],
   "metadata": {
    "collapsed": false,
    "ExecuteTime": {
     "end_time": "2024-01-27T20:21:22.925061700Z",
     "start_time": "2024-01-27T20:21:22.718799Z"
    }
   },
   "id": "46025509450047a7",
   "execution_count": 6
  },
  {
   "cell_type": "code",
   "outputs": [
    {
     "data": {
      "text/plain": "             Age  Gender Occupation Days_Indoors Growing_Stress  \\\ncount        824     824        824          824            824   \nunique         4       2          5            5              3   \ntop     30-Above  Female  Housewife   31-60 days            Yes   \nfreq         222     434        185          171            301   \n\n       Quarantine_Frustrations Changes_Habits Mental_Health_History  \\\ncount                      824            824                   824   \nunique                       3              3                     3   \ntop                        Yes            Yes                    No   \nfreq                       304            305                   284   \n\n       Weight_Change Mood_Swings Coping_Struggles Work_Interest  \\\ncount            824         824              824           824   \nunique             3           3                2             3   \ntop            Maybe      Medium               No            No   \nfreq             281         280              414           295   \n\n       Social_Weakness  \ncount              824  \nunique               3  \ntop              Maybe  \nfreq               287  ",
      "text/html": "<div>\n<style scoped>\n    .dataframe tbody tr th:only-of-type {\n        vertical-align: middle;\n    }\n\n    .dataframe tbody tr th {\n        vertical-align: top;\n    }\n\n    .dataframe thead th {\n        text-align: right;\n    }\n</style>\n<table border=\"1\" class=\"dataframe\">\n  <thead>\n    <tr style=\"text-align: right;\">\n      <th></th>\n      <th>Age</th>\n      <th>Gender</th>\n      <th>Occupation</th>\n      <th>Days_Indoors</th>\n      <th>Growing_Stress</th>\n      <th>Quarantine_Frustrations</th>\n      <th>Changes_Habits</th>\n      <th>Mental_Health_History</th>\n      <th>Weight_Change</th>\n      <th>Mood_Swings</th>\n      <th>Coping_Struggles</th>\n      <th>Work_Interest</th>\n      <th>Social_Weakness</th>\n    </tr>\n  </thead>\n  <tbody>\n    <tr>\n      <th>count</th>\n      <td>824</td>\n      <td>824</td>\n      <td>824</td>\n      <td>824</td>\n      <td>824</td>\n      <td>824</td>\n      <td>824</td>\n      <td>824</td>\n      <td>824</td>\n      <td>824</td>\n      <td>824</td>\n      <td>824</td>\n      <td>824</td>\n    </tr>\n    <tr>\n      <th>unique</th>\n      <td>4</td>\n      <td>2</td>\n      <td>5</td>\n      <td>5</td>\n      <td>3</td>\n      <td>3</td>\n      <td>3</td>\n      <td>3</td>\n      <td>3</td>\n      <td>3</td>\n      <td>2</td>\n      <td>3</td>\n      <td>3</td>\n    </tr>\n    <tr>\n      <th>top</th>\n      <td>30-Above</td>\n      <td>Female</td>\n      <td>Housewife</td>\n      <td>31-60 days</td>\n      <td>Yes</td>\n      <td>Yes</td>\n      <td>Yes</td>\n      <td>No</td>\n      <td>Maybe</td>\n      <td>Medium</td>\n      <td>No</td>\n      <td>No</td>\n      <td>Maybe</td>\n    </tr>\n    <tr>\n      <th>freq</th>\n      <td>222</td>\n      <td>434</td>\n      <td>185</td>\n      <td>171</td>\n      <td>301</td>\n      <td>304</td>\n      <td>305</td>\n      <td>284</td>\n      <td>281</td>\n      <td>280</td>\n      <td>414</td>\n      <td>295</td>\n      <td>287</td>\n    </tr>\n  </tbody>\n</table>\n</div>"
     },
     "execution_count": 7,
     "metadata": {},
     "output_type": "execute_result"
    }
   ],
   "source": [
    "data.describe()"
   ],
   "metadata": {
    "collapsed": false,
    "ExecuteTime": {
     "end_time": "2024-01-27T20:21:33.373101400Z",
     "start_time": "2024-01-27T20:21:32.849599900Z"
    }
   },
   "id": "e31e20157a1d6a17",
   "execution_count": 7
  },
  {
   "cell_type": "code",
   "outputs": [
    {
     "data": {
      "text/plain": "Age                        4\nGender                     2\nOccupation                 5\nDays_Indoors               5\nGrowing_Stress             3\nQuarantine_Frustrations    3\nChanges_Habits             3\nMental_Health_History      3\nWeight_Change              3\nMood_Swings                3\nCoping_Struggles           2\nWork_Interest              3\nSocial_Weakness            3\ndtype: int64"
     },
     "execution_count": 10,
     "metadata": {},
     "output_type": "execute_result"
    }
   ],
   "source": [
    "data.nunique()"
   ],
   "metadata": {
    "collapsed": false,
    "ExecuteTime": {
     "end_time": "2024-01-27T20:22:02.357056800Z",
     "start_time": "2024-01-27T20:22:02.124661Z"
    }
   },
   "id": "367692337ec30bd4",
   "execution_count": 10
  },
  {
   "cell_type": "code",
   "outputs": [
    {
     "data": {
      "text/plain": "0"
     },
     "execution_count": 12,
     "metadata": {},
     "output_type": "execute_result"
    }
   ],
   "source": [
    "data.duplicated().sum()"
   ],
   "metadata": {
    "collapsed": false,
    "ExecuteTime": {
     "end_time": "2024-01-27T20:33:36.125364200Z",
     "start_time": "2024-01-27T20:33:35.911810900Z"
    }
   },
   "id": "403db4c54d1940c4",
   "execution_count": 12
  },
  {
   "cell_type": "markdown",
   "source": [
    "##### Distribution of Participants Across Different Age Groups, Genders, and Occupations"
   ],
   "metadata": {
    "collapsed": false
   },
   "id": "9b9e4b80c27e8e74"
  },
  {
   "cell_type": "code",
   "outputs": [],
   "source": [
    "# Distribution of Age Groups\n",
    "age_distribution = data['Age'].value_counts()\n",
    "\n",
    "# Distribution of Genders\n",
    "gender_distribution = data['Gender'].value_counts()\n",
    "\n",
    "# Distribution of Occupations\n",
    "occupation_distribution = data['Occupation'].value_counts()"
   ],
   "metadata": {
    "collapsed": false,
    "ExecuteTime": {
     "end_time": "2024-01-27T21:01:36.208571300Z",
     "start_time": "2024-01-27T21:01:36.059438800Z"
    }
   },
   "id": "2739827c2524fc24",
   "execution_count": 15
  },
  {
   "cell_type": "code",
   "outputs": [
    {
     "name": "stdout",
     "output_type": "stream",
     "text": [
      "Distribution of Participants Across Different Age Groups:\n",
      "Age\n",
      "30-Above    222\n",
      "16-20       211\n",
      "25-30       205\n",
      "20-25       186\n",
      "Name: count, dtype: int64\n"
     ]
    }
   ],
   "source": [
    "print(\"Distribution of Participants Across Different Age Groups:\")\n",
    "print(age_distribution)"
   ],
   "metadata": {
    "collapsed": false,
    "ExecuteTime": {
     "end_time": "2024-01-27T21:01:59.410686500Z",
     "start_time": "2024-01-27T21:01:59.318739100Z"
    }
   },
   "id": "3dbcc8b5563e58d9",
   "execution_count": 16
  },
  {
   "cell_type": "code",
   "outputs": [
    {
     "name": "stdout",
     "output_type": "stream",
     "text": [
      "Distribution of Participants Across Different Genders:\n",
      "Gender\n",
      "Female    434\n",
      "Male      390\n",
      "Name: count, dtype: int64\n"
     ]
    }
   ],
   "source": [
    "print(\"Distribution of Participants Across Different Genders:\")\n",
    "print(gender_distribution)"
   ],
   "metadata": {
    "collapsed": false,
    "ExecuteTime": {
     "end_time": "2024-01-27T21:02:17.590517900Z",
     "start_time": "2024-01-27T21:02:17.422357300Z"
    }
   },
   "id": "991d238bae9749a9",
   "execution_count": 17
  },
  {
   "cell_type": "code",
   "outputs": [
    {
     "name": "stdout",
     "output_type": "stream",
     "text": [
      "Distribution of Participants Across Different Occupations:\n",
      "Occupation\n",
      "Housewife    185\n",
      "Student      180\n",
      "Corporate    159\n",
      "Others       155\n",
      "Business     145\n",
      "Name: count, dtype: int64\n"
     ]
    }
   ],
   "source": [
    "print(\"Distribution of Participants Across Different Occupations:\")\n",
    "print(occupation_distribution)"
   ],
   "metadata": {
    "collapsed": false,
    "ExecuteTime": {
     "end_time": "2024-01-27T21:02:19.310358600Z",
     "start_time": "2024-01-27T21:02:19.158179100Z"
    }
   },
   "id": "ace541629e0774f4",
   "execution_count": 18
  }
 ],
 "metadata": {
  "kernelspec": {
   "display_name": "Python 3",
   "language": "python",
   "name": "python3"
  },
  "language_info": {
   "codemirror_mode": {
    "name": "ipython",
    "version": 2
   },
   "file_extension": ".py",
   "mimetype": "text/x-python",
   "name": "python",
   "nbconvert_exporter": "python",
   "pygments_lexer": "ipython2",
   "version": "2.7.6"
  }
 },
 "nbformat": 4,
 "nbformat_minor": 5
}
