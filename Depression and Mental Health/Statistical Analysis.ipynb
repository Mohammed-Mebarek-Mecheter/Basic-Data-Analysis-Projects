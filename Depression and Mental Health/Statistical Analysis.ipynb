{
 "cells": [
  {
   "cell_type": "code",
   "execution_count": 5,
   "id": "initial_id",
   "metadata": {
    "collapsed": true,
    "ExecuteTime": {
     "end_time": "2024-01-28T18:22:42.643887200Z",
     "start_time": "2024-01-28T18:22:32.726840300Z"
    }
   },
   "outputs": [],
   "source": [
    "import pandas as pd"
   ]
  },
  {
   "cell_type": "code",
   "outputs": [],
   "source": [
    "data = pd.read_csv(\"data/mental_health_finaldata.csv\")"
   ],
   "metadata": {
    "collapsed": false,
    "ExecuteTime": {
     "end_time": "2024-01-28T17:34:59.451279Z",
     "start_time": "2024-01-28T17:34:59.390313800Z"
    }
   },
   "id": "237962d30c195375",
   "execution_count": 2
  },
  {
   "cell_type": "markdown",
   "source": [
    "##### Analyze the prevalence of each mental health indicator"
   ],
   "metadata": {
    "collapsed": false
   },
   "id": "8ef6099699b94da9"
  },
  {
   "cell_type": "code",
   "outputs": [
    {
     "name": "stdout",
     "output_type": "stream",
     "text": [
      "Prevalence of Growing_Stress : Growing_Stress\n",
      "Yes      301\n",
      "Maybe    267\n",
      "No       256\n",
      "Name: count, dtype: int64 \n",
      "\n",
      "Prevalence of Quarantine_Frustrations : Quarantine_Frustrations\n",
      "Yes      304\n",
      "Maybe    266\n",
      "No       254\n",
      "Name: count, dtype: int64 \n",
      "\n",
      "Prevalence of Changes_Habits : Changes_Habits\n",
      "Yes      305\n",
      "Maybe    268\n",
      "No       251\n",
      "Name: count, dtype: int64 \n",
      "\n",
      "Prevalence of Mental_Health_History : Mental_Health_History\n",
      "No       284\n",
      "Maybe    282\n",
      "Yes      258\n",
      "Name: count, dtype: int64 \n",
      "\n",
      "Prevalence of Weight_Change : Weight_Change\n",
      "Maybe    281\n",
      "No       275\n",
      "Yes      268\n",
      "Name: count, dtype: int64 \n",
      "\n",
      "Prevalence of Mood_Swings : Mood_Swings\n",
      "Medium    280\n",
      "Low       278\n",
      "High      266\n",
      "Name: count, dtype: int64 \n",
      "\n",
      "Prevalence of Coping_Struggles : Coping_Struggles\n",
      "No     414\n",
      "Yes    410\n",
      "Name: count, dtype: int64 \n",
      "\n",
      "Prevalence of Work_Interest : Work_Interest\n",
      "No       295\n",
      "Maybe    281\n",
      "Yes      248\n",
      "Name: count, dtype: int64 \n",
      "\n",
      "Prevalence of Social_Weakness : Social_Weakness\n",
      "Maybe    287\n",
      "No       278\n",
      "Yes      259\n",
      "Name: count, dtype: int64 \n"
     ]
    }
   ],
   "source": [
    "# Analyze the prevalence of each mental health indicator\n",
    "mental_health_indicators = ['Growing_Stress', 'Quarantine_Frustrations', 'Changes_Habits',\n",
    "                            'Mental_Health_History', 'Weight_Change', 'Mood_Swings',\n",
    "                            'Coping_Struggles', 'Work_Interest', 'Social_Weakness']\n",
    "\n",
    "prevalence = {}\n",
    "\n",
    "for indicator in mental_health_indicators:\n",
    "    prevalence[indicator] = data[indicator].value_counts()\n",
    "\n",
    "# Print the results\n",
    "for indicator, counts in prevalence.items():\n",
    "    print(\"Prevalence of\", indicator, \":\", counts, \"\\n\")"
   ],
   "metadata": {
    "collapsed": false,
    "ExecuteTime": {
     "end_time": "2024-01-28T18:14:43.531676900Z",
     "start_time": "2024-01-28T18:14:42.990948700Z"
    }
   },
   "id": "d4d820cd8b28ab5f",
   "execution_count": 3
  },
  {
   "cell_type": "markdown",
   "source": [
    "##### Analyze the distribution of days indoors"
   ],
   "metadata": {
    "collapsed": false
   },
   "id": "e04e815b8fecd1a"
  },
  {
   "cell_type": "code",
   "outputs": [
    {
     "name": "stdout",
     "output_type": "stream",
     "text": [
      "Distribution of Days Indoors:\n",
      "Days_Indoors\n",
      "31-60 days            171\n",
      "1-14 days             170\n",
      "Go out Every day      168\n",
      "More than 2 months    160\n",
      "15-30 days            155\n",
      "Name: count, dtype: int64\n"
     ]
    }
   ],
   "source": [
    "# Analyze the distribution of days indoors\n",
    "days_indoors_distribution = data['Days_Indoors'].value_counts()\n",
    "\n",
    "print(\"Distribution of Days Indoors:\")\n",
    "print(days_indoors_distribution)"
   ],
   "metadata": {
    "collapsed": false,
    "ExecuteTime": {
     "end_time": "2024-01-28T18:19:52.857068400Z",
     "start_time": "2024-01-28T18:19:52.708102Z"
    }
   },
   "id": "584b43cd61381734",
   "execution_count": 4
  },
  {
   "cell_type": "markdown",
   "source": [
    "##### Prevalence of mental health indicators by demographics"
   ],
   "metadata": {
    "collapsed": false
   },
   "id": "7d7fb0582d9b50b1"
  },
  {
   "cell_type": "code",
   "outputs": [
    {
     "name": "stdout",
     "output_type": "stream",
     "text": [
      "Prevalence of Growing_Stress by Age:\n",
      "Age       Growing_Stress\n",
      "16-20     Maybe             60\n",
      "          No                75\n",
      "          Yes               76\n",
      "20-25     Maybe             63\n",
      "          No                47\n",
      "          Yes               76\n",
      "25-30     Maybe             66\n",
      "          No                65\n",
      "          Yes               74\n",
      "30-Above  Maybe             78\n",
      "          No                69\n",
      "          Yes               75\n",
      "dtype: int64\n",
      "\n",
      "Prevalence of Quarantine_Frustrations by Age:\n",
      "Age       Quarantine_Frustrations\n",
      "16-20     Maybe                      60\n",
      "          No                         61\n",
      "          Yes                        90\n",
      "20-25     Maybe                      65\n",
      "          No                         53\n",
      "          Yes                        68\n",
      "25-30     Maybe                      61\n",
      "          No                         72\n",
      "          Yes                        72\n",
      "30-Above  Maybe                      80\n",
      "          No                         68\n",
      "          Yes                        74\n",
      "dtype: int64\n",
      "\n",
      "Prevalence of Changes_Habits by Age:\n",
      "Age       Changes_Habits\n",
      "16-20     Maybe             72\n",
      "          No                64\n",
      "          Yes               75\n",
      "20-25     Maybe             69\n",
      "          No                59\n",
      "          Yes               58\n",
      "25-30     Maybe             66\n",
      "          No                61\n",
      "          Yes               78\n",
      "30-Above  Maybe             61\n",
      "          No                67\n",
      "          Yes               94\n",
      "dtype: int64\n",
      "\n",
      "Prevalence of Mental_Health_History by Age:\n",
      "Age       Mental_Health_History\n",
      "16-20     Maybe                    80\n",
      "          No                       69\n",
      "          Yes                      62\n",
      "20-25     Maybe                    64\n",
      "          No                       59\n",
      "          Yes                      63\n",
      "25-30     Maybe                    64\n",
      "          No                       76\n",
      "          Yes                      65\n",
      "30-Above  Maybe                    74\n",
      "          No                       80\n",
      "          Yes                      68\n",
      "dtype: int64\n",
      "\n",
      "Prevalence of Weight_Change by Age:\n",
      "Age       Weight_Change\n",
      "16-20     Maybe            68\n",
      "          No               80\n",
      "          Yes              63\n",
      "20-25     Maybe            54\n",
      "          No               72\n",
      "          Yes              60\n",
      "25-30     Maybe            73\n",
      "          No               62\n",
      "          Yes              70\n",
      "30-Above  Maybe            86\n",
      "          No               61\n",
      "          Yes              75\n",
      "dtype: int64\n",
      "\n",
      "Prevalence of Mood_Swings by Age:\n",
      "Age       Mood_Swings\n",
      "16-20     High           65\n",
      "          Low            79\n",
      "          Medium         67\n",
      "20-25     High           60\n",
      "          Low            65\n",
      "          Medium         61\n",
      "25-30     High           70\n",
      "          Low            62\n",
      "          Medium         73\n",
      "30-Above  High           71\n",
      "          Low            72\n",
      "          Medium         79\n",
      "dtype: int64\n",
      "\n",
      "Prevalence of Coping_Struggles by Age:\n",
      "Age       Coping_Struggles\n",
      "16-20     No                  105\n",
      "          Yes                 106\n",
      "20-25     No                   93\n",
      "          Yes                  93\n",
      "25-30     No                  102\n",
      "          Yes                 103\n",
      "30-Above  No                  114\n",
      "          Yes                 108\n",
      "dtype: int64\n",
      "\n",
      "Prevalence of Work_Interest by Age:\n",
      "Age       Work_Interest\n",
      "16-20     Maybe            77\n",
      "          No               73\n",
      "          Yes              61\n",
      "20-25     Maybe            71\n",
      "          No               60\n",
      "          Yes              55\n",
      "25-30     Maybe            57\n",
      "          No               82\n",
      "          Yes              66\n",
      "30-Above  Maybe            76\n",
      "          No               80\n",
      "          Yes              66\n",
      "dtype: int64\n",
      "\n",
      "Prevalence of Social_Weakness by Age:\n",
      "Age       Social_Weakness\n",
      "16-20     Maybe              85\n",
      "          No                 62\n",
      "          Yes                64\n",
      "20-25     Maybe              57\n",
      "          No                 56\n",
      "          Yes                73\n",
      "25-30     Maybe              69\n",
      "          No                 83\n",
      "          Yes                53\n",
      "30-Above  Maybe              76\n",
      "          No                 77\n",
      "          Yes                69\n",
      "dtype: int64\n",
      "\n",
      "Prevalence of Growing_Stress by Gender:\n",
      "Gender  Growing_Stress\n",
      "Female  Maybe             130\n",
      "        No                131\n",
      "        Yes               173\n",
      "Male    Maybe             137\n",
      "        No                125\n",
      "        Yes               128\n",
      "dtype: int64\n",
      "\n",
      "Prevalence of Quarantine_Frustrations by Gender:\n",
      "Gender  Quarantine_Frustrations\n",
      "Female  Maybe                      142\n",
      "        No                         132\n",
      "        Yes                        160\n",
      "Male    Maybe                      124\n",
      "        No                         122\n",
      "        Yes                        144\n",
      "dtype: int64\n",
      "\n",
      "Prevalence of Changes_Habits by Gender:\n",
      "Gender  Changes_Habits\n",
      "Female  Maybe             141\n",
      "        No                135\n",
      "        Yes               158\n",
      "Male    Maybe             127\n",
      "        No                116\n",
      "        Yes               147\n",
      "dtype: int64\n",
      "\n",
      "Prevalence of Mental_Health_History by Gender:\n",
      "Gender  Mental_Health_History\n",
      "Female  Maybe                    158\n",
      "        No                       143\n",
      "        Yes                      133\n",
      "Male    Maybe                    124\n",
      "        No                       141\n",
      "        Yes                      125\n",
      "dtype: int64\n",
      "\n",
      "Prevalence of Weight_Change by Gender:\n",
      "Gender  Weight_Change\n",
      "Female  Maybe            132\n",
      "        No               156\n",
      "        Yes              146\n",
      "Male    Maybe            149\n",
      "        No               119\n",
      "        Yes              122\n",
      "dtype: int64\n",
      "\n",
      "Prevalence of Mood_Swings by Gender:\n",
      "Gender  Mood_Swings\n",
      "Female  High           146\n",
      "        Low            144\n",
      "        Medium         144\n",
      "Male    High           120\n",
      "        Low            134\n",
      "        Medium         136\n",
      "dtype: int64\n",
      "\n",
      "Prevalence of Coping_Struggles by Gender:\n",
      "Gender  Coping_Struggles\n",
      "Female  No                  203\n",
      "        Yes                 231\n",
      "Male    No                  211\n",
      "        Yes                 179\n",
      "dtype: int64\n",
      "\n",
      "Prevalence of Work_Interest by Gender:\n",
      "Gender  Work_Interest\n",
      "Female  Maybe            145\n",
      "        No               153\n",
      "        Yes              136\n",
      "Male    Maybe            136\n",
      "        No               142\n",
      "        Yes              112\n",
      "dtype: int64\n",
      "\n",
      "Prevalence of Social_Weakness by Gender:\n",
      "Gender  Social_Weakness\n",
      "Female  Maybe              148\n",
      "        No                 149\n",
      "        Yes                137\n",
      "Male    Maybe              139\n",
      "        No                 129\n",
      "        Yes                122\n",
      "dtype: int64\n",
      "\n",
      "Prevalence of Growing_Stress by Occupation:\n",
      "Occupation  Growing_Stress\n",
      "Business    Maybe             47\n",
      "            No                44\n",
      "            Yes               54\n",
      "Corporate   Maybe             47\n",
      "            No                49\n",
      "            Yes               63\n",
      "Housewife   Maybe             65\n",
      "            No                56\n",
      "            Yes               64\n",
      "Others      Maybe             50\n",
      "            No                51\n",
      "            Yes               54\n",
      "Student     Maybe             58\n",
      "            No                56\n",
      "            Yes               66\n",
      "dtype: int64\n",
      "\n",
      "Prevalence of Quarantine_Frustrations by Occupation:\n",
      "Occupation  Quarantine_Frustrations\n",
      "Business    Maybe                      41\n",
      "            No                         48\n",
      "            Yes                        56\n",
      "Corporate   Maybe                      44\n",
      "            No                         54\n",
      "            Yes                        61\n",
      "Housewife   Maybe                      61\n",
      "            No                         48\n",
      "            Yes                        76\n",
      "Others      Maybe                      53\n",
      "            No                         48\n",
      "            Yes                        54\n",
      "Student     Maybe                      67\n",
      "            No                         56\n",
      "            Yes                        57\n",
      "dtype: int64\n",
      "\n",
      "Prevalence of Changes_Habits by Occupation:\n",
      "Occupation  Changes_Habits\n",
      "Business    Maybe             44\n",
      "            No                42\n",
      "            Yes               59\n",
      "Corporate   Maybe             55\n",
      "            No                51\n",
      "            Yes               53\n",
      "Housewife   Maybe             54\n",
      "            No                61\n",
      "            Yes               70\n",
      "Others      Maybe             53\n",
      "            No                46\n",
      "            Yes               56\n",
      "Student     Maybe             62\n",
      "            No                51\n",
      "            Yes               67\n",
      "dtype: int64\n",
      "\n",
      "Prevalence of Mental_Health_History by Occupation:\n",
      "Occupation  Mental_Health_History\n",
      "Business    Maybe                    44\n",
      "            No                       57\n",
      "            Yes                      44\n",
      "Corporate   Maybe                    62\n",
      "            No                       49\n",
      "            Yes                      48\n",
      "Housewife   Maybe                    64\n",
      "            No                       62\n",
      "            Yes                      59\n",
      "Others      Maybe                    47\n",
      "            No                       52\n",
      "            Yes                      56\n",
      "Student     Maybe                    65\n",
      "            No                       64\n",
      "            Yes                      51\n",
      "dtype: int64\n",
      "\n",
      "Prevalence of Weight_Change by Occupation:\n",
      "Occupation  Weight_Change\n",
      "Business    Maybe            56\n",
      "            No               45\n",
      "            Yes              44\n",
      "Corporate   Maybe            58\n",
      "            No               41\n",
      "            Yes              60\n",
      "Housewife   Maybe            69\n",
      "            No               61\n",
      "            Yes              55\n",
      "Others      Maybe            42\n",
      "            No               67\n",
      "            Yes              46\n",
      "Student     Maybe            56\n",
      "            No               61\n",
      "            Yes              63\n",
      "dtype: int64\n",
      "\n",
      "Prevalence of Mood_Swings by Occupation:\n",
      "Occupation  Mood_Swings\n",
      "Business    High           43\n",
      "            Low            49\n",
      "            Medium         53\n",
      "Corporate   High           47\n",
      "            Low            44\n",
      "            Medium         68\n",
      "Housewife   High           58\n",
      "            Low            67\n",
      "            Medium         60\n",
      "Others      High           50\n",
      "            Low            58\n",
      "            Medium         47\n",
      "Student     High           68\n",
      "            Low            60\n",
      "            Medium         52\n",
      "dtype: int64\n",
      "\n",
      "Prevalence of Coping_Struggles by Occupation:\n",
      "Occupation  Coping_Struggles\n",
      "Business    No                  66\n",
      "            Yes                 79\n",
      "Corporate   No                  90\n",
      "            Yes                 69\n",
      "Housewife   No                  96\n",
      "            Yes                 89\n",
      "Others      No                  72\n",
      "            Yes                 83\n",
      "Student     No                  90\n",
      "            Yes                 90\n",
      "dtype: int64\n",
      "\n",
      "Prevalence of Work_Interest by Occupation:\n",
      "Occupation  Work_Interest\n",
      "Business    Maybe            53\n",
      "            No               52\n",
      "            Yes              40\n",
      "Corporate   Maybe            50\n",
      "            No               53\n",
      "            Yes              56\n",
      "Housewife   Maybe            58\n",
      "            No               69\n",
      "            Yes              58\n",
      "Others      Maybe            52\n",
      "            No               57\n",
      "            Yes              46\n",
      "Student     Maybe            68\n",
      "            No               64\n",
      "            Yes              48\n",
      "dtype: int64\n",
      "\n",
      "Prevalence of Social_Weakness by Occupation:\n",
      "Occupation  Social_Weakness\n",
      "Business    Maybe              44\n",
      "            No                 49\n",
      "            Yes                52\n",
      "Corporate   Maybe              60\n",
      "            No                 51\n",
      "            Yes                48\n",
      "Housewife   Maybe              65\n",
      "            No                 62\n",
      "            Yes                58\n",
      "Others      Maybe              54\n",
      "            No                 55\n",
      "            Yes                46\n",
      "Student     Maybe              64\n",
      "            No                 61\n",
      "            Yes                55\n",
      "dtype: int64\n"
     ]
    }
   ],
   "source": [
    "# Define the demographic variables and mental health indicators\n",
    "demographics = ['Age', 'Gender', 'Occupation']\n",
    "mental_health_indicators = ['Growing_Stress', 'Quarantine_Frustrations', 'Changes_Habits',\n",
    "                            'Mental_Health_History', 'Weight_Change', 'Mood_Swings',\n",
    "                            'Coping_Struggles', 'Work_Interest', 'Social_Weakness']\n",
    "\n",
    "# Calculate the prevalence of mental health indicators by demographics\n",
    "prevalence_by_demographics = {}\n",
    "\n",
    "for demographic in demographics:\n",
    "    for indicator in mental_health_indicators:\n",
    "        prevalence_by_demographics[(demographic, indicator)] = data.groupby([demographic, indicator]).size()\n",
    "\n",
    "# Print the results\n",
    "for (demographic, indicator), counts in prevalence_by_demographics.items():\n",
    "    print(f\"Prevalence of {indicator} by {demographic}:\")\n",
    "    print(counts)\n",
    "    print()"
   ],
   "metadata": {
    "collapsed": false,
    "ExecuteTime": {
     "end_time": "2024-01-28T18:24:43.043846700Z",
     "start_time": "2024-01-28T18:24:42.050083Z"
    }
   },
   "id": "b6be59da4d757460",
   "execution_count": 7
  },
  {
   "cell_type": "markdown",
   "source": [
    "##### Prevalence of high mood swings"
   ],
   "metadata": {
    "collapsed": false
   },
   "id": "1711e1a8e320ae80"
  },
  {
   "cell_type": "code",
   "outputs": [
    {
     "name": "stdout",
     "output_type": "stream",
     "text": [
      "Proportion of participants with high mood swings: 0.32281553398058255\n"
     ]
    }
   ],
   "source": [
    "# Calculate the proportion of participants with high mood swings\n",
    "high_mood_swing_count = data[data['Mood_Swings'] == 'High'].shape[0]\n",
    "total_participants = data.shape[0]\n",
    "\n",
    "proportion_high_mood_swings = high_mood_swing_count / total_participants\n",
    "\n",
    "print(\"Proportion of participants with high mood swings:\", proportion_high_mood_swings)"
   ],
   "metadata": {
    "collapsed": false,
    "ExecuteTime": {
     "end_time": "2024-01-28T18:37:24.822465100Z",
     "start_time": "2024-01-28T18:37:24.712877100Z"
    }
   },
   "id": "41e75a62b68f720",
   "execution_count": 12
  },
  {
   "cell_type": "markdown",
   "source": [
    "##### Prevalence of high mood swings"
   ],
   "metadata": {
    "collapsed": false
   },
   "id": "8938922c7b569f47"
  },
  {
   "cell_type": "code",
   "outputs": [
    {
     "name": "stdout",
     "output_type": "stream",
     "text": [
      "Proportions of High Mood Swings by Age:\n",
      "Age\n",
      "16-20       0.308057\n",
      "20-25       0.322581\n",
      "25-30       0.341463\n",
      "30-Above    0.319820\n",
      "Name: Mood_Swings, dtype: float64\n",
      "\n",
      "Proportions of High Mood Swings by Gender:\n",
      "Gender\n",
      "Female    0.336406\n",
      "Male      0.307692\n",
      "Name: Mood_Swings, dtype: float64\n"
     ]
    }
   ],
   "source": [
    "# Calculate proportions of high mood swings by demographic groups\n",
    "proportions_by_age = data.groupby('Age')['Mood_Swings'].apply(lambda x: (x == 'High').mean())\n",
    "proportions_by_gender = data.groupby('Gender')['Mood_Swings'].apply(lambda x: (x == 'High').mean())\n",
    "\n",
    "# Print proportions\n",
    "print(\"Proportions of High Mood Swings by Age:\")\n",
    "print(proportions_by_age)\n",
    "print(\"\\nProportions of High Mood Swings by Gender:\")\n",
    "print(proportions_by_gender)"
   ],
   "metadata": {
    "collapsed": false,
    "ExecuteTime": {
     "end_time": "2024-01-28T18:39:42.563022800Z",
     "start_time": "2024-01-28T18:39:42.419111900Z"
    }
   },
   "id": "a19633c9e410ba78",
   "execution_count": 13
  },
  {
   "cell_type": "markdown",
   "source": [
    "##### Prevalence of coping mechanisms"
   ],
   "metadata": {
    "collapsed": false
   },
   "id": "d40a8cf7d65a4167"
  },
  {
   "cell_type": "code",
   "outputs": [
    {
     "name": "stdout",
     "output_type": "stream",
     "text": [
      "Prevalence of Coping_Struggles:\n",
      "Coping_Struggles\n",
      "No     50.242718\n",
      "Yes    49.757282\n",
      "Name: proportion, dtype: float64\n",
      "\n",
      "Prevalence of Work_Interest:\n",
      "Work_Interest\n",
      "No       35.800971\n",
      "Maybe    34.101942\n",
      "Yes      30.097087\n",
      "Name: proportion, dtype: float64\n",
      "\n",
      "Prevalence of Social_Weakness:\n",
      "Social_Weakness\n",
      "Maybe    34.830097\n",
      "No       33.737864\n",
      "Yes      31.432039\n",
      "Name: proportion, dtype: float64\n"
     ]
    }
   ],
   "source": [
    "# Calculate prevalence of coping mechanisms\n",
    "coping_mechanisms_prevalence = {}\n",
    "coping_columns = ['Coping_Struggles', 'Work_Interest', 'Social_Weakness']\n",
    "\n",
    "for column in coping_columns:\n",
    "    coping_mechanisms_prevalence[column] = data[column].value_counts(normalize=True) * 100\n",
    "\n",
    "# Print prevalence of coping mechanisms\n",
    "for mechanism, prevalence in coping_mechanisms_prevalence.items():\n",
    "    print(f\"Prevalence of {mechanism}:\")\n",
    "    print(prevalence)\n",
    "    print()"
   ],
   "metadata": {
    "collapsed": false,
    "ExecuteTime": {
     "end_time": "2024-01-28T18:41:26.383182900Z",
     "start_time": "2024-01-28T18:41:26.207705600Z"
    }
   },
   "id": "77c880b5df531615",
   "execution_count": 14
  },
  {
   "cell_type": "markdown",
   "source": [
    "##### Prevalence of coping mechanisms"
   ],
   "metadata": {
    "collapsed": false
   },
   "id": "284016c1ba833a43"
  },
  {
   "cell_type": "code",
   "outputs": [
    {
     "name": "stdout",
     "output_type": "stream",
     "text": [
      "Prevalence of Coping_Struggles:\n",
      "Coping_Struggles         No        Yes\n",
      "Age                                   \n",
      "16-20             49.763033  50.236967\n",
      "20-25             50.000000  50.000000\n",
      "25-30             49.756098  50.243902\n",
      "30-Above          51.351351  48.648649\n",
      "\n",
      "Prevalence of Work_Interest:\n",
      "Work_Interest      Maybe         No        Yes\n",
      "Gender                                        \n",
      "Female         33.410138  35.253456  31.336406\n",
      "Male           34.871795  36.410256  28.717949\n",
      "\n",
      "Prevalence of Social_Weakness:\n",
      "Social_Weakness      Maybe         No        Yes\n",
      "Gender                                          \n",
      "Female           34.101382  34.331797  31.566820\n",
      "Male             35.641026  33.076923  31.282051\n"
     ]
    }
   ],
   "source": [
    "# Calculate prevalence of coping mechanisms by demographic groups\n",
    "coping_columns = ['Coping_Struggles', 'Work_Interest', 'Social_Weakness']\n",
    "\n",
    "for column in coping_columns:\n",
    "    print(f\"Prevalence of {column}:\")\n",
    "    if column == 'Coping_Struggles':\n",
    "        prevalence_by_demographic = data.groupby('Age')[column].value_counts(normalize=True).unstack() * 100\n",
    "    else:\n",
    "        prevalence_by_demographic = data.groupby('Gender')[column].value_counts(normalize=True).unstack() * 100\n",
    "    print(prevalence_by_demographic)\n",
    "    print()"
   ],
   "metadata": {
    "collapsed": false,
    "ExecuteTime": {
     "end_time": "2024-01-28T18:42:51.914383100Z",
     "start_time": "2024-01-28T18:42:51.623611800Z"
    }
   },
   "id": "520737e9f670da47",
   "execution_count": 15
  },
  {
   "cell_type": "markdown",
   "source": [
    "##### Prevalence of social interaction and support"
   ],
   "metadata": {
    "collapsed": false
   },
   "id": "cba6643794377bab"
  },
  {
   "cell_type": "code",
   "outputs": [
    {
     "name": "stdout",
     "output_type": "stream",
     "text": [
      "Prevalence of Social_Weakness:\n",
      "Social_Weakness\n",
      "Maybe    34.830097\n",
      "No       33.737864\n",
      "Yes      31.432039\n",
      "Name: proportion, dtype: float64\n"
     ]
    }
   ],
   "source": [
    "# Calculate prevalence of social interaction and support perceptions\n",
    "perception_columns = ['Social_Weakness']\n",
    "\n",
    "for column in perception_columns:\n",
    "    print(f\"Prevalence of {column}:\")\n",
    "    perception_prevalence = data[column].value_counts(normalize=True) * 100\n",
    "    print(perception_prevalence)\n",
    "    print()"
   ],
   "metadata": {
    "collapsed": false,
    "ExecuteTime": {
     "end_time": "2024-01-28T18:44:40.396927500Z",
     "start_time": "2024-01-28T18:44:40.256423200Z"
    }
   },
   "id": "4e30b27453326e48",
   "execution_count": 16
  },
  {
   "cell_type": "markdown",
   "source": [
    "##### Quarantine Frustrations"
   ],
   "metadata": {
    "collapsed": false
   },
   "id": "5125abeb13feb641"
  },
  {
   "cell_type": "code",
   "outputs": [
    {
     "name": "stdout",
     "output_type": "stream",
     "text": [
      "Prevalence of Growing_Stress by Quarantine Frustrations:\n",
      "Growing_Stress               Maybe         No        Yes\n",
      "Quarantine_Frustrations                                 \n",
      "Maybe                    33.082707  33.082707  33.834586\n",
      "No                       35.039370  31.102362  33.858268\n",
      "Yes                      29.605263  29.276316  41.118421\n",
      "\n",
      "Prevalence of Changes_Habits by Quarantine Frustrations:\n",
      "Changes_Habits               Maybe         No        Yes\n",
      "Quarantine_Frustrations                                 \n",
      "Maybe                    26.691729  34.962406  38.345865\n",
      "No                       35.826772  26.771654  37.401575\n",
      "Yes                      34.868421  29.605263  35.526316\n",
      "\n",
      "Prevalence of Coping_Struggles by Quarantine Frustrations:\n",
      "Coping_Struggles                No        Yes\n",
      "Quarantine_Frustrations                      \n",
      "Maybe                    51.127820  48.872180\n",
      "No                       49.606299  50.393701\n",
      "Yes                      50.000000  50.000000\n"
     ]
    }
   ],
   "source": [
    "# Group data by Quarantine Frustrations\n",
    "grouped_by_frustrations = data.groupby('Quarantine_Frustrations')\n",
    "\n",
    "# Calculate prevalence of other mental health indicators by group\n",
    "mental_health_indicators = ['Growing_Stress', 'Changes_Habits', 'Coping_Struggles']\n",
    "for indicator in mental_health_indicators:\n",
    "    print(f\"Prevalence of {indicator} by Quarantine Frustrations:\")\n",
    "    prevalence_by_frustrations = grouped_by_frustrations[indicator].value_counts(normalize=True).unstack() * 100\n",
    "    print(prevalence_by_frustrations)\n",
    "    print()"
   ],
   "metadata": {
    "collapsed": false,
    "ExecuteTime": {
     "end_time": "2024-01-28T18:46:41.778101100Z",
     "start_time": "2024-01-28T18:46:41.527413700Z"
    }
   },
   "id": "cd2feab744eecd1e",
   "execution_count": 17
  },
  {
   "cell_type": "markdown",
   "source": [
    "##### Weight Change"
   ],
   "metadata": {
    "collapsed": false
   },
   "id": "cd07aaa35171e33b"
  },
  {
   "cell_type": "code",
   "outputs": [
    {
     "name": "stdout",
     "output_type": "stream",
     "text": [
      "Weight_Change              Maybe         No        Yes\n",
      "Mental_Health_History                                 \n",
      "Maybe                  38.652482  31.205674  30.141844\n",
      "No                     33.450704  32.042254  34.507042\n",
      "Yes                    29.844961  37.209302  32.945736\n"
     ]
    }
   ],
   "source": [
    "# Group data by Mental Health History\n",
    "grouped_by_history = data.groupby('Mental_Health_History')\n",
    "\n",
    "# Calculate prevalence of weight changes by group\n",
    "weight_change_prevalence = grouped_by_history['Weight_Change'].value_counts(normalize=True).unstack() * 100\n",
    "print(weight_change_prevalence)"
   ],
   "metadata": {
    "collapsed": false,
    "ExecuteTime": {
     "end_time": "2024-01-28T18:54:53.616828400Z",
     "start_time": "2024-01-28T18:54:53.437311800Z"
    }
   },
   "id": "b04641ff16843965",
   "execution_count": 20
  },
  {
   "cell_type": "code",
   "outputs": [
    {
     "name": "stdout",
     "output_type": "stream",
     "text": [
      "Weight_Change\n",
      "Maybe    34.101942\n",
      "No       33.373786\n",
      "Yes      32.524272\n",
      "Name: proportion, dtype: float64\n"
     ]
    }
   ],
   "source": [
    "# Calculate prevalence of weight changes\n",
    "weight_change_prevalence = data['Weight_Change'].value_counts(normalize=True) * 100\n",
    "print(weight_change_prevalence)"
   ],
   "metadata": {
    "collapsed": false,
    "ExecuteTime": {
     "end_time": "2024-01-28T18:56:22.204136500Z",
     "start_time": "2024-01-28T18:56:22.012567700Z"
    }
   },
   "id": "d7387ed2cecfd096",
   "execution_count": 21
  },
  {
   "cell_type": "markdown",
   "source": [
    "##### Mental Health History"
   ],
   "metadata": {
    "collapsed": false
   },
   "id": "fac29bf586c3f350"
  },
  {
   "cell_type": "code",
   "outputs": [
    {
     "name": "stdout",
     "output_type": "stream",
     "text": [
      "Mental_Health_History\n",
      "No       34.466019\n",
      "Maybe    34.223301\n",
      "Yes      31.310680\n",
      "Name: proportion, dtype: float64\n"
     ]
    }
   ],
   "source": [
    "# Calculate prevalence of mental health history\n",
    "mental_health_history_prevalence = data['Mental_Health_History'].value_counts(normalize=True) * 100\n",
    "print(mental_health_history_prevalence)"
   ],
   "metadata": {
    "collapsed": false,
    "ExecuteTime": {
     "end_time": "2024-01-28T18:56:41.728374100Z",
     "start_time": "2024-01-28T18:56:41.523754200Z"
    }
   },
   "id": "b5d48d44656601f5",
   "execution_count": 22
  },
  {
   "cell_type": "code",
   "outputs": [
    {
     "name": "stdout",
     "output_type": "stream",
     "text": [
      "Mental_Health_History      Maybe         No        Yes\n",
      "Gender                                                \n",
      "Female                 36.405530  32.949309  30.645161\n",
      "Male                   31.794872  36.153846  32.051282\n"
     ]
    }
   ],
   "source": [
    "# Calculate prevalence of mental health history by gender\n",
    "mental_health_history_prevalence_by_gender = data.groupby('Gender')['Mental_Health_History'].value_counts(normalize=True).unstack() * 100\n",
    "print(mental_health_history_prevalence_by_gender)"
   ],
   "metadata": {
    "collapsed": false,
    "ExecuteTime": {
     "end_time": "2024-01-28T18:57:09.945906400Z",
     "start_time": "2024-01-28T18:57:09.764440600Z"
    }
   },
   "id": "8e7eb271d4c02a61",
   "execution_count": 23
  },
  {
   "cell_type": "code",
   "outputs": [
    {
     "name": "stdout",
     "output_type": "stream",
     "text": [
      "Mental_Health_History      Maybe         No        Yes\n",
      "Age                                                   \n",
      "16-20                  37.914692  32.701422  29.383886\n",
      "20-25                  34.408602  31.720430  33.870968\n",
      "25-30                  31.219512  37.073171  31.707317\n",
      "30-Above               33.333333  36.036036  30.630631\n"
     ]
    }
   ],
   "source": [
    "# Calculate prevalence of mental health history by age\n",
    "mental_health_history_prevalence_by_age = data.groupby('Age')['Mental_Health_History'].value_counts(normalize=True).unstack() * 100\n",
    "print(mental_health_history_prevalence_by_age)"
   ],
   "metadata": {
    "collapsed": false,
    "ExecuteTime": {
     "end_time": "2024-01-28T18:57:11.471700Z",
     "start_time": "2024-01-28T18:57:11.212744800Z"
    }
   },
   "id": "330ead59fd4d1434",
   "execution_count": 24
  }
 ],
 "metadata": {
  "kernelspec": {
   "display_name": "Python 3",
   "language": "python",
   "name": "python3"
  },
  "language_info": {
   "codemirror_mode": {
    "name": "ipython",
    "version": 2
   },
   "file_extension": ".py",
   "mimetype": "text/x-python",
   "name": "python",
   "nbconvert_exporter": "python",
   "pygments_lexer": "ipython2",
   "version": "2.7.6"
  }
 },
 "nbformat": 4,
 "nbformat_minor": 5
}
