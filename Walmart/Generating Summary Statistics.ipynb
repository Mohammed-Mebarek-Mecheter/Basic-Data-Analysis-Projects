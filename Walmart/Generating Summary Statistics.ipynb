{
 "cells": [
  {
   "cell_type": "markdown",
   "source": [
    "### Import relevant libraries"
   ],
   "metadata": {
    "collapsed": false
   },
   "id": "53fd19f1dc6b90dc"
  },
  {
   "cell_type": "code",
   "execution_count": 11,
   "outputs": [],
   "source": [
    "import numpy as np\n",
    "import pandas as pd\n",
    "from scipy import stats"
   ],
   "metadata": {
    "collapsed": false,
    "ExecuteTime": {
     "end_time": "2023-08-14T13:54:57.422284Z",
     "start_time": "2023-08-14T13:54:54.639002700Z"
    }
   },
   "id": "631ceb1eafa0a77e"
  },
  {
   "cell_type": "markdown",
   "source": [
    "### Load data into dataframe"
   ],
   "metadata": {
    "collapsed": false
   },
   "id": "cf3a0ac190807c8d"
  },
  {
   "cell_type": "code",
   "execution_count": 3,
   "outputs": [],
   "source": [
    "walmart_data = pd.read_csv(\"data/Walmart.csv\")"
   ],
   "metadata": {
    "collapsed": false,
    "ExecuteTime": {
     "end_time": "2023-08-14T13:43:09.767814Z",
     "start_time": "2023-08-14T13:43:09.650060100Z"
    }
   },
   "id": "550d0e03fc414f43"
  },
  {
   "cell_type": "markdown",
   "source": [
    "### Inspect the dataframe"
   ],
   "metadata": {
    "collapsed": false
   },
   "id": "fa289f05c50774fd"
  },
  {
   "cell_type": "code",
   "execution_count": 4,
   "outputs": [
    {
     "data": {
      "text/plain": "   Store        Date  Weekly_Sales  Holiday_Flag  Temperature  Fuel_Price  \\\n0      1    5/2/2010    1643690.90             0        42.31       2.572   \n1      1   12/2/2010    1641957.44             1        38.51       2.548   \n2      1  19-02-2010    1611968.17             0        39.93       2.514   \n3      1  26-02-2010    1409727.59             0        46.63       2.561   \n4      1    5/3/2010    1554806.68             0        46.50       2.625   \n\n          CPI  Unemployment  \n0  211.096358         8.106  \n1  211.242170         8.106  \n2  211.289143         8.106  \n3  211.319643         8.106  \n4  211.350143         8.106  ",
      "text/html": "<div>\n<style scoped>\n    .dataframe tbody tr th:only-of-type {\n        vertical-align: middle;\n    }\n\n    .dataframe tbody tr th {\n        vertical-align: top;\n    }\n\n    .dataframe thead th {\n        text-align: right;\n    }\n</style>\n<table border=\"1\" class=\"dataframe\">\n  <thead>\n    <tr style=\"text-align: right;\">\n      <th></th>\n      <th>Store</th>\n      <th>Date</th>\n      <th>Weekly_Sales</th>\n      <th>Holiday_Flag</th>\n      <th>Temperature</th>\n      <th>Fuel_Price</th>\n      <th>CPI</th>\n      <th>Unemployment</th>\n    </tr>\n  </thead>\n  <tbody>\n    <tr>\n      <th>0</th>\n      <td>1</td>\n      <td>5/2/2010</td>\n      <td>1643690.90</td>\n      <td>0</td>\n      <td>42.31</td>\n      <td>2.572</td>\n      <td>211.096358</td>\n      <td>8.106</td>\n    </tr>\n    <tr>\n      <th>1</th>\n      <td>1</td>\n      <td>12/2/2010</td>\n      <td>1641957.44</td>\n      <td>1</td>\n      <td>38.51</td>\n      <td>2.548</td>\n      <td>211.242170</td>\n      <td>8.106</td>\n    </tr>\n    <tr>\n      <th>2</th>\n      <td>1</td>\n      <td>19-02-2010</td>\n      <td>1611968.17</td>\n      <td>0</td>\n      <td>39.93</td>\n      <td>2.514</td>\n      <td>211.289143</td>\n      <td>8.106</td>\n    </tr>\n    <tr>\n      <th>3</th>\n      <td>1</td>\n      <td>26-02-2010</td>\n      <td>1409727.59</td>\n      <td>0</td>\n      <td>46.63</td>\n      <td>2.561</td>\n      <td>211.319643</td>\n      <td>8.106</td>\n    </tr>\n    <tr>\n      <th>4</th>\n      <td>1</td>\n      <td>5/3/2010</td>\n      <td>1554806.68</td>\n      <td>0</td>\n      <td>46.50</td>\n      <td>2.625</td>\n      <td>211.350143</td>\n      <td>8.106</td>\n    </tr>\n  </tbody>\n</table>\n</div>"
     },
     "execution_count": 4,
     "metadata": {},
     "output_type": "execute_result"
    }
   ],
   "source": [
    "walmart_data.head(5)"
   ],
   "metadata": {
    "collapsed": false,
    "ExecuteTime": {
     "end_time": "2023-08-14T13:44:01.475740800Z",
     "start_time": "2023-08-14T13:44:01.394240900Z"
    }
   },
   "id": "7b631f1be3b5b533"
  },
  {
   "cell_type": "code",
   "execution_count": 5,
   "outputs": [
    {
     "data": {
      "text/plain": "Store             int64\nDate             object\nWeekly_Sales    float64\nHoliday_Flag      int64\nTemperature     float64\nFuel_Price      float64\nCPI             float64\nUnemployment    float64\ndtype: object"
     },
     "execution_count": 5,
     "metadata": {},
     "output_type": "execute_result"
    }
   ],
   "source": [
    "walmart_data.dtypes"
   ],
   "metadata": {
    "collapsed": false,
    "ExecuteTime": {
     "end_time": "2023-08-14T13:46:16.215243500Z",
     "start_time": "2023-08-14T13:46:16.106057200Z"
    }
   },
   "id": "14f868c3ddbb88d5"
  },
  {
   "cell_type": "code",
   "execution_count": 6,
   "outputs": [
    {
     "data": {
      "text/plain": "(6435, 8)"
     },
     "execution_count": 6,
     "metadata": {},
     "output_type": "execute_result"
    }
   ],
   "source": [
    "walmart_data.shape"
   ],
   "metadata": {
    "collapsed": false,
    "ExecuteTime": {
     "end_time": "2023-08-14T13:46:43.361271700Z",
     "start_time": "2023-08-14T13:46:43.302184300Z"
    }
   },
   "id": "b4d2f9b2cbc58469"
  },
  {
   "cell_type": "markdown",
   "source": [
    "### Analyse the mean of the Weekly_Sales column using the mean method in numpy"
   ],
   "metadata": {
    "collapsed": false
   },
   "id": "421055f8f2d32c39"
  },
  {
   "cell_type": "code",
   "execution_count": 7,
   "outputs": [
    {
     "data": {
      "text/plain": "1046964.8775617715"
     },
     "execution_count": 7,
     "metadata": {},
     "output_type": "execute_result"
    }
   ],
   "source": [
    "data_mean = np.mean(walmart_data[\"Weekly_Sales\"])\n",
    "data_mean"
   ],
   "metadata": {
    "collapsed": false,
    "ExecuteTime": {
     "end_time": "2023-08-14T13:49:18.951469300Z",
     "start_time": "2023-08-14T13:49:18.931146300Z"
    }
   },
   "id": "b0b07bf0d9e1fdf2"
  },
  {
   "cell_type": "markdown",
   "source": [
    "### Analyse the mean, median, mode & the variance of the Weekly_Sales column"
   ],
   "metadata": {
    "collapsed": false
   },
   "id": "622aa421c839d225"
  },
  {
   "cell_type": "code",
   "execution_count": 8,
   "outputs": [
    {
     "data": {
      "text/plain": "1046964.8775617715"
     },
     "execution_count": 8,
     "metadata": {},
     "output_type": "execute_result"
    }
   ],
   "source": [
    "data_mean = walmart_data[\"Weekly_Sales\"].mean()\n",
    "data_mean"
   ],
   "metadata": {
    "collapsed": false,
    "ExecuteTime": {
     "end_time": "2023-08-14T13:50:52.860382600Z",
     "start_time": "2023-08-14T13:50:52.826228900Z"
    }
   },
   "id": "465edb0a5a270173"
  },
  {
   "cell_type": "code",
   "execution_count": 9,
   "outputs": [
    {
     "data": {
      "text/plain": "960746.04"
     },
     "execution_count": 9,
     "metadata": {},
     "output_type": "execute_result"
    }
   ],
   "source": [
    "data_median = walmart_data[\"Weekly_Sales\"].median()\n",
    "data_median"
   ],
   "metadata": {
    "collapsed": false,
    "ExecuteTime": {
     "end_time": "2023-08-14T13:53:33.831986Z",
     "start_time": "2023-08-14T13:53:33.747941Z"
    }
   },
   "id": "4856301345e59ce6"
  },
  {
   "cell_type": "code",
   "execution_count": 13,
   "outputs": [
    {
     "data": {
      "text/plain": "ModeResult(mode=array([209986.25]), count=array([1]))"
     },
     "execution_count": 13,
     "metadata": {},
     "output_type": "execute_result"
    }
   ],
   "source": [
    "data_mode = stats.mode(walmart_data[\"Weekly_Sales\"], keepdims=True)\n",
    "data_mode"
   ],
   "metadata": {
    "collapsed": false,
    "ExecuteTime": {
     "end_time": "2023-08-14T13:57:02.865690600Z",
     "start_time": "2023-08-14T13:57:02.850060600Z"
    }
   },
   "id": "510580dc64bee9fc"
  },
  {
   "cell_type": "code",
   "execution_count": 14,
   "outputs": [
    {
     "data": {
      "text/plain": "318509684088.3009"
     },
     "execution_count": 14,
     "metadata": {},
     "output_type": "execute_result"
    }
   ],
   "source": [
    "data_variance = walmart_data[\"Weekly_Sales\"].var()\n",
    "data_variance"
   ],
   "metadata": {
    "collapsed": false,
    "ExecuteTime": {
     "end_time": "2023-08-14T13:59:34.985693900Z",
     "start_time": "2023-08-14T13:59:34.920275300Z"
    }
   },
   "id": "a379ee5cb8ecee2d"
  },
  {
   "cell_type": "markdown",
   "source": [
    "### Identify the standard deviation of a dataset using the std method in pandas"
   ],
   "metadata": {
    "collapsed": false
   },
   "id": "b02f93242e6ab4b8"
  },
  {
   "cell_type": "code",
   "execution_count": 15,
   "outputs": [
    {
     "data": {
      "text/plain": "564366.6220536974"
     },
     "execution_count": 15,
     "metadata": {},
     "output_type": "execute_result"
    }
   ],
   "source": [
    "data_sd = walmart_data[\"Weekly_Sales\"].std()\n",
    "data_sd"
   ],
   "metadata": {
    "collapsed": false,
    "ExecuteTime": {
     "end_time": "2023-08-14T14:00:52.009055600Z",
     "start_time": "2023-08-14T14:00:51.958860500Z"
    }
   },
   "id": "410dcf318af621c2"
  },
  {
   "cell_type": "markdown",
   "source": [
    "### Generate the range of a dataset using pandas"
   ],
   "metadata": {
    "collapsed": false
   },
   "id": "a034b113644ce9bf"
  },
  {
   "cell_type": "code",
   "execution_count": 18,
   "outputs": [
    {
     "data": {
      "text/plain": "3608700.2"
     },
     "execution_count": 18,
     "metadata": {},
     "output_type": "execute_result"
    }
   ],
   "source": [
    "data_min = walmart_data[\"Weekly_Sales\"].min()\n",
    "data_max = walmart_data[\"Weekly_Sales\"].max()\n",
    "data_range = data_max - data_min\n",
    "data_range"
   ],
   "metadata": {
    "collapsed": false,
    "ExecuteTime": {
     "end_time": "2023-08-14T14:04:58.034209200Z",
     "start_time": "2023-08-14T14:04:58.009626800Z"
    }
   },
   "id": "fc39f05b7704bde3"
  },
  {
   "cell_type": "markdown",
   "source": [
    "### Identify the percentile of a dataset using numpy"
   ],
   "metadata": {
    "collapsed": false
   },
   "id": "458d93a9a48321f3"
  },
  {
   "cell_type": "code",
   "execution_count": 19,
   "outputs": [
    {
     "data": {
      "text/plain": "960746.04"
     },
     "execution_count": 19,
     "metadata": {},
     "output_type": "execute_result"
    }
   ],
   "source": [
    "data_percentile = np.percentile(walmart_data[\"Weekly_Sales\"],50)\n",
    "data_percentile"
   ],
   "metadata": {
    "collapsed": false,
    "ExecuteTime": {
     "end_time": "2023-08-14T14:07:33.865304500Z",
     "start_time": "2023-08-14T14:07:33.827086100Z"
    }
   },
   "id": "ab53588d8d4d37d8"
  },
  {
   "cell_type": "markdown",
   "source": [
    "### Check the quartile of a dataset using numpy"
   ],
   "metadata": {
    "collapsed": false
   },
   "id": "cd342a6a7da1d487"
  },
  {
   "cell_type": "code",
   "execution_count": 20,
   "outputs": [
    {
     "data": {
      "text/plain": "1420158.66"
     },
     "execution_count": 20,
     "metadata": {},
     "output_type": "execute_result"
    }
   ],
   "source": [
    "data_quartile = np.quantile(walmart_data[\"Weekly_Sales\"],0.75)\n",
    "data_quartile"
   ],
   "metadata": {
    "collapsed": false,
    "ExecuteTime": {
     "end_time": "2023-08-14T14:08:42.397685100Z",
     "start_time": "2023-08-14T14:08:42.360934400Z"
    }
   },
   "id": "3fa7e525b7a12ef2"
  },
  {
   "cell_type": "markdown",
   "source": [
    "### Analyse the interquartile range (IQR) of a dataset using the stats library"
   ],
   "metadata": {
    "collapsed": false
   },
   "id": "fe504e552d05fc06"
  },
  {
   "cell_type": "code",
   "execution_count": 21,
   "outputs": [
    {
     "data": {
      "text/plain": "866808.5549999999"
     },
     "execution_count": 21,
     "metadata": {},
     "output_type": "execute_result"
    }
   ],
   "source": [
    "data_IQR = stats.iqr(walmart_data[\"Weekly_Sales\"], interpolation = 'midpoint')\n",
    "data_IQR"
   ],
   "metadata": {
    "collapsed": false,
    "ExecuteTime": {
     "end_time": "2023-08-14T14:10:24.318435600Z",
     "start_time": "2023-08-14T14:10:24.225240700Z"
    }
   },
   "id": "97863e947f0eb188"
  }
 ],
 "metadata": {
  "kernelspec": {
   "display_name": "Python 3",
   "language": "python",
   "name": "python3"
  },
  "language_info": {
   "codemirror_mode": {
    "name": "ipython",
    "version": 2
   },
   "file_extension": ".py",
   "mimetype": "text/x-python",
   "name": "python",
   "nbconvert_exporter": "python",
   "pygments_lexer": "ipython2",
   "version": "2.7.6"
  }
 },
 "nbformat": 4,
 "nbformat_minor": 5
}
