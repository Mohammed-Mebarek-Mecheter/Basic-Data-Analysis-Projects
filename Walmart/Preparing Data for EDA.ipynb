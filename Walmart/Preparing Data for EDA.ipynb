{
 "cells": [
  {
   "cell_type": "markdown",
   "source": [
    "### Import relevant libraries"
   ],
   "metadata": {
    "collapsed": false
   },
   "id": "8258563aac558044"
  },
  {
   "cell_type": "code",
   "execution_count": 8,
   "outputs": [],
   "source": [
    "import numpy as np\n",
    "import pandas as pd"
   ],
   "metadata": {
    "collapsed": false,
    "ExecuteTime": {
     "end_time": "2023-08-14T14:20:14.343052300Z",
     "start_time": "2023-08-14T14:20:14.242313700Z"
    }
   },
   "id": "55d1607868850af5"
  },
  {
   "cell_type": "markdown",
   "source": [
    "### Load dataset"
   ],
   "metadata": {
    "collapsed": false
   },
   "id": "12605afd8d47247b"
  },
  {
   "cell_type": "code",
   "execution_count": 9,
   "outputs": [],
   "source": [
    "walmart_data = pd.read_csv(\"data/Walmart.csv\")"
   ],
   "metadata": {
    "collapsed": false,
    "ExecuteTime": {
     "end_time": "2023-08-14T14:20:14.382262100Z",
     "start_time": "2023-08-14T14:20:14.272614400Z"
    }
   },
   "id": "3e8b0213409578d1"
  },
  {
   "cell_type": "markdown",
   "source": [
    "### Inspect first 2 rows and data types of the dataset"
   ],
   "metadata": {
    "collapsed": false
   },
   "id": "17aec0162a4fb4e5"
  },
  {
   "cell_type": "code",
   "execution_count": 10,
   "outputs": [
    {
     "data": {
      "text/plain": "                       0           1\nStore                  1           1\nDate            5/2/2010   12/2/2010\nWeekly_Sales   1643690.9  1641957.44\nHoliday_Flag           0           1\nTemperature        42.31       38.51\nFuel_Price         2.572       2.548\nCPI           211.096358   211.24217\nUnemployment       8.106       8.106",
      "text/html": "<div>\n<style scoped>\n    .dataframe tbody tr th:only-of-type {\n        vertical-align: middle;\n    }\n\n    .dataframe tbody tr th {\n        vertical-align: top;\n    }\n\n    .dataframe thead th {\n        text-align: right;\n    }\n</style>\n<table border=\"1\" class=\"dataframe\">\n  <thead>\n    <tr style=\"text-align: right;\">\n      <th></th>\n      <th>0</th>\n      <th>1</th>\n    </tr>\n  </thead>\n  <tbody>\n    <tr>\n      <th>Store</th>\n      <td>1</td>\n      <td>1</td>\n    </tr>\n    <tr>\n      <th>Date</th>\n      <td>5/2/2010</td>\n      <td>12/2/2010</td>\n    </tr>\n    <tr>\n      <th>Weekly_Sales</th>\n      <td>1643690.9</td>\n      <td>1641957.44</td>\n    </tr>\n    <tr>\n      <th>Holiday_Flag</th>\n      <td>0</td>\n      <td>1</td>\n    </tr>\n    <tr>\n      <th>Temperature</th>\n      <td>42.31</td>\n      <td>38.51</td>\n    </tr>\n    <tr>\n      <th>Fuel_Price</th>\n      <td>2.572</td>\n      <td>2.548</td>\n    </tr>\n    <tr>\n      <th>CPI</th>\n      <td>211.096358</td>\n      <td>211.24217</td>\n    </tr>\n    <tr>\n      <th>Unemployment</th>\n      <td>8.106</td>\n      <td>8.106</td>\n    </tr>\n  </tbody>\n</table>\n</div>"
     },
     "execution_count": 10,
     "metadata": {},
     "output_type": "execute_result"
    }
   ],
   "source": [
    "walmart_data.head(2).T"
   ],
   "metadata": {
    "collapsed": false,
    "ExecuteTime": {
     "end_time": "2023-08-14T14:20:14.386261500Z",
     "start_time": "2023-08-14T14:20:14.317400500Z"
    }
   },
   "id": "84b1fa909ae66014"
  },
  {
   "cell_type": "code",
   "execution_count": 11,
   "outputs": [
    {
     "data": {
      "text/plain": "Store             int64\nDate             object\nWeekly_Sales    float64\nHoliday_Flag      int64\nTemperature     float64\nFuel_Price      float64\nCPI             float64\nUnemployment    float64\ndtype: object"
     },
     "execution_count": 11,
     "metadata": {},
     "output_type": "execute_result"
    }
   ],
   "source": [
    "walmart_data.dtypes"
   ],
   "metadata": {
    "collapsed": false,
    "ExecuteTime": {
     "end_time": "2023-08-14T14:20:14.434233200Z",
     "start_time": "2023-08-14T14:20:14.350047700Z"
    }
   },
   "id": "a7a36da34be6dc57"
  },
  {
   "cell_type": "code",
   "execution_count": 12,
   "outputs": [
    {
     "data": {
      "text/plain": "(6435, 8)"
     },
     "execution_count": 12,
     "metadata": {},
     "output_type": "execute_result"
    }
   ],
   "source": [
    "walmart_data.shape"
   ],
   "metadata": {
    "collapsed": false,
    "ExecuteTime": {
     "end_time": "2023-08-14T14:20:39.108866500Z",
     "start_time": "2023-08-14T14:20:39.082455500Z"
    }
   },
   "id": "b31fc3734dc059d4"
  },
  {
   "cell_type": "markdown",
   "source": [
    "### Check the average weekly sales for each unique temperature value"
   ],
   "metadata": {
    "collapsed": false
   },
   "id": "af067821f7abb2e0"
  },
  {
   "cell_type": "code",
   "execution_count": 15,
   "outputs": [
    {
     "data": {
      "text/plain": "Temperature\n-2.06      5.580278e+05\n 5.54      8.174851e+05\n 6.23      1.083071e+06\n 7.46      5.938755e+05\n 9.51      7.759104e+05\n               ...     \n 99.20     2.391984e+05\n 99.22     8.155418e+05\n 99.66     2.370958e+05\n 100.07    2.977535e+05\n 100.14    2.809378e+05\nName: Weekly_Sales, Length: 3528, dtype: float64"
     },
     "execution_count": 15,
     "metadata": {},
     "output_type": "execute_result"
    }
   ],
   "source": [
    "walmart_data.groupby('Temperature')['Weekly_Sales'].mean()"
   ],
   "metadata": {
    "collapsed": false,
    "ExecuteTime": {
     "end_time": "2023-08-14T14:40:12.176468100Z",
     "start_time": "2023-08-14T14:40:12.162229500Z"
    }
   },
   "id": "91cb510c700fac5a"
  },
  {
   "cell_type": "markdown",
   "source": [
    "### Check for missing values"
   ],
   "metadata": {
    "collapsed": false
   },
   "id": "f5cf138c5609e2b5"
  },
  {
   "cell_type": "code",
   "execution_count": 16,
   "outputs": [
    {
     "data": {
      "text/plain": "Store           0\nDate            0\nWeekly_Sales    0\nHoliday_Flag    0\nTemperature     0\nFuel_Price      0\nCPI             0\nUnemployment    0\ndtype: int64"
     },
     "execution_count": 16,
     "metadata": {},
     "output_type": "execute_result"
    }
   ],
   "source": [
    "walmart_data.isnull().sum()"
   ],
   "metadata": {
    "collapsed": false,
    "ExecuteTime": {
     "end_time": "2023-08-14T14:44:22.652529600Z",
     "start_time": "2023-08-14T14:44:22.612438300Z"
    }
   },
   "id": "317fe25e67cc303a"
  },
  {
   "cell_type": "code",
   "execution_count": 18,
   "outputs": [
    {
     "data": {
      "text/plain": "      Store        Date  Weekly_Sales  Holiday_Flag  Temperature  Fuel_Price  \\\n1905     14  24-12-2010    3818686.45             0        30.59       3.141   \n2763     20  24-12-2010    3766687.43             0        25.17       3.141   \n1333     10  24-12-2010    3749057.69             0        57.06       3.236   \n527       4  23-12-2011    3676388.98             0        35.92       3.103   \n1762     13  24-12-2010    3595903.20             0        34.90       2.846   \n...     ...         ...           ...           ...          ...         ...   \n4671     33   2/12/2011     220060.35             0        59.12       3.701   \n4623     33  31-12-2010     219804.85             1        52.91       3.148   \n4675     33  30-12-2011     215359.21             1        51.60       3.428   \n4614     33  29-10-2010     213538.32             0        71.34       3.130   \n4619     33   3/12/2010     209986.25             0        52.82       3.041   \n\n             CPI  Unemployment  \n1905  182.544590         8.724  \n2763  204.637673         7.484  \n1333  126.983581         9.003  \n527   129.984548         5.143  \n1762  126.983581         7.795  \n...          ...           ...  \n4671  129.845967         8.010  \n4623  127.087677         9.265  \n4675  130.071032         8.010  \n4614  126.436419         9.265  \n4619  126.731333         9.265  \n\n[6435 rows x 8 columns]",
      "text/html": "<div>\n<style scoped>\n    .dataframe tbody tr th:only-of-type {\n        vertical-align: middle;\n    }\n\n    .dataframe tbody tr th {\n        vertical-align: top;\n    }\n\n    .dataframe thead th {\n        text-align: right;\n    }\n</style>\n<table border=\"1\" class=\"dataframe\">\n  <thead>\n    <tr style=\"text-align: right;\">\n      <th></th>\n      <th>Store</th>\n      <th>Date</th>\n      <th>Weekly_Sales</th>\n      <th>Holiday_Flag</th>\n      <th>Temperature</th>\n      <th>Fuel_Price</th>\n      <th>CPI</th>\n      <th>Unemployment</th>\n    </tr>\n  </thead>\n  <tbody>\n    <tr>\n      <th>1905</th>\n      <td>14</td>\n      <td>24-12-2010</td>\n      <td>3818686.45</td>\n      <td>0</td>\n      <td>30.59</td>\n      <td>3.141</td>\n      <td>182.544590</td>\n      <td>8.724</td>\n    </tr>\n    <tr>\n      <th>2763</th>\n      <td>20</td>\n      <td>24-12-2010</td>\n      <td>3766687.43</td>\n      <td>0</td>\n      <td>25.17</td>\n      <td>3.141</td>\n      <td>204.637673</td>\n      <td>7.484</td>\n    </tr>\n    <tr>\n      <th>1333</th>\n      <td>10</td>\n      <td>24-12-2010</td>\n      <td>3749057.69</td>\n      <td>0</td>\n      <td>57.06</td>\n      <td>3.236</td>\n      <td>126.983581</td>\n      <td>9.003</td>\n    </tr>\n    <tr>\n      <th>527</th>\n      <td>4</td>\n      <td>23-12-2011</td>\n      <td>3676388.98</td>\n      <td>0</td>\n      <td>35.92</td>\n      <td>3.103</td>\n      <td>129.984548</td>\n      <td>5.143</td>\n    </tr>\n    <tr>\n      <th>1762</th>\n      <td>13</td>\n      <td>24-12-2010</td>\n      <td>3595903.20</td>\n      <td>0</td>\n      <td>34.90</td>\n      <td>2.846</td>\n      <td>126.983581</td>\n      <td>7.795</td>\n    </tr>\n    <tr>\n      <th>...</th>\n      <td>...</td>\n      <td>...</td>\n      <td>...</td>\n      <td>...</td>\n      <td>...</td>\n      <td>...</td>\n      <td>...</td>\n      <td>...</td>\n    </tr>\n    <tr>\n      <th>4671</th>\n      <td>33</td>\n      <td>2/12/2011</td>\n      <td>220060.35</td>\n      <td>0</td>\n      <td>59.12</td>\n      <td>3.701</td>\n      <td>129.845967</td>\n      <td>8.010</td>\n    </tr>\n    <tr>\n      <th>4623</th>\n      <td>33</td>\n      <td>31-12-2010</td>\n      <td>219804.85</td>\n      <td>1</td>\n      <td>52.91</td>\n      <td>3.148</td>\n      <td>127.087677</td>\n      <td>9.265</td>\n    </tr>\n    <tr>\n      <th>4675</th>\n      <td>33</td>\n      <td>30-12-2011</td>\n      <td>215359.21</td>\n      <td>1</td>\n      <td>51.60</td>\n      <td>3.428</td>\n      <td>130.071032</td>\n      <td>8.010</td>\n    </tr>\n    <tr>\n      <th>4614</th>\n      <td>33</td>\n      <td>29-10-2010</td>\n      <td>213538.32</td>\n      <td>0</td>\n      <td>71.34</td>\n      <td>3.130</td>\n      <td>126.436419</td>\n      <td>9.265</td>\n    </tr>\n    <tr>\n      <th>4619</th>\n      <td>33</td>\n      <td>3/12/2010</td>\n      <td>209986.25</td>\n      <td>0</td>\n      <td>52.82</td>\n      <td>3.041</td>\n      <td>126.731333</td>\n      <td>9.265</td>\n    </tr>\n  </tbody>\n</table>\n<p>6435 rows × 8 columns</p>\n</div>"
     },
     "execution_count": 18,
     "metadata": {},
     "output_type": "execute_result"
    }
   ],
   "source": [
    "sorted_data = walmart_data.sort_values('Weekly_Sales', ascending=False)\n",
    "sorted_data"
   ],
   "metadata": {
    "collapsed": false,
    "ExecuteTime": {
     "end_time": "2023-08-14T14:48:28.294879500Z",
     "start_time": "2023-08-14T14:48:28.223927300Z"
    }
   },
   "id": "a8b81a78c72e2584"
  },
  {
   "cell_type": "code",
   "execution_count": 19,
   "outputs": [
    {
     "data": {
      "text/plain": "      Store  Weekly_Sales\n1905     14    3818686.45\n2763     20    3766687.43\n1333     10    3749057.69\n527       4    3676388.98\n1762     13    3595903.20\n...     ...           ...\n4671     33     220060.35\n4623     33     219804.85\n4675     33     215359.21\n4614     33     213538.32\n4619     33     209986.25\n\n[6435 rows x 2 columns]",
      "text/html": "<div>\n<style scoped>\n    .dataframe tbody tr th:only-of-type {\n        vertical-align: middle;\n    }\n\n    .dataframe tbody tr th {\n        vertical-align: top;\n    }\n\n    .dataframe thead th {\n        text-align: right;\n    }\n</style>\n<table border=\"1\" class=\"dataframe\">\n  <thead>\n    <tr style=\"text-align: right;\">\n      <th></th>\n      <th>Store</th>\n      <th>Weekly_Sales</th>\n    </tr>\n  </thead>\n  <tbody>\n    <tr>\n      <th>1905</th>\n      <td>14</td>\n      <td>3818686.45</td>\n    </tr>\n    <tr>\n      <th>2763</th>\n      <td>20</td>\n      <td>3766687.43</td>\n    </tr>\n    <tr>\n      <th>1333</th>\n      <td>10</td>\n      <td>3749057.69</td>\n    </tr>\n    <tr>\n      <th>527</th>\n      <td>4</td>\n      <td>3676388.98</td>\n    </tr>\n    <tr>\n      <th>1762</th>\n      <td>13</td>\n      <td>3595903.20</td>\n    </tr>\n    <tr>\n      <th>...</th>\n      <td>...</td>\n      <td>...</td>\n    </tr>\n    <tr>\n      <th>4671</th>\n      <td>33</td>\n      <td>220060.35</td>\n    </tr>\n    <tr>\n      <th>4623</th>\n      <td>33</td>\n      <td>219804.85</td>\n    </tr>\n    <tr>\n      <th>4675</th>\n      <td>33</td>\n      <td>215359.21</td>\n    </tr>\n    <tr>\n      <th>4614</th>\n      <td>33</td>\n      <td>213538.32</td>\n    </tr>\n    <tr>\n      <th>4619</th>\n      <td>33</td>\n      <td>209986.25</td>\n    </tr>\n  </tbody>\n</table>\n<p>6435 rows × 2 columns</p>\n</div>"
     },
     "execution_count": 19,
     "metadata": {},
     "output_type": "execute_result"
    }
   ],
   "source": [
    "sorted_data[['Store','Weekly_Sales']]"
   ],
   "metadata": {
    "collapsed": false,
    "ExecuteTime": {
     "end_time": "2023-08-14T14:49:57.177743500Z",
     "start_time": "2023-08-14T14:49:57.101276700Z"
    }
   },
   "id": "a1d51bc56624ea0"
  },
  {
   "cell_type": "markdown",
   "source": [
    "### Categorise the weekly sales into very high, high, moderate, low & very low categories"
   ],
   "metadata": {
    "collapsed": false
   },
   "id": "dbaca6b5350fe7f"
  },
  {
   "cell_type": "code",
   "execution_count": 29,
   "outputs": [],
   "source": [
    "walmart_data['Weekly_Sales'].fillna(0, inplace=True)\n",
    "bins = [0, 250000, 500000, 750000, 1000000, max(walmart_data['Weekly_Sales'])]\n",
    "labels = ['Very Low', 'Low', 'Moderate', 'High', 'Very High']\n",
    "walmart_data['bins'] = pd.cut(x=walmart_data['Weekly_Sales'], bins=bins, labels=labels)"
   ],
   "metadata": {
    "collapsed": false,
    "ExecuteTime": {
     "end_time": "2023-08-14T15:10:55.437834400Z",
     "start_time": "2023-08-14T15:10:55.411472300Z"
    }
   },
   "id": "c0e52cbb012a8a2f"
  },
  {
   "cell_type": "code",
   "execution_count": 31,
   "outputs": [
    {
     "data": {
      "text/plain": "   Weekly_Sales       bins\n0    1643690.90  Very High\n1    1641957.44  Very High\n2    1611968.17  Very High\n3    1409727.59  Very High\n4    1554806.68  Very High",
      "text/html": "<div>\n<style scoped>\n    .dataframe tbody tr th:only-of-type {\n        vertical-align: middle;\n    }\n\n    .dataframe tbody tr th {\n        vertical-align: top;\n    }\n\n    .dataframe thead th {\n        text-align: right;\n    }\n</style>\n<table border=\"1\" class=\"dataframe\">\n  <thead>\n    <tr style=\"text-align: right;\">\n      <th></th>\n      <th>Weekly_Sales</th>\n      <th>bins</th>\n    </tr>\n  </thead>\n  <tbody>\n    <tr>\n      <th>0</th>\n      <td>1643690.90</td>\n      <td>Very High</td>\n    </tr>\n    <tr>\n      <th>1</th>\n      <td>1641957.44</td>\n      <td>Very High</td>\n    </tr>\n    <tr>\n      <th>2</th>\n      <td>1611968.17</td>\n      <td>Very High</td>\n    </tr>\n    <tr>\n      <th>3</th>\n      <td>1409727.59</td>\n      <td>Very High</td>\n    </tr>\n    <tr>\n      <th>4</th>\n      <td>1554806.68</td>\n      <td>Very High</td>\n    </tr>\n  </tbody>\n</table>\n</div>"
     },
     "execution_count": 31,
     "metadata": {},
     "output_type": "execute_result"
    }
   ],
   "source": [
    "walmart_data[['Weekly_Sales','bins']].head()"
   ],
   "metadata": {
    "collapsed": false,
    "ExecuteTime": {
     "end_time": "2023-08-14T15:13:31.198274400Z",
     "start_time": "2023-08-14T15:13:31.177061200Z"
    }
   },
   "id": "58bc7336e11961fa"
  }
 ],
 "metadata": {
  "kernelspec": {
   "display_name": "Python 3",
   "language": "python",
   "name": "python3"
  },
  "language_info": {
   "codemirror_mode": {
    "name": "ipython",
    "version": 2
   },
   "file_extension": ".py",
   "mimetype": "text/x-python",
   "name": "python",
   "nbconvert_exporter": "python",
   "pygments_lexer": "ipython2",
   "version": "2.7.6"
  }
 },
 "nbformat": 4,
 "nbformat_minor": 5
}
