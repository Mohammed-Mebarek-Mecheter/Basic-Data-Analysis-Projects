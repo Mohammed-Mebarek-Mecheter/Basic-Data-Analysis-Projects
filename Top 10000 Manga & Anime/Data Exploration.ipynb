{
 "cells": [
  {
   "cell_type": "code",
   "execution_count": 1,
   "id": "initial_id",
   "metadata": {
    "collapsed": true,
    "ExecuteTime": {
     "end_time": "2024-01-18T22:19:56.033827Z",
     "start_time": "2024-01-18T22:19:56.010612300Z"
    }
   },
   "outputs": [],
   "source": [
    "# Import Libraries\n",
    "import pandas as pd"
   ]
  },
  {
   "cell_type": "code",
   "outputs": [],
   "source": [
    "# Import Dataset\n",
    "anime_df = pd.read_csv(\"data/anime.csv\")\n",
    "manga_df = pd.read_csv(\"data/manga.csv\")"
   ],
   "metadata": {
    "collapsed": false,
    "ExecuteTime": {
     "end_time": "2024-01-18T22:47:48.475485Z",
     "start_time": "2024-01-18T22:47:47.766356Z"
    }
   },
   "id": "1ca521cd4d397d3c",
   "execution_count": 2
  },
  {
   "cell_type": "code",
   "outputs": [
    {
     "data": {
      "text/plain": "                                               Title  Score     Vote  Ranked  \\\n0     Sousou no FrierenFrieren: Beyond Journey's End   9.14   128768       1   \n1                   Fullmetal Alchemist: Brotherhood   9.09  2080863       2   \n2                                        Steins;Gate   9.07  1375512       3   \n3                           Gintama°Gintama Season 4   9.06   246431       4   \n4  Shingeki no Kyojin Season 3 Part 2Attack on Ti...   9.05  1545108       5   \n\n   Popularity Episodes            Status                        Aired  \\\n0         508       28  Currently Airing     Sep 29, 2023 to Mar 2024   \n1           3       64   Finished Airing   Apr 5, 2009 to Jul 4, 2010   \n2          13       24   Finished Airing  Apr 6, 2011 to Sep 14, 2011   \n3         337       51   Finished Airing  Apr 8, 2015 to Mar 30, 2016   \n4          21       10   Finished Airing  Apr 29, 2019 to Jul 1, 2019   \n\n     Premiered                                          Producers  \\\n0    Fall 2023  ['Aniplex', 'Dentsu', 'Shogakukan-Shueisha Pro...   \n1  Spring 2009  ['Aniplex', 'Square Enix', 'Mainichi Broadcast...   \n2  Spring 2011  ['Frontier Works', 'Media Factory', 'Kadokawa ...   \n3  Spring 2015                  ['TV Tokyo', 'Aniplex', 'Dentsu']   \n4  Spring 2019  ['Production I.G', 'Dentsu', 'Mainichi Broadca...   \n\n                              Licensors                Studios        Source  \\\n0                  None found, add some               Madhouse         Manga   \n1  Funimation,       Aniplex of America                  Bones         Manga   \n2                            Funimation              White Fox  Visual novel   \n3         Funimation,       Crunchyroll  Bandai Namco Pictures         Manga   \n4                            Funimation             Wit Studio         Manga   \n\n          Duration                          Rating  \n0  24 min. per ep.       PG-13 - Teens 13 or older  \n1  24 min. per ep.  R - 17+ (violence & profanity)  \n2  24 min. per ep.       PG-13 - Teens 13 or older  \n3  24 min. per ep.       PG-13 - Teens 13 or older  \n4  23 min. per ep.  R - 17+ (violence & profanity)  ",
      "text/html": "<div>\n<style scoped>\n    .dataframe tbody tr th:only-of-type {\n        vertical-align: middle;\n    }\n\n    .dataframe tbody tr th {\n        vertical-align: top;\n    }\n\n    .dataframe thead th {\n        text-align: right;\n    }\n</style>\n<table border=\"1\" class=\"dataframe\">\n  <thead>\n    <tr style=\"text-align: right;\">\n      <th></th>\n      <th>Title</th>\n      <th>Score</th>\n      <th>Vote</th>\n      <th>Ranked</th>\n      <th>Popularity</th>\n      <th>Episodes</th>\n      <th>Status</th>\n      <th>Aired</th>\n      <th>Premiered</th>\n      <th>Producers</th>\n      <th>Licensors</th>\n      <th>Studios</th>\n      <th>Source</th>\n      <th>Duration</th>\n      <th>Rating</th>\n    </tr>\n  </thead>\n  <tbody>\n    <tr>\n      <th>0</th>\n      <td>Sousou no FrierenFrieren: Beyond Journey's End</td>\n      <td>9.14</td>\n      <td>128768</td>\n      <td>1</td>\n      <td>508</td>\n      <td>28</td>\n      <td>Currently Airing</td>\n      <td>Sep 29, 2023 to Mar 2024</td>\n      <td>Fall 2023</td>\n      <td>['Aniplex', 'Dentsu', 'Shogakukan-Shueisha Pro...</td>\n      <td>None found, add some</td>\n      <td>Madhouse</td>\n      <td>Manga</td>\n      <td>24 min. per ep.</td>\n      <td>PG-13 - Teens 13 or older</td>\n    </tr>\n    <tr>\n      <th>1</th>\n      <td>Fullmetal Alchemist: Brotherhood</td>\n      <td>9.09</td>\n      <td>2080863</td>\n      <td>2</td>\n      <td>3</td>\n      <td>64</td>\n      <td>Finished Airing</td>\n      <td>Apr 5, 2009 to Jul 4, 2010</td>\n      <td>Spring 2009</td>\n      <td>['Aniplex', 'Square Enix', 'Mainichi Broadcast...</td>\n      <td>Funimation,       Aniplex of America</td>\n      <td>Bones</td>\n      <td>Manga</td>\n      <td>24 min. per ep.</td>\n      <td>R - 17+ (violence &amp; profanity)</td>\n    </tr>\n    <tr>\n      <th>2</th>\n      <td>Steins;Gate</td>\n      <td>9.07</td>\n      <td>1375512</td>\n      <td>3</td>\n      <td>13</td>\n      <td>24</td>\n      <td>Finished Airing</td>\n      <td>Apr 6, 2011 to Sep 14, 2011</td>\n      <td>Spring 2011</td>\n      <td>['Frontier Works', 'Media Factory', 'Kadokawa ...</td>\n      <td>Funimation</td>\n      <td>White Fox</td>\n      <td>Visual novel</td>\n      <td>24 min. per ep.</td>\n      <td>PG-13 - Teens 13 or older</td>\n    </tr>\n    <tr>\n      <th>3</th>\n      <td>Gintama°Gintama Season 4</td>\n      <td>9.06</td>\n      <td>246431</td>\n      <td>4</td>\n      <td>337</td>\n      <td>51</td>\n      <td>Finished Airing</td>\n      <td>Apr 8, 2015 to Mar 30, 2016</td>\n      <td>Spring 2015</td>\n      <td>['TV Tokyo', 'Aniplex', 'Dentsu']</td>\n      <td>Funimation,       Crunchyroll</td>\n      <td>Bandai Namco Pictures</td>\n      <td>Manga</td>\n      <td>24 min. per ep.</td>\n      <td>PG-13 - Teens 13 or older</td>\n    </tr>\n    <tr>\n      <th>4</th>\n      <td>Shingeki no Kyojin Season 3 Part 2Attack on Ti...</td>\n      <td>9.05</td>\n      <td>1545108</td>\n      <td>5</td>\n      <td>21</td>\n      <td>10</td>\n      <td>Finished Airing</td>\n      <td>Apr 29, 2019 to Jul 1, 2019</td>\n      <td>Spring 2019</td>\n      <td>['Production I.G', 'Dentsu', 'Mainichi Broadca...</td>\n      <td>Funimation</td>\n      <td>Wit Studio</td>\n      <td>Manga</td>\n      <td>23 min. per ep.</td>\n      <td>R - 17+ (violence &amp; profanity)</td>\n    </tr>\n  </tbody>\n</table>\n</div>"
     },
     "execution_count": 4,
     "metadata": {},
     "output_type": "execute_result"
    }
   ],
   "source": [
    "# Print Dataset\n",
    "anime_df.head()"
   ],
   "metadata": {
    "collapsed": false,
    "ExecuteTime": {
     "end_time": "2024-01-18T22:49:06.525077600Z",
     "start_time": "2024-01-18T22:49:06.425812900Z"
    }
   },
   "id": "d012477a6f8cbc4c",
   "execution_count": 4
  },
  {
   "cell_type": "code",
   "outputs": [
    {
     "data": {
      "text/plain": "                                             Title  Score    Vote  Ranked  \\\n0                                          Berserk   9.47  334154       1   \n1  JoJo no Kimyou na Bouken Part 7: Steel Ball Run   9.30  157522       2   \n2                                         Vagabond   9.25  138009       3   \n3                                        One Piece   9.22  368951       4   \n4                                          Monster   9.15   94806       5   \n\n   Popularity  Members Favorite  Volumes Chapters      Status  \\\n0           1  670,559  123,574  Unknown  Unknown  Publishing   \n1          26  257,957   43,113       24       96    Finished   \n2          15  368,332   40,575       37      327   On Hiatus   \n3           3  603,122  115,123  Unknown  Unknown  Publishing   \n4          29  238,291   20,674       18      162    Finished   \n\n                        Published  \\\n0              Aug  25, 1989 to ?   \n1  Jan  19, 2004 to Apr  19, 2011   \n2   Sep  3, 1998 to May  21, 2015   \n3              Jul  22, 1997 to ?   \n4   Dec  5, 1994 to Dec  20, 2001   \n\n                                              Genres  \\\n0  ['Action', 'Adventure', 'Award Winning', 'Dram...   \n1  ['Action', 'Adventure', 'Mystery', 'Supernatur...   \n2           ['Action', 'Adventure', 'Award Winning']   \n3                 ['Action', 'Adventure', 'Fantasy']   \n4              ['Award Winning', 'Drama', 'Mystery']   \n\n                                              Themes           Demographics  \\\n0  ['Gore', 'Military', 'Mythology', 'Psychologic...             ['Seinen']   \n1                                                 []  ['Seinen', 'Shounen']   \n2                          ['Historical', 'Samurai']             ['Seinen']   \n3                                                 []            ['Shounen']   \n4                    ['Adult Cast', 'Psychological']             ['Seinen']   \n\n           Serialization                                             Author  \n0           Young Animal   Miura, Kentarou (Story & Art), Studio Gaga (Art)  \n1             Ultra Jump                      Araki, Hirohiko (Story & Art)  \n2                Morning  Inoue, Takehiko (Story & Art), Yoshikawa, Eiji...  \n3  Shounen Jump (Weekly)                        Oda, Eiichiro (Story & Art)  \n4     Big Comic Original                       Urasawa, Naoki (Story & Art)  ",
      "text/html": "<div>\n<style scoped>\n    .dataframe tbody tr th:only-of-type {\n        vertical-align: middle;\n    }\n\n    .dataframe tbody tr th {\n        vertical-align: top;\n    }\n\n    .dataframe thead th {\n        text-align: right;\n    }\n</style>\n<table border=\"1\" class=\"dataframe\">\n  <thead>\n    <tr style=\"text-align: right;\">\n      <th></th>\n      <th>Title</th>\n      <th>Score</th>\n      <th>Vote</th>\n      <th>Ranked</th>\n      <th>Popularity</th>\n      <th>Members</th>\n      <th>Favorite</th>\n      <th>Volumes</th>\n      <th>Chapters</th>\n      <th>Status</th>\n      <th>Published</th>\n      <th>Genres</th>\n      <th>Themes</th>\n      <th>Demographics</th>\n      <th>Serialization</th>\n      <th>Author</th>\n    </tr>\n  </thead>\n  <tbody>\n    <tr>\n      <th>0</th>\n      <td>Berserk</td>\n      <td>9.47</td>\n      <td>334154</td>\n      <td>1</td>\n      <td>1</td>\n      <td>670,559</td>\n      <td>123,574</td>\n      <td>Unknown</td>\n      <td>Unknown</td>\n      <td>Publishing</td>\n      <td>Aug  25, 1989 to ?</td>\n      <td>['Action', 'Adventure', 'Award Winning', 'Dram...</td>\n      <td>['Gore', 'Military', 'Mythology', 'Psychologic...</td>\n      <td>['Seinen']</td>\n      <td>Young Animal</td>\n      <td>Miura, Kentarou (Story &amp; Art), Studio Gaga (Art)</td>\n    </tr>\n    <tr>\n      <th>1</th>\n      <td>JoJo no Kimyou na Bouken Part 7: Steel Ball Run</td>\n      <td>9.30</td>\n      <td>157522</td>\n      <td>2</td>\n      <td>26</td>\n      <td>257,957</td>\n      <td>43,113</td>\n      <td>24</td>\n      <td>96</td>\n      <td>Finished</td>\n      <td>Jan  19, 2004 to Apr  19, 2011</td>\n      <td>['Action', 'Adventure', 'Mystery', 'Supernatur...</td>\n      <td>[]</td>\n      <td>['Seinen', 'Shounen']</td>\n      <td>Ultra Jump</td>\n      <td>Araki, Hirohiko (Story &amp; Art)</td>\n    </tr>\n    <tr>\n      <th>2</th>\n      <td>Vagabond</td>\n      <td>9.25</td>\n      <td>138009</td>\n      <td>3</td>\n      <td>15</td>\n      <td>368,332</td>\n      <td>40,575</td>\n      <td>37</td>\n      <td>327</td>\n      <td>On Hiatus</td>\n      <td>Sep  3, 1998 to May  21, 2015</td>\n      <td>['Action', 'Adventure', 'Award Winning']</td>\n      <td>['Historical', 'Samurai']</td>\n      <td>['Seinen']</td>\n      <td>Morning</td>\n      <td>Inoue, Takehiko (Story &amp; Art), Yoshikawa, Eiji...</td>\n    </tr>\n    <tr>\n      <th>3</th>\n      <td>One Piece</td>\n      <td>9.22</td>\n      <td>368951</td>\n      <td>4</td>\n      <td>3</td>\n      <td>603,122</td>\n      <td>115,123</td>\n      <td>Unknown</td>\n      <td>Unknown</td>\n      <td>Publishing</td>\n      <td>Jul  22, 1997 to ?</td>\n      <td>['Action', 'Adventure', 'Fantasy']</td>\n      <td>[]</td>\n      <td>['Shounen']</td>\n      <td>Shounen Jump (Weekly)</td>\n      <td>Oda, Eiichiro (Story &amp; Art)</td>\n    </tr>\n    <tr>\n      <th>4</th>\n      <td>Monster</td>\n      <td>9.15</td>\n      <td>94806</td>\n      <td>5</td>\n      <td>29</td>\n      <td>238,291</td>\n      <td>20,674</td>\n      <td>18</td>\n      <td>162</td>\n      <td>Finished</td>\n      <td>Dec  5, 1994 to Dec  20, 2001</td>\n      <td>['Award Winning', 'Drama', 'Mystery']</td>\n      <td>['Adult Cast', 'Psychological']</td>\n      <td>['Seinen']</td>\n      <td>Big Comic Original</td>\n      <td>Urasawa, Naoki (Story &amp; Art)</td>\n    </tr>\n  </tbody>\n</table>\n</div>"
     },
     "execution_count": 5,
     "metadata": {},
     "output_type": "execute_result"
    }
   ],
   "source": [
    "manga_df.head()"
   ],
   "metadata": {
    "collapsed": false,
    "ExecuteTime": {
     "end_time": "2024-01-18T22:49:21.378571Z",
     "start_time": "2024-01-18T22:49:21.319646700Z"
    }
   },
   "id": "b64a76a795997bd0",
   "execution_count": 5
  },
  {
   "cell_type": "code",
   "outputs": [
    {
     "name": "stdout",
     "output_type": "stream",
     "text": [
      "(10000, 15)\n",
      "(10000, 16)\n"
     ]
    }
   ],
   "source": [
    "# Print Shape\n",
    "print(anime_df.shape)\n",
    "print(manga_df.shape)"
   ],
   "metadata": {
    "collapsed": false,
    "ExecuteTime": {
     "end_time": "2024-01-18T22:51:18.036928700Z",
     "start_time": "2024-01-18T22:51:17.983156500Z"
    }
   },
   "id": "d3cc6c5f8e1562e2",
   "execution_count": 8
  },
  {
   "cell_type": "code",
   "outputs": [
    {
     "data": {
      "text/plain": "Title          object\nScore         float64\nVote            int64\nRanked          int64\nPopularity      int64\nEpisodes       object\nStatus         object\nAired          object\nPremiered      object\nProducers      object\nLicensors      object\nStudios        object\nSource         object\nDuration       object\nRating         object\ndtype: object"
     },
     "execution_count": 9,
     "metadata": {},
     "output_type": "execute_result"
    }
   ],
   "source": [
    "# Print Datatypes\n",
    "anime_df.dtypes"
   ],
   "metadata": {
    "collapsed": false,
    "ExecuteTime": {
     "end_time": "2024-01-18T22:52:09.396473700Z",
     "start_time": "2024-01-18T22:52:09.363794200Z"
    }
   },
   "id": "94c63150239f9865",
   "execution_count": 9
  },
  {
   "cell_type": "code",
   "outputs": [
    {
     "data": {
      "text/plain": "Title             object\nScore            float64\nVote               int64\nRanked             int64\nPopularity         int64\nMembers           object\nFavorite          object\nVolumes           object\nChapters          object\nStatus            object\nPublished         object\nGenres            object\nThemes            object\nDemographics      object\nSerialization     object\nAuthor            object\ndtype: object"
     },
     "execution_count": 10,
     "metadata": {},
     "output_type": "execute_result"
    }
   ],
   "source": [
    "manga_df.dtypes"
   ],
   "metadata": {
    "collapsed": false,
    "ExecuteTime": {
     "end_time": "2024-01-18T22:52:13.368166400Z",
     "start_time": "2024-01-18T22:52:13.341608500Z"
    }
   },
   "id": "f2870f8baeca1b43",
   "execution_count": 10
  },
  {
   "cell_type": "code",
   "outputs": [
    {
     "data": {
      "text/plain": "Title            0\nScore            0\nVote             0\nRanked           0\nPopularity       0\nEpisodes         0\nStatus           0\nAired            0\nPremiered     5122\nProducers        0\nLicensors        0\nStudios          0\nSource           0\nDuration         0\nRating          20\ndtype: int64"
     },
     "execution_count": 11,
     "metadata": {},
     "output_type": "execute_result"
    }
   ],
   "source": [
    "# Print Missing Values\n",
    "anime_df.isna().sum()"
   ],
   "metadata": {
    "collapsed": false,
    "ExecuteTime": {
     "end_time": "2024-01-18T22:52:20.774895900Z",
     "start_time": "2024-01-18T22:52:20.735715900Z"
    }
   },
   "id": "6e590bd1a07814bd",
   "execution_count": 11
  },
  {
   "cell_type": "code",
   "outputs": [
    {
     "data": {
      "text/plain": "Title               0\nScore               0\nVote                0\nRanked              0\nPopularity          0\nMembers             0\nFavorite            0\nVolumes             0\nChapters            0\nStatus              0\nPublished           0\nGenres              0\nThemes              0\nDemographics        0\nSerialization    1789\nAuthor             15\ndtype: int64"
     },
     "execution_count": 12,
     "metadata": {},
     "output_type": "execute_result"
    }
   ],
   "source": [
    "manga_df.isna().sum()"
   ],
   "metadata": {
    "collapsed": false,
    "ExecuteTime": {
     "end_time": "2024-01-18T22:52:26.029378800Z",
     "start_time": "2024-01-18T22:52:25.968536300Z"
    }
   },
   "id": "40ae436eca74a157",
   "execution_count": 12
  },
  {
   "cell_type": "code",
   "outputs": [
    {
     "data": {
      "text/plain": "              Score          Vote        Ranked    Popularity\ncount  10000.000000  1.000000e+04  10000.000000  10000.000000\nmean       7.422213  8.541276e+04   2501.742900   3920.264900\nstd        0.447107  2.001964e+05   1444.259909   3090.780317\nmin        6.800000  1.090000e+02      1.000000      1.000000\n25%        7.080000  4.684750e+03   1250.750000   1419.750000\n50%        7.330000  1.943250e+04   2503.000000   3193.000000\n75%        7.670000  7.341925e+04   3752.250000   5724.250000\nmax        9.140000  2.745016e+06   5026.000000  16554.000000",
      "text/html": "<div>\n<style scoped>\n    .dataframe tbody tr th:only-of-type {\n        vertical-align: middle;\n    }\n\n    .dataframe tbody tr th {\n        vertical-align: top;\n    }\n\n    .dataframe thead th {\n        text-align: right;\n    }\n</style>\n<table border=\"1\" class=\"dataframe\">\n  <thead>\n    <tr style=\"text-align: right;\">\n      <th></th>\n      <th>Score</th>\n      <th>Vote</th>\n      <th>Ranked</th>\n      <th>Popularity</th>\n    </tr>\n  </thead>\n  <tbody>\n    <tr>\n      <th>count</th>\n      <td>10000.000000</td>\n      <td>1.000000e+04</td>\n      <td>10000.000000</td>\n      <td>10000.000000</td>\n    </tr>\n    <tr>\n      <th>mean</th>\n      <td>7.422213</td>\n      <td>8.541276e+04</td>\n      <td>2501.742900</td>\n      <td>3920.264900</td>\n    </tr>\n    <tr>\n      <th>std</th>\n      <td>0.447107</td>\n      <td>2.001964e+05</td>\n      <td>1444.259909</td>\n      <td>3090.780317</td>\n    </tr>\n    <tr>\n      <th>min</th>\n      <td>6.800000</td>\n      <td>1.090000e+02</td>\n      <td>1.000000</td>\n      <td>1.000000</td>\n    </tr>\n    <tr>\n      <th>25%</th>\n      <td>7.080000</td>\n      <td>4.684750e+03</td>\n      <td>1250.750000</td>\n      <td>1419.750000</td>\n    </tr>\n    <tr>\n      <th>50%</th>\n      <td>7.330000</td>\n      <td>1.943250e+04</td>\n      <td>2503.000000</td>\n      <td>3193.000000</td>\n    </tr>\n    <tr>\n      <th>75%</th>\n      <td>7.670000</td>\n      <td>7.341925e+04</td>\n      <td>3752.250000</td>\n      <td>5724.250000</td>\n    </tr>\n    <tr>\n      <th>max</th>\n      <td>9.140000</td>\n      <td>2.745016e+06</td>\n      <td>5026.000000</td>\n      <td>16554.000000</td>\n    </tr>\n  </tbody>\n</table>\n</div>"
     },
     "execution_count": 14,
     "metadata": {},
     "output_type": "execute_result"
    }
   ],
   "source": [
    "# Print Descriptive Statistics\n",
    "anime_df.describe()"
   ],
   "metadata": {
    "collapsed": false,
    "ExecuteTime": {
     "end_time": "2024-01-18T22:52:42.735262200Z",
     "start_time": "2024-01-18T22:52:42.678045100Z"
    }
   },
   "id": "89469a838333aab",
   "execution_count": 14
  },
  {
   "cell_type": "code",
   "outputs": [
    {
     "data": {
      "text/plain": "              Score           Vote        Ranked    Popularity\ncount  10000.000000   10000.000000  10000.000000  10000.000000\nmean       7.368518    3505.667100   5000.786300   8737.925500\nstd        0.377491   14026.002244   2887.469732   6707.791147\nmin        6.900000     100.000000      1.000000      1.000000\n25%        7.080000     318.000000   2500.750000   3104.500000\n50%        7.280000     792.000000   4992.500000   7351.500000\n75%        7.560000    2248.000000   7500.250000  13281.250000\nmax        9.470000  401815.000000  10060.000000  32962.000000",
      "text/html": "<div>\n<style scoped>\n    .dataframe tbody tr th:only-of-type {\n        vertical-align: middle;\n    }\n\n    .dataframe tbody tr th {\n        vertical-align: top;\n    }\n\n    .dataframe thead th {\n        text-align: right;\n    }\n</style>\n<table border=\"1\" class=\"dataframe\">\n  <thead>\n    <tr style=\"text-align: right;\">\n      <th></th>\n      <th>Score</th>\n      <th>Vote</th>\n      <th>Ranked</th>\n      <th>Popularity</th>\n    </tr>\n  </thead>\n  <tbody>\n    <tr>\n      <th>count</th>\n      <td>10000.000000</td>\n      <td>10000.000000</td>\n      <td>10000.000000</td>\n      <td>10000.000000</td>\n    </tr>\n    <tr>\n      <th>mean</th>\n      <td>7.368518</td>\n      <td>3505.667100</td>\n      <td>5000.786300</td>\n      <td>8737.925500</td>\n    </tr>\n    <tr>\n      <th>std</th>\n      <td>0.377491</td>\n      <td>14026.002244</td>\n      <td>2887.469732</td>\n      <td>6707.791147</td>\n    </tr>\n    <tr>\n      <th>min</th>\n      <td>6.900000</td>\n      <td>100.000000</td>\n      <td>1.000000</td>\n      <td>1.000000</td>\n    </tr>\n    <tr>\n      <th>25%</th>\n      <td>7.080000</td>\n      <td>318.000000</td>\n      <td>2500.750000</td>\n      <td>3104.500000</td>\n    </tr>\n    <tr>\n      <th>50%</th>\n      <td>7.280000</td>\n      <td>792.000000</td>\n      <td>4992.500000</td>\n      <td>7351.500000</td>\n    </tr>\n    <tr>\n      <th>75%</th>\n      <td>7.560000</td>\n      <td>2248.000000</td>\n      <td>7500.250000</td>\n      <td>13281.250000</td>\n    </tr>\n    <tr>\n      <th>max</th>\n      <td>9.470000</td>\n      <td>401815.000000</td>\n      <td>10060.000000</td>\n      <td>32962.000000</td>\n    </tr>\n  </tbody>\n</table>\n</div>"
     },
     "execution_count": 13,
     "metadata": {},
     "output_type": "execute_result"
    }
   ],
   "source": [
    "manga_df.describe()"
   ],
   "metadata": {
    "collapsed": false,
    "ExecuteTime": {
     "end_time": "2024-01-18T22:52:32.879389700Z",
     "start_time": "2024-01-18T22:52:32.826828Z"
    }
   },
   "id": "e77e61db55a1b481",
   "execution_count": 13
  },
  {
   "cell_type": "code",
   "outputs": [
    {
     "data": {
      "text/plain": "Title         4997\nScore          219\nVote          6094\nRanked        5005\nPopularity    5729\nEpisodes       153\nStatus           2\nAired         4200\nPremiered      205\nProducers     2355\nLicensors      198\nStudios        545\nSource          16\nDuration       221\nRating           5\ndtype: int64"
     },
     "execution_count": 15,
     "metadata": {},
     "output_type": "execute_result"
    }
   ],
   "source": [
    "# Print Unique Values\n",
    "anime_df.nunique()"
   ],
   "metadata": {
    "collapsed": false,
    "ExecuteTime": {
     "end_time": "2024-01-18T22:53:51.406830500Z",
     "start_time": "2024-01-18T22:53:51.364588900Z"
    }
   },
   "id": "d934694107d1d99d",
   "execution_count": 15
  },
  {
   "cell_type": "code",
   "outputs": [
    {
     "data": {
      "text/plain": "Title            9684\nScore             211\nVote             3979\nRanked           9859\nPopularity       9132\nMembers          6068\nFavorite         1132\nVolumes            69\nChapters          380\nStatus              4\nPublished        8505\nGenres            917\nThemes            537\nDemographics       10\nSerialization     644\nAuthor           6300\ndtype: int64"
     },
     "execution_count": 16,
     "metadata": {},
     "output_type": "execute_result"
    }
   ],
   "source": [
    "manga_df.nunique()"
   ],
   "metadata": {
    "collapsed": false,
    "ExecuteTime": {
     "end_time": "2024-01-18T22:53:59.197399100Z",
     "start_time": "2024-01-18T22:53:59.136117Z"
    }
   },
   "id": "5b51c63416066cb7",
   "execution_count": 16
  }
 ],
 "metadata": {
  "kernelspec": {
   "display_name": "Python 3",
   "language": "python",
   "name": "python3"
  },
  "language_info": {
   "codemirror_mode": {
    "name": "ipython",
    "version": 2
   },
   "file_extension": ".py",
   "mimetype": "text/x-python",
   "name": "python",
   "nbconvert_exporter": "python",
   "pygments_lexer": "ipython2",
   "version": "2.7.6"
  }
 },
 "nbformat": 4,
 "nbformat_minor": 5
}
