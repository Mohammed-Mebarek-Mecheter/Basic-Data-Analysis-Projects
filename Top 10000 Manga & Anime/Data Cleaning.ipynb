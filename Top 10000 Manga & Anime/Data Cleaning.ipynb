{
 "cells": [
  {
   "cell_type": "code",
   "execution_count": 21,
   "id": "initial_id",
   "metadata": {
    "collapsed": true,
    "ExecuteTime": {
     "end_time": "2024-01-19T16:28:37.024874400Z",
     "start_time": "2024-01-19T16:28:36.242682600Z"
    }
   },
   "outputs": [],
   "source": [
    "# Import Libraries\n",
    "import pandas as pd\n",
    "import numpy as np\n",
    "import seaborn as sns\n",
    "import matplotlib.pyplot as plt"
   ]
  },
  {
   "cell_type": "code",
   "outputs": [],
   "source": [
    "# Import Dataset\n",
    "anime_df = pd.read_csv(\"data/anime.csv\")\n",
    "manga_df = pd.read_csv(\"data/manga.csv\")"
   ],
   "metadata": {
    "collapsed": false,
    "ExecuteTime": {
     "end_time": "2024-01-19T16:28:38.398893100Z",
     "start_time": "2024-01-19T16:28:36.897947400Z"
    }
   },
   "id": "6d9a58fb7b254690",
   "execution_count": 22
  },
  {
   "cell_type": "code",
   "outputs": [
    {
     "data": {
      "text/plain": "(10000, 15)"
     },
     "execution_count": 23,
     "metadata": {},
     "output_type": "execute_result"
    }
   ],
   "source": [
    "anime_df.shape"
   ],
   "metadata": {
    "collapsed": false,
    "ExecuteTime": {
     "end_time": "2024-01-19T16:28:38.471840100Z",
     "start_time": "2024-01-19T16:28:38.409876700Z"
    }
   },
   "id": "15eb588cad666cec",
   "execution_count": 23
  },
  {
   "cell_type": "code",
   "outputs": [
    {
     "data": {
      "text/plain": "Title            0\nScore            0\nVote             0\nRanked           0\nPopularity       0\nEpisodes         0\nStatus           0\nAired            0\nPremiered     5122\nProducers        0\nLicensors        0\nStudios          0\nSource           0\nDuration         0\nRating          20\ndtype: int64"
     },
     "execution_count": 24,
     "metadata": {},
     "output_type": "execute_result"
    }
   ],
   "source": [
    "# Check for Missing Values\n",
    "anime_df.isnull().sum()"
   ],
   "metadata": {
    "collapsed": false,
    "ExecuteTime": {
     "end_time": "2024-01-19T16:28:38.662727600Z",
     "start_time": "2024-01-19T16:28:38.458847100Z"
    }
   },
   "id": "f6652af59d1ca7cc",
   "execution_count": 24
  },
  {
   "cell_type": "code",
   "outputs": [
    {
     "data": {
      "text/plain": "Title               0\nScore               0\nVote                0\nRanked              0\nPopularity          0\nMembers             0\nFavorite            0\nVolumes             0\nChapters            0\nStatus              0\nPublished           0\nGenres              0\nThemes              0\nDemographics        0\nSerialization    1789\nAuthor             15\ndtype: int64"
     },
     "execution_count": 25,
     "metadata": {},
     "output_type": "execute_result"
    }
   ],
   "source": [
    "manga_df.isnull().sum()"
   ],
   "metadata": {
    "collapsed": false,
    "ExecuteTime": {
     "end_time": "2024-01-19T16:28:38.839939700Z",
     "start_time": "2024-01-19T16:28:38.688339100Z"
    }
   },
   "id": "37543d2a0a269aa9",
   "execution_count": 25
  },
  {
   "cell_type": "code",
   "outputs": [],
   "source": [
    "# Drop Column named Premiered from the anime_df dataset\n",
    "anime_df.drop(columns=[\"Premiered\"], inplace=True)"
   ],
   "metadata": {
    "collapsed": false,
    "ExecuteTime": {
     "end_time": "2024-01-19T16:28:38.963504400Z",
     "start_time": "2024-01-19T16:28:38.850728200Z"
    }
   },
   "id": "cfa4f937b5e6e5db",
   "execution_count": 26
  },
  {
   "cell_type": "code",
   "outputs": [
    {
     "data": {
      "text/plain": "Title          0\nScore          0\nVote           0\nRanked         0\nPopularity     0\nEpisodes       0\nStatus         0\nAired          0\nProducers      0\nLicensors      0\nStudios        0\nSource         0\nDuration       0\nRating        20\ndtype: int64"
     },
     "execution_count": 27,
     "metadata": {},
     "output_type": "execute_result"
    }
   ],
   "source": [
    "# Check for Missing Values\n",
    "anime_df.isnull().sum()"
   ],
   "metadata": {
    "collapsed": false,
    "ExecuteTime": {
     "end_time": "2024-01-19T16:28:39.042383600Z",
     "start_time": "2024-01-19T16:28:38.966505500Z"
    }
   },
   "id": "f2a81383a1fead2",
   "execution_count": 27
  },
  {
   "cell_type": "code",
   "outputs": [
    {
     "data": {
      "text/plain": "(10000, 14)"
     },
     "execution_count": 28,
     "metadata": {},
     "output_type": "execute_result"
    }
   ],
   "source": [
    "anime_df.shape"
   ],
   "metadata": {
    "collapsed": false,
    "ExecuteTime": {
     "end_time": "2024-01-19T16:28:39.275336700Z",
     "start_time": "2024-01-19T16:28:39.040386300Z"
    }
   },
   "id": "4ff97f539325ce7e",
   "execution_count": 28
  },
  {
   "cell_type": "code",
   "outputs": [
    {
     "data": {
      "text/plain": "1631"
     },
     "execution_count": 29,
     "metadata": {},
     "output_type": "execute_result"
    }
   ],
   "source": [
    "# Check for Duplicates\n",
    "anime_df.duplicated().sum()"
   ],
   "metadata": {
    "collapsed": false,
    "ExecuteTime": {
     "end_time": "2024-01-19T16:28:39.472078600Z",
     "start_time": "2024-01-19T16:28:39.282332600Z"
    }
   },
   "id": "f30985d0bbd404b",
   "execution_count": 29
  },
  {
   "cell_type": "code",
   "outputs": [],
   "source": [
    "# Drop Duplicates from the anime_df dataset\n",
    "anime_df.drop_duplicates(inplace=True)"
   ],
   "metadata": {
    "collapsed": false,
    "ExecuteTime": {
     "end_time": "2024-01-19T16:29:25.619806100Z",
     "start_time": "2024-01-19T16:29:25.401901200Z"
    }
   },
   "id": "88b3db50e57f4502",
   "execution_count": 31
  },
  {
   "cell_type": "code",
   "outputs": [
    {
     "data": {
      "text/plain": "0"
     },
     "execution_count": 30,
     "metadata": {},
     "output_type": "execute_result"
    }
   ],
   "source": [
    "manga_df.duplicated().sum()"
   ],
   "metadata": {
    "collapsed": false,
    "ExecuteTime": {
     "end_time": "2024-01-19T16:28:39.628323700Z",
     "start_time": "2024-01-19T16:28:39.467083600Z"
    }
   },
   "id": "c9727dfd42306094",
   "execution_count": 30
  },
  {
   "cell_type": "code",
   "outputs": [
    {
     "data": {
      "text/plain": "Title          object\nScore         float64\nVote            int64\nRanked          int64\nPopularity      int64\nEpisodes       object\nStatus         object\nAired          object\nProducers      object\nLicensors      object\nStudios        object\nSource         object\nDuration       object\nRating         object\ndtype: object"
     },
     "execution_count": 32,
     "metadata": {},
     "output_type": "execute_result"
    }
   ],
   "source": [
    "# Data Types\n",
    "anime_df.dtypes"
   ],
   "metadata": {
    "collapsed": false,
    "ExecuteTime": {
     "end_time": "2024-01-19T16:35:24.659155400Z",
     "start_time": "2024-01-19T16:35:24.495721100Z"
    }
   },
   "id": "a052efe59c8ae12a",
   "execution_count": 32
  },
  {
   "cell_type": "code",
   "outputs": [
    {
     "data": {
      "text/plain": "Title             object\nScore            float64\nVote               int64\nRanked             int64\nPopularity         int64\nMembers           object\nFavorite          object\nVolumes           object\nChapters          object\nStatus            object\nPublished         object\nGenres            object\nThemes            object\nDemographics      object\nSerialization     object\nAuthor            object\ndtype: object"
     },
     "execution_count": 33,
     "metadata": {},
     "output_type": "execute_result"
    }
   ],
   "source": [
    "manga_df.dtypes"
   ],
   "metadata": {
    "collapsed": false,
    "ExecuteTime": {
     "end_time": "2024-01-19T16:35:28.305406900Z",
     "start_time": "2024-01-19T16:35:28.205464Z"
    }
   },
   "id": "a9b8488993cae518",
   "execution_count": 33
  },
  {
   "cell_type": "code",
   "outputs": [],
   "source": [
    "# Convert numerical columns to int64\n",
    "\n",
    "anime_df[[\"Episodes\"]] = anime_df[[\"Episodes\"]].apply(pd.to_numeric, errors='coerce')\n",
    "manga_df[[\"Members\", \"Favorite\", \"Volumes\", \"Chapters\"]] = manga_df[[\"Members\", \"Favorite\", \"Volumes\", \"Chapters\"]].apply(pd.to_numeric, errors='coerce')"
   ],
   "metadata": {
    "collapsed": false,
    "ExecuteTime": {
     "end_time": "2024-01-19T17:01:57.042980300Z",
     "start_time": "2024-01-19T17:01:55.641262Z"
    }
   },
   "id": "8ca94819550c881f",
   "execution_count": 35
  },
  {
   "cell_type": "code",
   "outputs": [
    {
     "data": {
      "text/plain": "Title          object\nScore         float64\nVote            int64\nRanked          int64\nPopularity      int64\nEpisodes      float64\nStatus         object\nAired          object\nProducers      object\nLicensors      object\nStudios        object\nSource         object\nDuration       object\nRating         object\ndtype: object"
     },
     "execution_count": 36,
     "metadata": {},
     "output_type": "execute_result"
    }
   ],
   "source": [
    "# Data Types\n",
    "anime_df.dtypes"
   ],
   "metadata": {
    "collapsed": false,
    "ExecuteTime": {
     "end_time": "2024-01-19T17:02:48.939681900Z",
     "start_time": "2024-01-19T17:02:48.799723600Z"
    }
   },
   "id": "d5782647cffb2f6d",
   "execution_count": 36
  },
  {
   "cell_type": "code",
   "outputs": [
    {
     "data": {
      "text/plain": "Title             object\nScore            float64\nVote               int64\nRanked             int64\nPopularity         int64\nMembers          float64\nFavorite         float64\nVolumes          float64\nChapters         float64\nStatus            object\nPublished         object\nGenres            object\nThemes            object\nDemographics      object\nSerialization     object\nAuthor            object\ndtype: object"
     },
     "execution_count": 37,
     "metadata": {},
     "output_type": "execute_result"
    }
   ],
   "source": [
    "manga_df.dtypes"
   ],
   "metadata": {
    "collapsed": false,
    "ExecuteTime": {
     "end_time": "2024-01-19T17:02:50.727540900Z",
     "start_time": "2024-01-19T17:02:50.438004Z"
    }
   },
   "id": "fb0286d140c6b56f",
   "execution_count": 37
  },
  {
   "cell_type": "code",
   "outputs": [
    {
     "data": {
      "text/plain": "             Score          Vote       Ranked    Popularity     Episodes\ncount  8369.000000  8.369000e+03  8369.000000   8369.000000  8327.000000\nmean      7.392458  7.943636e+04  2579.940495   4014.317481    16.055722\nstd       0.423811  1.907227e+05  1400.953201   3086.504440    35.572343\nmin       6.800000  1.090000e+02     1.000000      1.000000     1.000000\n25%       7.080000  4.487000e+03  1433.000000   1541.000000     1.000000\n50%       7.310000  1.775500e+04  2592.000000   3343.000000    12.000000\n75%       7.610000  6.571200e+04  3766.000000   5789.000000    16.000000\nmax       9.140000  2.745016e+06  5026.000000  16554.000000  1787.000000",
      "text/html": "<div>\n<style scoped>\n    .dataframe tbody tr th:only-of-type {\n        vertical-align: middle;\n    }\n\n    .dataframe tbody tr th {\n        vertical-align: top;\n    }\n\n    .dataframe thead th {\n        text-align: right;\n    }\n</style>\n<table border=\"1\" class=\"dataframe\">\n  <thead>\n    <tr style=\"text-align: right;\">\n      <th></th>\n      <th>Score</th>\n      <th>Vote</th>\n      <th>Ranked</th>\n      <th>Popularity</th>\n      <th>Episodes</th>\n    </tr>\n  </thead>\n  <tbody>\n    <tr>\n      <th>count</th>\n      <td>8369.000000</td>\n      <td>8.369000e+03</td>\n      <td>8369.000000</td>\n      <td>8369.000000</td>\n      <td>8327.000000</td>\n    </tr>\n    <tr>\n      <th>mean</th>\n      <td>7.392458</td>\n      <td>7.943636e+04</td>\n      <td>2579.940495</td>\n      <td>4014.317481</td>\n      <td>16.055722</td>\n    </tr>\n    <tr>\n      <th>std</th>\n      <td>0.423811</td>\n      <td>1.907227e+05</td>\n      <td>1400.953201</td>\n      <td>3086.504440</td>\n      <td>35.572343</td>\n    </tr>\n    <tr>\n      <th>min</th>\n      <td>6.800000</td>\n      <td>1.090000e+02</td>\n      <td>1.000000</td>\n      <td>1.000000</td>\n      <td>1.000000</td>\n    </tr>\n    <tr>\n      <th>25%</th>\n      <td>7.080000</td>\n      <td>4.487000e+03</td>\n      <td>1433.000000</td>\n      <td>1541.000000</td>\n      <td>1.000000</td>\n    </tr>\n    <tr>\n      <th>50%</th>\n      <td>7.310000</td>\n      <td>1.775500e+04</td>\n      <td>2592.000000</td>\n      <td>3343.000000</td>\n      <td>12.000000</td>\n    </tr>\n    <tr>\n      <th>75%</th>\n      <td>7.610000</td>\n      <td>6.571200e+04</td>\n      <td>3766.000000</td>\n      <td>5789.000000</td>\n      <td>16.000000</td>\n    </tr>\n    <tr>\n      <th>max</th>\n      <td>9.140000</td>\n      <td>2.745016e+06</td>\n      <td>5026.000000</td>\n      <td>16554.000000</td>\n      <td>1787.000000</td>\n    </tr>\n  </tbody>\n</table>\n</div>"
     },
     "execution_count": 39,
     "metadata": {},
     "output_type": "execute_result"
    }
   ],
   "source": [
    "# Check for outliers\n",
    "anime_df.describe()"
   ],
   "metadata": {
    "collapsed": false,
    "ExecuteTime": {
     "end_time": "2024-01-19T17:10:06.547642400Z",
     "start_time": "2024-01-19T17:10:06.318175900Z"
    }
   },
   "id": "1b3110beaafd96a5",
   "execution_count": 39
  },
  {
   "cell_type": "code",
   "outputs": [
    {
     "data": {
      "text/plain": "              Score           Vote        Ranked    Popularity      Members  \\\ncount  10000.000000   10000.000000  10000.000000  10000.000000  2091.000000   \nmean       7.368518    3505.667100   5000.786300   8737.925500   672.515065   \nstd        0.377491   14026.002244   2887.469732   6707.791147   193.726656   \nmin        6.900000     100.000000      1.000000      1.000000   203.000000   \n25%        7.080000     318.000000   2500.750000   3104.500000   528.500000   \n50%        7.280000     792.000000   4992.500000   7351.500000   688.000000   \n75%        7.560000    2248.000000   7500.250000  13281.250000   829.000000   \nmax        9.470000  401815.000000  10060.000000  32962.000000   998.000000   \n\n          Favorite      Volumes     Chapters  \ncount  9526.000000  7382.000000  7479.000000  \nmean     70.472076     6.645354    47.929937  \nstd     144.029300     8.215789    77.817460  \nmin       0.000000     1.000000     1.000000  \n25%       6.000000     2.000000     8.000000  \n50%      17.000000     4.000000    23.000000  \n75%      58.000000     9.000000    56.000000  \nmax     999.000000   200.000000  1957.000000  ",
      "text/html": "<div>\n<style scoped>\n    .dataframe tbody tr th:only-of-type {\n        vertical-align: middle;\n    }\n\n    .dataframe tbody tr th {\n        vertical-align: top;\n    }\n\n    .dataframe thead th {\n        text-align: right;\n    }\n</style>\n<table border=\"1\" class=\"dataframe\">\n  <thead>\n    <tr style=\"text-align: right;\">\n      <th></th>\n      <th>Score</th>\n      <th>Vote</th>\n      <th>Ranked</th>\n      <th>Popularity</th>\n      <th>Members</th>\n      <th>Favorite</th>\n      <th>Volumes</th>\n      <th>Chapters</th>\n    </tr>\n  </thead>\n  <tbody>\n    <tr>\n      <th>count</th>\n      <td>10000.000000</td>\n      <td>10000.000000</td>\n      <td>10000.000000</td>\n      <td>10000.000000</td>\n      <td>2091.000000</td>\n      <td>9526.000000</td>\n      <td>7382.000000</td>\n      <td>7479.000000</td>\n    </tr>\n    <tr>\n      <th>mean</th>\n      <td>7.368518</td>\n      <td>3505.667100</td>\n      <td>5000.786300</td>\n      <td>8737.925500</td>\n      <td>672.515065</td>\n      <td>70.472076</td>\n      <td>6.645354</td>\n      <td>47.929937</td>\n    </tr>\n    <tr>\n      <th>std</th>\n      <td>0.377491</td>\n      <td>14026.002244</td>\n      <td>2887.469732</td>\n      <td>6707.791147</td>\n      <td>193.726656</td>\n      <td>144.029300</td>\n      <td>8.215789</td>\n      <td>77.817460</td>\n    </tr>\n    <tr>\n      <th>min</th>\n      <td>6.900000</td>\n      <td>100.000000</td>\n      <td>1.000000</td>\n      <td>1.000000</td>\n      <td>203.000000</td>\n      <td>0.000000</td>\n      <td>1.000000</td>\n      <td>1.000000</td>\n    </tr>\n    <tr>\n      <th>25%</th>\n      <td>7.080000</td>\n      <td>318.000000</td>\n      <td>2500.750000</td>\n      <td>3104.500000</td>\n      <td>528.500000</td>\n      <td>6.000000</td>\n      <td>2.000000</td>\n      <td>8.000000</td>\n    </tr>\n    <tr>\n      <th>50%</th>\n      <td>7.280000</td>\n      <td>792.000000</td>\n      <td>4992.500000</td>\n      <td>7351.500000</td>\n      <td>688.000000</td>\n      <td>17.000000</td>\n      <td>4.000000</td>\n      <td>23.000000</td>\n    </tr>\n    <tr>\n      <th>75%</th>\n      <td>7.560000</td>\n      <td>2248.000000</td>\n      <td>7500.250000</td>\n      <td>13281.250000</td>\n      <td>829.000000</td>\n      <td>58.000000</td>\n      <td>9.000000</td>\n      <td>56.000000</td>\n    </tr>\n    <tr>\n      <th>max</th>\n      <td>9.470000</td>\n      <td>401815.000000</td>\n      <td>10060.000000</td>\n      <td>32962.000000</td>\n      <td>998.000000</td>\n      <td>999.000000</td>\n      <td>200.000000</td>\n      <td>1957.000000</td>\n    </tr>\n  </tbody>\n</table>\n</div>"
     },
     "execution_count": 40,
     "metadata": {},
     "output_type": "execute_result"
    }
   ],
   "source": [
    "manga_df.describe()"
   ],
   "metadata": {
    "collapsed": false,
    "ExecuteTime": {
     "end_time": "2024-01-19T17:10:11.202775700Z",
     "start_time": "2024-01-19T17:10:10.955468700Z"
    }
   },
   "id": "4d7a2f2cfe59455f",
   "execution_count": 40
  },
  {
   "cell_type": "code",
   "outputs": [],
   "source": [
    "# Export Cleaned Dataset\n",
    "anime_df.to_csv(\"data/clean_anime.csv\", index=False)\n",
    "manga_df.to_csv(\"data/clean_manga.csv\", index=False)"
   ],
   "metadata": {
    "collapsed": false,
    "ExecuteTime": {
     "end_time": "2024-01-19T17:26:47.137116800Z",
     "start_time": "2024-01-19T17:26:44.571703100Z"
    }
   },
   "id": "4ac600e577b843e8",
   "execution_count": 43
  }
 ],
 "metadata": {
  "kernelspec": {
   "display_name": "Python 3",
   "language": "python",
   "name": "python3"
  },
  "language_info": {
   "codemirror_mode": {
    "name": "ipython",
    "version": 2
   },
   "file_extension": ".py",
   "mimetype": "text/x-python",
   "name": "python",
   "nbconvert_exporter": "python",
   "pygments_lexer": "ipython2",
   "version": "2.7.6"
  }
 },
 "nbformat": 4,
 "nbformat_minor": 5
}
