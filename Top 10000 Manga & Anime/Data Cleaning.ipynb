{
 "cells": [
  {
   "cell_type": "code",
   "execution_count": 26,
   "id": "initial_id",
   "metadata": {
    "collapsed": true,
    "ExecuteTime": {
     "end_time": "2024-01-20T13:05:34.523065300Z",
     "start_time": "2024-01-20T13:05:32.674602Z"
    }
   },
   "outputs": [],
   "source": [
    "# Import Libraries\n",
    "import pandas as pd"
   ]
  },
  {
   "cell_type": "code",
   "outputs": [],
   "source": [
    "# Import Dataset\n",
    "anime_df = pd.read_csv(\"data/anime.csv\")\n",
    "manga_df = pd.read_csv(\"data/manga.csv\")"
   ],
   "metadata": {
    "collapsed": false,
    "ExecuteTime": {
     "end_time": "2024-01-20T13:05:35.543932900Z",
     "start_time": "2024-01-20T13:05:34.544054800Z"
    }
   },
   "id": "6d9a58fb7b254690",
   "execution_count": 27
  },
  {
   "cell_type": "code",
   "outputs": [
    {
     "data": {
      "text/plain": "(10000, 15)"
     },
     "execution_count": 28,
     "metadata": {},
     "output_type": "execute_result"
    }
   ],
   "source": [
    "anime_df.shape"
   ],
   "metadata": {
    "collapsed": false,
    "ExecuteTime": {
     "end_time": "2024-01-20T13:05:35.693935100Z",
     "start_time": "2024-01-20T13:05:35.530939900Z"
    }
   },
   "id": "15eb588cad666cec",
   "execution_count": 28
  },
  {
   "cell_type": "code",
   "outputs": [
    {
     "data": {
      "text/plain": "Title            0\nScore            0\nVote             0\nRanked           0\nPopularity       0\nEpisodes         0\nStatus           0\nAired            0\nPremiered     5122\nProducers        0\nLicensors        0\nStudios          0\nSource           0\nDuration         0\nRating          20\ndtype: int64"
     },
     "execution_count": 29,
     "metadata": {},
     "output_type": "execute_result"
    }
   ],
   "source": [
    "# Check for Missing Values\n",
    "anime_df.isnull().sum()"
   ],
   "metadata": {
    "collapsed": false,
    "ExecuteTime": {
     "end_time": "2024-01-20T13:05:35.994767400Z",
     "start_time": "2024-01-20T13:05:35.563909300Z"
    }
   },
   "id": "f6652af59d1ca7cc",
   "execution_count": 29
  },
  {
   "cell_type": "code",
   "outputs": [
    {
     "data": {
      "text/plain": "Title               0\nScore               0\nVote                0\nRanked              0\nPopularity          0\nMembers             0\nFavorite            0\nVolumes             0\nChapters            0\nStatus              0\nPublished           0\nGenres              0\nThemes              0\nDemographics        0\nSerialization    1789\nAuthor             15\ndtype: int64"
     },
     "execution_count": 30,
     "metadata": {},
     "output_type": "execute_result"
    }
   ],
   "source": [
    "manga_df.isnull().sum()"
   ],
   "metadata": {
    "collapsed": false,
    "ExecuteTime": {
     "end_time": "2024-01-20T13:05:36.091270200Z",
     "start_time": "2024-01-20T13:05:35.827077100Z"
    }
   },
   "id": "37543d2a0a269aa9",
   "execution_count": 30
  },
  {
   "cell_type": "code",
   "outputs": [],
   "source": [
    "# Drop Column named Premiered from the anime_df dataset\n",
    "anime_df.drop(columns=[\"Premiered\"], inplace=True)"
   ],
   "metadata": {
    "collapsed": false,
    "ExecuteTime": {
     "end_time": "2024-01-20T13:05:36.244153100Z",
     "start_time": "2024-01-20T13:05:35.954324700Z"
    }
   },
   "id": "cfa4f937b5e6e5db",
   "execution_count": 31
  },
  {
   "cell_type": "code",
   "outputs": [
    {
     "data": {
      "text/plain": "Title          0\nScore          0\nVote           0\nRanked         0\nPopularity     0\nEpisodes       0\nStatus         0\nAired          0\nProducers      0\nLicensors      0\nStudios        0\nSource         0\nDuration       0\nRating        20\ndtype: int64"
     },
     "execution_count": 32,
     "metadata": {},
     "output_type": "execute_result"
    }
   ],
   "source": [
    "# Check for Missing Values\n",
    "anime_df.isnull().sum()"
   ],
   "metadata": {
    "collapsed": false,
    "ExecuteTime": {
     "end_time": "2024-01-20T13:05:36.291803200Z",
     "start_time": "2024-01-20T13:05:36.013089700Z"
    }
   },
   "id": "f2a81383a1fead2",
   "execution_count": 32
  },
  {
   "cell_type": "code",
   "outputs": [
    {
     "data": {
      "text/plain": "(10000, 14)"
     },
     "execution_count": 33,
     "metadata": {},
     "output_type": "execute_result"
    }
   ],
   "source": [
    "anime_df.shape"
   ],
   "metadata": {
    "collapsed": false,
    "ExecuteTime": {
     "end_time": "2024-01-20T13:05:36.364591500Z",
     "start_time": "2024-01-20T13:05:36.082273200Z"
    }
   },
   "id": "4ff97f539325ce7e",
   "execution_count": 33
  },
  {
   "cell_type": "code",
   "outputs": [
    {
     "data": {
      "text/plain": "1631"
     },
     "execution_count": 34,
     "metadata": {},
     "output_type": "execute_result"
    }
   ],
   "source": [
    "# Check for Duplicates\n",
    "anime_df.duplicated().sum()"
   ],
   "metadata": {
    "collapsed": false,
    "ExecuteTime": {
     "end_time": "2024-01-20T13:05:36.578891300Z",
     "start_time": "2024-01-20T13:05:36.143212Z"
    }
   },
   "id": "f30985d0bbd404b",
   "execution_count": 34
  },
  {
   "cell_type": "code",
   "outputs": [],
   "source": [
    "# Drop Duplicates from the anime_df dataset\n",
    "anime_df.drop_duplicates(inplace=True)"
   ],
   "metadata": {
    "collapsed": false,
    "ExecuteTime": {
     "end_time": "2024-01-20T13:05:36.629103500Z",
     "start_time": "2024-01-20T13:05:36.293802700Z"
    }
   },
   "id": "88b3db50e57f4502",
   "execution_count": 35
  },
  {
   "cell_type": "code",
   "outputs": [
    {
     "name": "stdout",
     "output_type": "stream",
     "text": [
      "Duplicate Titles in Anime Dataset:\n",
      "                                                  Title\n",
      "0        Sousou no FrierenFrieren: Beyond Journey's End\n",
      "3                              Gintama°Gintama Season 4\n",
      "9                 Gintama': EnchousenGintama: Enchousen\n",
      "10    Kaguya-sama wa Kokurasetai: Ultra RomanticKagu...\n",
      "15    Shingeki no Kyojin: The Final Season - Kankets...\n",
      "...                                                 ...\n",
      "9995       Sword Art Online: Alicization - Recollection\n",
      "9996  Taimadou Gakuen 35 Shiken ShoutaiAnti-Magic Ac...\n",
      "9997         Taiyou no Mokushiroku: A Spirit of the Sun\n",
      "9998                   Weiß Kreuz OVAKnight Hunters OVA\n",
      "9999          Wo Shi Da Shenxian 2nd SeasonDa Shen Xian\n",
      "\n",
      "[6744 rows x 1 columns]\n"
     ]
    }
   ],
   "source": [
    "# Check and print Duplicates from the title column in anime_df dataset\n",
    "duplicate_titles = anime_df[anime_df.duplicated('Title', keep=False)]\n",
    "\n",
    "# Print duplicates\n",
    "if not duplicate_titles.empty:\n",
    "    print(\"Duplicate Titles in Anime Dataset:\")\n",
    "    print(duplicate_titles[['Title']])\n",
    "else:\n",
    "    print(\"No duplicate titles found.\")"
   ],
   "metadata": {
    "collapsed": false,
    "ExecuteTime": {
     "end_time": "2024-01-20T13:05:36.741531400Z",
     "start_time": "2024-01-20T13:05:36.467499900Z"
    }
   },
   "id": "3261cd5b737c8ca6",
   "execution_count": 36
  },
  {
   "cell_type": "code",
   "outputs": [],
   "source": [
    "# Drop Duplicates from the title column in anime_df dataset\n",
    "anime_df.drop_duplicates(subset=['Title'], keep='first', inplace=True)"
   ],
   "metadata": {
    "collapsed": false,
    "ExecuteTime": {
     "end_time": "2024-01-20T13:05:36.791099300Z",
     "start_time": "2024-01-20T13:05:36.524390400Z"
    }
   },
   "id": "da467b6c8466fca8",
   "execution_count": 37
  },
  {
   "cell_type": "code",
   "outputs": [
    {
     "name": "stdout",
     "output_type": "stream",
     "text": [
      "Duplicate Titles in Manga Dataset:\n",
      "                                                  Title\n",
      "7                                   Fullmetal Alchemist\n",
      "22    Youkoso Jitsuryoku Shijou Shugi no Kyoushitsu ...\n",
      "30                 Ookami to Koushinryou (Spice & Wolf)\n",
      "31    Mushoku Tensei: Isekai Ittara Honki Dasu (Mush...\n",
      "32                                  86 (86: Eighty-Six)\n",
      "...                                                 ...\n",
      "9877               Ore to Kawazu-san no Isekai Hourouki\n",
      "9959                              Little Witch Academia\n",
      "9964          Grancrest Senki (Record of Grancrest War)\n",
      "9969                                    Assassins Pride\n",
      "9984  Hazure Skill \"Kage ga Usui\" wo Motsu Guild Sho...\n",
      "\n",
      "[626 rows x 1 columns]\n"
     ]
    }
   ],
   "source": [
    "# Check and print Duplicates from the title column in manga_df dataset\n",
    "duplicate_titles = manga_df[manga_df.duplicated('Title', keep=False)]\n",
    "\n",
    "# Print duplicates\n",
    "if not duplicate_titles.empty:\n",
    "    print(\"Duplicate Titles in Manga Dataset:\")\n",
    "    print(duplicate_titles[['Title']])\n",
    "else:\n",
    "    print(\"No duplicate titles found.\")"
   ],
   "metadata": {
    "collapsed": false,
    "ExecuteTime": {
     "end_time": "2024-01-20T13:05:36.828077400Z",
     "start_time": "2024-01-20T13:05:36.612113200Z"
    }
   },
   "id": "eb04f11f1aabf243",
   "execution_count": 38
  },
  {
   "cell_type": "code",
   "outputs": [],
   "source": [
    "# Drop Duplicates from the title column in manga_df dataset\n",
    "manga_df.drop_duplicates(subset=['Title'], keep='first', inplace=True)"
   ],
   "metadata": {
    "collapsed": false,
    "ExecuteTime": {
     "end_time": "2024-01-20T13:05:36.980078500Z",
     "start_time": "2024-01-20T13:05:36.752526600Z"
    }
   },
   "id": "791507c14062e0d1",
   "execution_count": 39
  },
  {
   "cell_type": "code",
   "outputs": [
    {
     "data": {
      "text/plain": "0"
     },
     "execution_count": 40,
     "metadata": {},
     "output_type": "execute_result"
    }
   ],
   "source": [
    "manga_df.duplicated().sum()"
   ],
   "metadata": {
    "collapsed": false,
    "ExecuteTime": {
     "end_time": "2024-01-20T13:05:37.175269900Z",
     "start_time": "2024-01-20T13:05:36.957457700Z"
    }
   },
   "id": "c9727dfd42306094",
   "execution_count": 40
  },
  {
   "cell_type": "code",
   "outputs": [
    {
     "data": {
      "text/plain": "Title          object\nScore         float64\nVote            int64\nRanked          int64\nPopularity      int64\nEpisodes       object\nStatus         object\nAired          object\nProducers      object\nLicensors      object\nStudios        object\nSource         object\nDuration       object\nRating         object\ndtype: object"
     },
     "execution_count": 41,
     "metadata": {},
     "output_type": "execute_result"
    }
   ],
   "source": [
    "# Data Types\n",
    "anime_df.dtypes"
   ],
   "metadata": {
    "collapsed": false,
    "ExecuteTime": {
     "end_time": "2024-01-20T13:05:37.235366500Z",
     "start_time": "2024-01-20T13:05:37.125266800Z"
    }
   },
   "id": "a052efe59c8ae12a",
   "execution_count": 41
  },
  {
   "cell_type": "code",
   "outputs": [
    {
     "data": {
      "text/plain": "Title             object\nScore            float64\nVote               int64\nRanked             int64\nPopularity         int64\nMembers           object\nFavorite          object\nVolumes           object\nChapters          object\nStatus            object\nPublished         object\nGenres            object\nThemes            object\nDemographics      object\nSerialization     object\nAuthor            object\ndtype: object"
     },
     "execution_count": 42,
     "metadata": {},
     "output_type": "execute_result"
    }
   ],
   "source": [
    "manga_df.dtypes"
   ],
   "metadata": {
    "collapsed": false,
    "ExecuteTime": {
     "end_time": "2024-01-20T13:05:37.343840200Z",
     "start_time": "2024-01-20T13:05:37.213251800Z"
    }
   },
   "id": "a9b8488993cae518",
   "execution_count": 42
  },
  {
   "cell_type": "code",
   "outputs": [],
   "source": [
    "# Convert Columns to Numeric\n",
    "anime_df[[\"Episodes\"]] = anime_df[[\"Episodes\"]].apply(pd.to_numeric, errors='coerce')\n",
    "manga_df[[\"Members\", \"Favorite\", \"Volumes\", \"Chapters\"]] = manga_df[[\"Members\", \"Favorite\", \"Volumes\", \"Chapters\"]].apply(pd.to_numeric, errors='coerce')"
   ],
   "metadata": {
    "collapsed": false,
    "ExecuteTime": {
     "end_time": "2024-01-20T13:05:37.573371500Z",
     "start_time": "2024-01-20T13:05:37.339842700Z"
    }
   },
   "id": "8ca94819550c881f",
   "execution_count": 43
  },
  {
   "cell_type": "code",
   "outputs": [
    {
     "data": {
      "text/plain": "Title          object\nScore         float64\nVote            int64\nRanked          int64\nPopularity      int64\nEpisodes      float64\nStatus         object\nAired          object\nProducers      object\nLicensors      object\nStudios        object\nSource         object\nDuration       object\nRating         object\ndtype: object"
     },
     "execution_count": 44,
     "metadata": {},
     "output_type": "execute_result"
    }
   ],
   "source": [
    "# Data Types\n",
    "anime_df.dtypes"
   ],
   "metadata": {
    "collapsed": false,
    "ExecuteTime": {
     "end_time": "2024-01-20T13:05:37.643207500Z",
     "start_time": "2024-01-20T13:05:37.484016800Z"
    }
   },
   "id": "d5782647cffb2f6d",
   "execution_count": 44
  },
  {
   "cell_type": "code",
   "outputs": [
    {
     "data": {
      "text/plain": "Title             object\nScore            float64\nVote               int64\nRanked             int64\nPopularity         int64\nMembers          float64\nFavorite         float64\nVolumes          float64\nChapters         float64\nStatus            object\nPublished         object\nGenres            object\nThemes            object\nDemographics      object\nSerialization     object\nAuthor            object\ndtype: object"
     },
     "execution_count": 45,
     "metadata": {},
     "output_type": "execute_result"
    }
   ],
   "source": [
    "manga_df.dtypes"
   ],
   "metadata": {
    "collapsed": false,
    "ExecuteTime": {
     "end_time": "2024-01-20T13:05:37.675187600Z",
     "start_time": "2024-01-20T13:05:37.502004700Z"
    }
   },
   "id": "fb0286d140c6b56f",
   "execution_count": 45
  },
  {
   "cell_type": "code",
   "outputs": [
    {
     "data": {
      "text/plain": "             Score          Vote       Ranked    Popularity     Episodes\ncount  4997.000000  4.997000e+03  4997.000000   4997.000000  4974.000000\nmean      7.422315  8.546024e+04  2501.381629   3917.129077    16.550864\nstd       0.447224  2.002521e+05  1444.549924   3086.965760    39.376690\nmin       6.800000  1.090000e+02     1.000000      1.000000     1.000000\n25%       7.080000  4.712000e+03  1250.000000   1419.000000     1.000000\n50%       7.330000  1.943900e+04  2502.000000   3192.000000    12.000000\n75%       7.670000  7.348600e+04  3752.000000   5723.000000    20.000000\nmax       9.140000  2.745016e+06  5025.000000  16554.000000  1787.000000",
      "text/html": "<div>\n<style scoped>\n    .dataframe tbody tr th:only-of-type {\n        vertical-align: middle;\n    }\n\n    .dataframe tbody tr th {\n        vertical-align: top;\n    }\n\n    .dataframe thead th {\n        text-align: right;\n    }\n</style>\n<table border=\"1\" class=\"dataframe\">\n  <thead>\n    <tr style=\"text-align: right;\">\n      <th></th>\n      <th>Score</th>\n      <th>Vote</th>\n      <th>Ranked</th>\n      <th>Popularity</th>\n      <th>Episodes</th>\n    </tr>\n  </thead>\n  <tbody>\n    <tr>\n      <th>count</th>\n      <td>4997.000000</td>\n      <td>4.997000e+03</td>\n      <td>4997.000000</td>\n      <td>4997.000000</td>\n      <td>4974.000000</td>\n    </tr>\n    <tr>\n      <th>mean</th>\n      <td>7.422315</td>\n      <td>8.546024e+04</td>\n      <td>2501.381629</td>\n      <td>3917.129077</td>\n      <td>16.550864</td>\n    </tr>\n    <tr>\n      <th>std</th>\n      <td>0.447224</td>\n      <td>2.002521e+05</td>\n      <td>1444.549924</td>\n      <td>3086.965760</td>\n      <td>39.376690</td>\n    </tr>\n    <tr>\n      <th>min</th>\n      <td>6.800000</td>\n      <td>1.090000e+02</td>\n      <td>1.000000</td>\n      <td>1.000000</td>\n      <td>1.000000</td>\n    </tr>\n    <tr>\n      <th>25%</th>\n      <td>7.080000</td>\n      <td>4.712000e+03</td>\n      <td>1250.000000</td>\n      <td>1419.000000</td>\n      <td>1.000000</td>\n    </tr>\n    <tr>\n      <th>50%</th>\n      <td>7.330000</td>\n      <td>1.943900e+04</td>\n      <td>2502.000000</td>\n      <td>3192.000000</td>\n      <td>12.000000</td>\n    </tr>\n    <tr>\n      <th>75%</th>\n      <td>7.670000</td>\n      <td>7.348600e+04</td>\n      <td>3752.000000</td>\n      <td>5723.000000</td>\n      <td>20.000000</td>\n    </tr>\n    <tr>\n      <th>max</th>\n      <td>9.140000</td>\n      <td>2.745016e+06</td>\n      <td>5025.000000</td>\n      <td>16554.000000</td>\n      <td>1787.000000</td>\n    </tr>\n  </tbody>\n</table>\n</div>"
     },
     "execution_count": 46,
     "metadata": {},
     "output_type": "execute_result"
    }
   ],
   "source": [
    "# Check for outliers\n",
    "anime_df.describe()"
   ],
   "metadata": {
    "collapsed": false,
    "ExecuteTime": {
     "end_time": "2024-01-20T13:05:37.702173900Z",
     "start_time": "2024-01-20T13:05:37.554381200Z"
    }
   },
   "id": "1b3110beaafd96a5",
   "execution_count": 46
  },
  {
   "cell_type": "code",
   "outputs": [
    {
     "data": {
      "text/plain": "             Score           Vote        Ranked    Popularity      Members  \\\ncount  9684.000000    9684.000000   9684.000000   9684.000000  2051.000000   \nmean      7.367742    3460.308344   5009.752169   8811.492668   672.103364   \nstd       0.377960   14060.928970   2887.735869   6710.033288   193.408676   \nmin       6.900000     100.000000      1.000000      1.000000   203.000000   \n25%       7.080000     316.000000   2514.750000   3194.750000   529.000000   \n50%       7.280000     784.500000   5000.500000   7451.500000   687.000000   \n75%       7.552500    2184.000000   7509.250000  13356.250000   828.000000   \nmax       9.470000  401815.000000  10060.000000  32962.000000   998.000000   \n\n          Favorite      Volumes     Chapters  \ncount  9234.000000  7181.000000  7283.000000  \nmean     69.266840     6.651720    48.096252  \nstd     142.954274     8.241886    77.975249  \nmin       0.000000     1.000000     1.000000  \n25%       5.000000     2.000000     8.000000  \n50%      16.000000     4.000000    23.000000  \n75%      57.000000     9.000000    56.000000  \nmax     999.000000   200.000000  1957.000000  ",
      "text/html": "<div>\n<style scoped>\n    .dataframe tbody tr th:only-of-type {\n        vertical-align: middle;\n    }\n\n    .dataframe tbody tr th {\n        vertical-align: top;\n    }\n\n    .dataframe thead th {\n        text-align: right;\n    }\n</style>\n<table border=\"1\" class=\"dataframe\">\n  <thead>\n    <tr style=\"text-align: right;\">\n      <th></th>\n      <th>Score</th>\n      <th>Vote</th>\n      <th>Ranked</th>\n      <th>Popularity</th>\n      <th>Members</th>\n      <th>Favorite</th>\n      <th>Volumes</th>\n      <th>Chapters</th>\n    </tr>\n  </thead>\n  <tbody>\n    <tr>\n      <th>count</th>\n      <td>9684.000000</td>\n      <td>9684.000000</td>\n      <td>9684.000000</td>\n      <td>9684.000000</td>\n      <td>2051.000000</td>\n      <td>9234.000000</td>\n      <td>7181.000000</td>\n      <td>7283.000000</td>\n    </tr>\n    <tr>\n      <th>mean</th>\n      <td>7.367742</td>\n      <td>3460.308344</td>\n      <td>5009.752169</td>\n      <td>8811.492668</td>\n      <td>672.103364</td>\n      <td>69.266840</td>\n      <td>6.651720</td>\n      <td>48.096252</td>\n    </tr>\n    <tr>\n      <th>std</th>\n      <td>0.377960</td>\n      <td>14060.928970</td>\n      <td>2887.735869</td>\n      <td>6710.033288</td>\n      <td>193.408676</td>\n      <td>142.954274</td>\n      <td>8.241886</td>\n      <td>77.975249</td>\n    </tr>\n    <tr>\n      <th>min</th>\n      <td>6.900000</td>\n      <td>100.000000</td>\n      <td>1.000000</td>\n      <td>1.000000</td>\n      <td>203.000000</td>\n      <td>0.000000</td>\n      <td>1.000000</td>\n      <td>1.000000</td>\n    </tr>\n    <tr>\n      <th>25%</th>\n      <td>7.080000</td>\n      <td>316.000000</td>\n      <td>2514.750000</td>\n      <td>3194.750000</td>\n      <td>529.000000</td>\n      <td>5.000000</td>\n      <td>2.000000</td>\n      <td>8.000000</td>\n    </tr>\n    <tr>\n      <th>50%</th>\n      <td>7.280000</td>\n      <td>784.500000</td>\n      <td>5000.500000</td>\n      <td>7451.500000</td>\n      <td>687.000000</td>\n      <td>16.000000</td>\n      <td>4.000000</td>\n      <td>23.000000</td>\n    </tr>\n    <tr>\n      <th>75%</th>\n      <td>7.552500</td>\n      <td>2184.000000</td>\n      <td>7509.250000</td>\n      <td>13356.250000</td>\n      <td>828.000000</td>\n      <td>57.000000</td>\n      <td>9.000000</td>\n      <td>56.000000</td>\n    </tr>\n    <tr>\n      <th>max</th>\n      <td>9.470000</td>\n      <td>401815.000000</td>\n      <td>10060.000000</td>\n      <td>32962.000000</td>\n      <td>998.000000</td>\n      <td>999.000000</td>\n      <td>200.000000</td>\n      <td>1957.000000</td>\n    </tr>\n  </tbody>\n</table>\n</div>"
     },
     "execution_count": 47,
     "metadata": {},
     "output_type": "execute_result"
    }
   ],
   "source": [
    "manga_df.describe()"
   ],
   "metadata": {
    "collapsed": false,
    "ExecuteTime": {
     "end_time": "2024-01-20T13:05:37.899884900Z",
     "start_time": "2024-01-20T13:05:37.684186100Z"
    }
   },
   "id": "4d7a2f2cfe59455f",
   "execution_count": 47
  },
  {
   "cell_type": "code",
   "outputs": [],
   "source": [
    "# Export Cleaned Dataset\n",
    "anime_df.to_csv(\"data/clean_anime.csv\", index=False)\n",
    "manga_df.to_csv(\"data/clean_manga.csv\", index=False)"
   ],
   "metadata": {
    "collapsed": false,
    "ExecuteTime": {
     "end_time": "2024-01-20T13:05:38.390299900Z",
     "start_time": "2024-01-20T13:05:37.824648700Z"
    }
   },
   "id": "4ac600e577b843e8",
   "execution_count": 48
  }
 ],
 "metadata": {
  "kernelspec": {
   "display_name": "Python 3",
   "language": "python",
   "name": "python3"
  },
  "language_info": {
   "codemirror_mode": {
    "name": "ipython",
    "version": 2
   },
   "file_extension": ".py",
   "mimetype": "text/x-python",
   "name": "python",
   "nbconvert_exporter": "python",
   "pygments_lexer": "ipython2",
   "version": "2.7.6"
  }
 },
 "nbformat": 4,
 "nbformat_minor": 5
}
