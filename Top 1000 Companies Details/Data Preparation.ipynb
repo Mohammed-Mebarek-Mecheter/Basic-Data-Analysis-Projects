{
 "cells": [
  {
   "cell_type": "code",
   "execution_count": 1,
   "id": "initial_id",
   "metadata": {
    "collapsed": true,
    "ExecuteTime": {
     "end_time": "2023-08-19T12:35:29.053345100Z",
     "start_time": "2023-08-19T12:35:29.047769100Z"
    }
   },
   "outputs": [],
   "source": [
    "# Import relevant libraries\n",
    "import pandas as pd"
   ]
  },
  {
   "cell_type": "code",
   "execution_count": 20,
   "outputs": [],
   "source": [
    "# Load data\n",
    "companies_data = pd.read_csv(\"data/Top_1000_Companies_Dataset.csv\")"
   ],
   "metadata": {
    "collapsed": false,
    "ExecuteTime": {
     "end_time": "2023-08-19T14:04:39.352784200Z",
     "start_time": "2023-08-19T14:04:39.264250600Z"
    }
   },
   "id": "714c41be9c6cdd11"
  },
  {
   "cell_type": "code",
   "execution_count": 18,
   "outputs": [
    {
     "data": {
      "text/plain": "          company_name          url           city state        country  \\\n0               OpenAI   openai.com  San Francisco    CA  United States   \n1              Alchemy  alchemy.com  San Francisco    CA  United States   \n2             dbt Labs   getdbt.com   Philadelphia    PA  United States   \n3  Wasabi Technologies   wasabi.com         Boston    MA  United States   \n4              Whatnot  whatnot.com    Los Angeles    CA  United States   \n\n   employees                                       linkedin_url  founded  \\\n0        655             http://www.linkedin.com/company/openai   2015.0   \n1        201         http://www.linkedin.com/company/alchemyinc      NaN   \n2        511            http://www.linkedin.com/company/dbtlabs   2016.0   \n3        355  http://www.linkedin.com/company/wasabitechnolo...   2017.0   \n4        551        http://www.linkedin.com/company/whatnot-inc   2019.0   \n\n    Industry  GrowjoRanking  ...  \\\n0         AI              1  ...   \n1    Fintech              2  ...   \n2  Analytics              3  ...   \n3      Cloud              4  ...   \n4  eCommerce              5  ...   \n\n                                            keywords            LeadInvestors  \\\n0  Artificial Intelligence, Online Gaming, Non Pr...    Thrive, Founders Fund   \n1                                                NaN  Lightspeed, Silver Lake   \n2                                                NaN                Altimeter   \n3                                               saas                 L2 Point   \n4                                                NaN               DST Global   \n\n   Accelerator btype     valuation total_funding  \\\n0          NaN   NaN  2.900000e+10          $11B   \n1          NaN   NaN  1.020000e+10         $564M   \n2          NaN   NaN  4.200000e+09       $414.4M   \n3          NaN   NaN  1.100000e+09       $286.2M   \n4          NaN   NaN  3.700000e+09       $484.7M   \n\n                                         product_url  \\\n0              https://www.growjo.com/company/OpenAI   \n1             https://www.growjo.com/company/Alchemy   \n2            https://www.growjo.com/company/dbt_Labs   \n3  https://www.growjo.com/company/Wasabi_Technolo...   \n4             https://www.growjo.com/company/Whatnot   \n\n                                          indeed_url growth_percentage  \\\n0   https://www.indeed.com/jobs?q=company%3A(OpenAI)              118%   \n1  https://www.indeed.com/jobs?q=company%3A(Alchemy)              134%   \n2  https://www.indeed.com/jobs?q=company%3A(dbt L...               76%   \n3  https://www.indeed.com/jobs?q=company%3A(Wasab...               60%   \n4  https://www.indeed.com/jobs?q=company%3A(Whatnot)               97%   \n\n                                        contact_info  \n0  For Contact Direct Phone Numbers and Emails se...  \n1  For Contact Direct Phone Numbers and Emails se...  \n2  For Contact Direct Phone Numbers and Emails se...  \n3  For Contact Direct Phone Numbers and Emails se...  \n4  For Contact Direct Phone Numbers and Emails se...  \n\n[5 rows x 23 columns]",
      "text/html": "<div>\n<style scoped>\n    .dataframe tbody tr th:only-of-type {\n        vertical-align: middle;\n    }\n\n    .dataframe tbody tr th {\n        vertical-align: top;\n    }\n\n    .dataframe thead th {\n        text-align: right;\n    }\n</style>\n<table border=\"1\" class=\"dataframe\">\n  <thead>\n    <tr style=\"text-align: right;\">\n      <th></th>\n      <th>company_name</th>\n      <th>url</th>\n      <th>city</th>\n      <th>state</th>\n      <th>country</th>\n      <th>employees</th>\n      <th>linkedin_url</th>\n      <th>founded</th>\n      <th>Industry</th>\n      <th>GrowjoRanking</th>\n      <th>...</th>\n      <th>keywords</th>\n      <th>LeadInvestors</th>\n      <th>Accelerator</th>\n      <th>btype</th>\n      <th>valuation</th>\n      <th>total_funding</th>\n      <th>product_url</th>\n      <th>indeed_url</th>\n      <th>growth_percentage</th>\n      <th>contact_info</th>\n    </tr>\n  </thead>\n  <tbody>\n    <tr>\n      <th>0</th>\n      <td>OpenAI</td>\n      <td>openai.com</td>\n      <td>San Francisco</td>\n      <td>CA</td>\n      <td>United States</td>\n      <td>655</td>\n      <td>http://www.linkedin.com/company/openai</td>\n      <td>2015.0</td>\n      <td>AI</td>\n      <td>1</td>\n      <td>...</td>\n      <td>Artificial Intelligence, Online Gaming, Non Pr...</td>\n      <td>Thrive, Founders Fund</td>\n      <td>NaN</td>\n      <td>NaN</td>\n      <td>2.900000e+10</td>\n      <td>$11B</td>\n      <td>https://www.growjo.com/company/OpenAI</td>\n      <td>https://www.indeed.com/jobs?q=company%3A(OpenAI)</td>\n      <td>118%</td>\n      <td>For Contact Direct Phone Numbers and Emails se...</td>\n    </tr>\n    <tr>\n      <th>1</th>\n      <td>Alchemy</td>\n      <td>alchemy.com</td>\n      <td>San Francisco</td>\n      <td>CA</td>\n      <td>United States</td>\n      <td>201</td>\n      <td>http://www.linkedin.com/company/alchemyinc</td>\n      <td>NaN</td>\n      <td>Fintech</td>\n      <td>2</td>\n      <td>...</td>\n      <td>NaN</td>\n      <td>Lightspeed, Silver Lake</td>\n      <td>NaN</td>\n      <td>NaN</td>\n      <td>1.020000e+10</td>\n      <td>$564M</td>\n      <td>https://www.growjo.com/company/Alchemy</td>\n      <td>https://www.indeed.com/jobs?q=company%3A(Alchemy)</td>\n      <td>134%</td>\n      <td>For Contact Direct Phone Numbers and Emails se...</td>\n    </tr>\n    <tr>\n      <th>2</th>\n      <td>dbt Labs</td>\n      <td>getdbt.com</td>\n      <td>Philadelphia</td>\n      <td>PA</td>\n      <td>United States</td>\n      <td>511</td>\n      <td>http://www.linkedin.com/company/dbtlabs</td>\n      <td>2016.0</td>\n      <td>Analytics</td>\n      <td>3</td>\n      <td>...</td>\n      <td>NaN</td>\n      <td>Altimeter</td>\n      <td>NaN</td>\n      <td>NaN</td>\n      <td>4.200000e+09</td>\n      <td>$414.4M</td>\n      <td>https://www.growjo.com/company/dbt_Labs</td>\n      <td>https://www.indeed.com/jobs?q=company%3A(dbt L...</td>\n      <td>76%</td>\n      <td>For Contact Direct Phone Numbers and Emails se...</td>\n    </tr>\n    <tr>\n      <th>3</th>\n      <td>Wasabi Technologies</td>\n      <td>wasabi.com</td>\n      <td>Boston</td>\n      <td>MA</td>\n      <td>United States</td>\n      <td>355</td>\n      <td>http://www.linkedin.com/company/wasabitechnolo...</td>\n      <td>2017.0</td>\n      <td>Cloud</td>\n      <td>4</td>\n      <td>...</td>\n      <td>saas</td>\n      <td>L2 Point</td>\n      <td>NaN</td>\n      <td>NaN</td>\n      <td>1.100000e+09</td>\n      <td>$286.2M</td>\n      <td>https://www.growjo.com/company/Wasabi_Technolo...</td>\n      <td>https://www.indeed.com/jobs?q=company%3A(Wasab...</td>\n      <td>60%</td>\n      <td>For Contact Direct Phone Numbers and Emails se...</td>\n    </tr>\n    <tr>\n      <th>4</th>\n      <td>Whatnot</td>\n      <td>whatnot.com</td>\n      <td>Los Angeles</td>\n      <td>CA</td>\n      <td>United States</td>\n      <td>551</td>\n      <td>http://www.linkedin.com/company/whatnot-inc</td>\n      <td>2019.0</td>\n      <td>eCommerce</td>\n      <td>5</td>\n      <td>...</td>\n      <td>NaN</td>\n      <td>DST Global</td>\n      <td>NaN</td>\n      <td>NaN</td>\n      <td>3.700000e+09</td>\n      <td>$484.7M</td>\n      <td>https://www.growjo.com/company/Whatnot</td>\n      <td>https://www.indeed.com/jobs?q=company%3A(Whatnot)</td>\n      <td>97%</td>\n      <td>For Contact Direct Phone Numbers and Emails se...</td>\n    </tr>\n  </tbody>\n</table>\n<p>5 rows × 23 columns</p>\n</div>"
     },
     "execution_count": 18,
     "metadata": {},
     "output_type": "execute_result"
    }
   ],
   "source": [
    "companies_data.head()"
   ],
   "metadata": {
    "collapsed": false,
    "ExecuteTime": {
     "end_time": "2023-08-19T14:00:49.828767400Z",
     "start_time": "2023-08-19T14:00:49.779338200Z"
    }
   },
   "id": "4ed008ab674d0453"
  },
  {
   "cell_type": "code",
   "execution_count": 19,
   "outputs": [
    {
     "name": "stdout",
     "output_type": "stream",
     "text": [
      "url                     1\n",
      "linkedin_url            3\n",
      "founded               209\n",
      "Industry                3\n",
      "estimated_revenues     28\n",
      "job_openings           62\n",
      "keywords              632\n",
      "LeadInvestors         576\n",
      "Accelerator           988\n",
      "btype                 922\n",
      "valuation             532\n",
      "total_funding         323\n",
      "dtype: int64\n"
     ]
    }
   ],
   "source": [
    "# Check for missing values\n",
    "missing_values = companies_data.isna().sum()\n",
    "\n",
    "# Display columns with missing values and their counts\n",
    "print(missing_values[missing_values > 0])"
   ],
   "metadata": {
    "collapsed": false,
    "ExecuteTime": {
     "end_time": "2023-08-19T14:00:52.360593100Z",
     "start_time": "2023-08-19T14:00:52.333018900Z"
    }
   },
   "id": "5fec7270dbfe7e5f"
  },
  {
   "cell_type": "code",
   "execution_count": 11,
   "outputs": [
    {
     "data": {
      "text/plain": "(1000, 23)"
     },
     "execution_count": 11,
     "metadata": {},
     "output_type": "execute_result"
    }
   ],
   "source": [
    "companies_data.shape"
   ],
   "metadata": {
    "collapsed": false,
    "ExecuteTime": {
     "end_time": "2023-08-19T13:26:50.519294700Z",
     "start_time": "2023-08-19T13:26:50.507091Z"
    }
   },
   "id": "e310d99a0f3070f2"
  }
 ],
 "metadata": {
  "kernelspec": {
   "display_name": "Python 3",
   "language": "python",
   "name": "python3"
  },
  "language_info": {
   "codemirror_mode": {
    "name": "ipython",
    "version": 2
   },
   "file_extension": ".py",
   "mimetype": "text/x-python",
   "name": "python",
   "nbconvert_exporter": "python",
   "pygments_lexer": "ipython2",
   "version": "2.7.6"
  }
 },
 "nbformat": 4,
 "nbformat_minor": 5
}
