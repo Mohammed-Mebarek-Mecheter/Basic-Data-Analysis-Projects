{
 "cells": [
  {
   "cell_type": "code",
   "execution_count": 26,
   "id": "initial_id",
   "metadata": {
    "collapsed": true,
    "ExecuteTime": {
     "end_time": "2024-01-11T21:54:08.519702300Z",
     "start_time": "2024-01-11T21:54:08.412942600Z"
    }
   },
   "outputs": [],
   "source": [
    "# Import Libraries\n",
    "import pandas as pd"
   ]
  },
  {
   "cell_type": "code",
   "execution_count": 27,
   "id": "e6c023c6e836c255",
   "metadata": {
    "ExecuteTime": {
     "end_time": "2024-01-11T21:54:08.652109800Z",
     "start_time": "2024-01-11T21:54:08.534695500Z"
    }
   },
   "outputs": [],
   "source": [
    "# Load Dataset\n",
    "df = pd.read_csv('data/salaries.csv')"
   ]
  },
  {
   "cell_type": "code",
   "execution_count": 28,
   "id": "c82be2340c3fb733",
   "metadata": {
    "ExecuteTime": {
     "end_time": "2024-01-11T21:54:08.735334900Z",
     "start_time": "2024-01-11T21:54:08.693605800Z"
    }
   },
   "outputs": [
    {
     "data": {
      "text/plain": "   work_year experience_level employment_type               job_title  salary  \\\n0       2024               EN              FT  Cyber Security Analyst   45000   \n1       2024               SE              FT      Security Architect  300000   \n2       2024               SE              FT      Security Architect  200000   \n3       2024               EX              FT         Privacy Officer  297000   \n4       2024               EX              FT         Privacy Officer  216000   \n\n  salary_currency  salary_in_usd employee_residence  remote_ratio  \\\n0             EUR          50000                 FR            50   \n1             USD         300000                 US             0   \n2             USD         200000                 US             0   \n3             USD         297000                 US             0   \n4             USD         216000                 US             0   \n\n  company_location company_size  \n0               FR            L  \n1               US            M  \n2               US            M  \n3               US            M  \n4               US            M  ",
      "text/html": "<div>\n<style scoped>\n    .dataframe tbody tr th:only-of-type {\n        vertical-align: middle;\n    }\n\n    .dataframe tbody tr th {\n        vertical-align: top;\n    }\n\n    .dataframe thead th {\n        text-align: right;\n    }\n</style>\n<table border=\"1\" class=\"dataframe\">\n  <thead>\n    <tr style=\"text-align: right;\">\n      <th></th>\n      <th>work_year</th>\n      <th>experience_level</th>\n      <th>employment_type</th>\n      <th>job_title</th>\n      <th>salary</th>\n      <th>salary_currency</th>\n      <th>salary_in_usd</th>\n      <th>employee_residence</th>\n      <th>remote_ratio</th>\n      <th>company_location</th>\n      <th>company_size</th>\n    </tr>\n  </thead>\n  <tbody>\n    <tr>\n      <th>0</th>\n      <td>2024</td>\n      <td>EN</td>\n      <td>FT</td>\n      <td>Cyber Security Analyst</td>\n      <td>45000</td>\n      <td>EUR</td>\n      <td>50000</td>\n      <td>FR</td>\n      <td>50</td>\n      <td>FR</td>\n      <td>L</td>\n    </tr>\n    <tr>\n      <th>1</th>\n      <td>2024</td>\n      <td>SE</td>\n      <td>FT</td>\n      <td>Security Architect</td>\n      <td>300000</td>\n      <td>USD</td>\n      <td>300000</td>\n      <td>US</td>\n      <td>0</td>\n      <td>US</td>\n      <td>M</td>\n    </tr>\n    <tr>\n      <th>2</th>\n      <td>2024</td>\n      <td>SE</td>\n      <td>FT</td>\n      <td>Security Architect</td>\n      <td>200000</td>\n      <td>USD</td>\n      <td>200000</td>\n      <td>US</td>\n      <td>0</td>\n      <td>US</td>\n      <td>M</td>\n    </tr>\n    <tr>\n      <th>3</th>\n      <td>2024</td>\n      <td>EX</td>\n      <td>FT</td>\n      <td>Privacy Officer</td>\n      <td>297000</td>\n      <td>USD</td>\n      <td>297000</td>\n      <td>US</td>\n      <td>0</td>\n      <td>US</td>\n      <td>M</td>\n    </tr>\n    <tr>\n      <th>4</th>\n      <td>2024</td>\n      <td>EX</td>\n      <td>FT</td>\n      <td>Privacy Officer</td>\n      <td>216000</td>\n      <td>USD</td>\n      <td>216000</td>\n      <td>US</td>\n      <td>0</td>\n      <td>US</td>\n      <td>M</td>\n    </tr>\n  </tbody>\n</table>\n</div>"
     },
     "execution_count": 28,
     "metadata": {},
     "output_type": "execute_result"
    }
   ],
   "source": [
    "df.head()"
   ]
  },
  {
   "cell_type": "code",
   "execution_count": 29,
   "id": "93124a9b3d71f7e8",
   "metadata": {
    "ExecuteTime": {
     "end_time": "2024-01-11T21:54:08.781872300Z",
     "start_time": "2024-01-11T21:54:08.711601600Z"
    }
   },
   "outputs": [
    {
     "data": {
      "text/plain": "work_year             0\nexperience_level      0\nemployment_type       0\njob_title             0\nsalary                0\nsalary_currency       0\nsalary_in_usd         0\nemployee_residence    0\nremote_ratio          0\ncompany_location      0\ncompany_size          0\ndtype: int64"
     },
     "execution_count": 29,
     "metadata": {},
     "output_type": "execute_result"
    }
   ],
   "source": [
    "df.isnull().sum()"
   ]
  },
  {
   "cell_type": "code",
   "execution_count": 36,
   "id": "9124ab04369fa39c",
   "metadata": {
    "ExecuteTime": {
     "end_time": "2024-01-11T21:58:25.120609200Z",
     "start_time": "2024-01-11T21:58:25.088607300Z"
    }
   },
   "outputs": [
    {
     "name": "stdout",
     "output_type": "stream",
     "text": [
      "Data types of each column:\n"
     ]
    },
    {
     "data": {
      "text/plain": "work_year                int64\nexperience_level      category\nemployment_type       category\njob_title               object\nsalary                 float64\nsalary_currency         object\nsalary_in_usd          float64\nemployee_residence      object\nremote_ratio          category\ncompany_location        object\ncompany_size          category\ndtype: object"
     },
     "execution_count": 36,
     "metadata": {},
     "output_type": "execute_result"
    }
   ],
   "source": [
    "print(\"Data types of each column:\")\n",
    "df.dtypes"
   ]
  },
  {
   "cell_type": "code",
   "execution_count": 31,
   "id": "9d2f0f77b4ec24a6",
   "metadata": {
    "ExecuteTime": {
     "end_time": "2024-01-11T21:54:09.230623Z",
     "start_time": "2024-01-11T21:54:08.883097800Z"
    }
   },
   "outputs": [
    {
     "name": "stdout",
     "output_type": "stream",
     "text": [
      "\n",
      "Data types after conversion:\n"
     ]
    },
    {
     "data": {
      "text/plain": "work_year                int64\nexperience_level      category\nemployment_type       category\njob_title               object\nsalary                 float64\nsalary_currency         object\nsalary_in_usd          float64\nemployee_residence      object\nremote_ratio          category\ncompany_location        object\ncompany_size          category\ndtype: object"
     },
     "execution_count": 31,
     "metadata": {},
     "output_type": "execute_result"
    }
   ],
   "source": [
    "# Convert columns to appropriate data types\n",
    "\n",
    "# Convert 'work_year' to string (no change needed)\n",
    "\n",
    "# Convert 'experience_level' to category\n",
    "df['experience_level'] = df['experience_level'].astype('category')\n",
    "\n",
    "# Convert 'employment_type' to category\n",
    "df['employment_type'] = df['employment_type'].astype('category')\n",
    "\n",
    "# Convert 'job_title' to string (no change needed)\n",
    "\n",
    "# Convert 'salary' to float\n",
    "df['salary'] = df['salary'].astype(float)\n",
    "\n",
    "# Convert 'salary_currency' to string (no change needed)\n",
    "\n",
    "# Convert 'salary_in_usd' to float\n",
    "df['salary_in_usd'] = df['salary_in_usd'].astype(float)\n",
    "\n",
    "# Convert 'employee_residence' to string (no change needed)\n",
    "\n",
    "# Convert 'remote_ratio' to category (assuming it represents categories)\n",
    "df['remote_ratio'] = df['remote_ratio'].astype('category')\n",
    "\n",
    "# Convert 'company_location' to string (no change needed)\n",
    "\n",
    "# Convert 'company_size' to category\n",
    "df['company_size'] = df['company_size'].astype('category')\n",
    "\n",
    "# Check data types after conversion\n",
    "print(\"\\nData types after conversion:\")\n",
    "df.dtypes"
   ]
  },
  {
   "cell_type": "code",
   "execution_count": 32,
   "id": "6158dcb3ac666b30",
   "metadata": {
    "ExecuteTime": {
     "end_time": "2024-01-11T21:54:09.500787800Z",
     "start_time": "2024-01-11T21:54:09.282062700Z"
    }
   },
   "outputs": [
    {
     "data": {
      "text/plain": "      work_year experience_level employment_type  \\\n31         2024               SE              FT   \n32         2024               SE              FT   \n43         2024               SE              FT   \n44         2024               SE              FT   \n57         2024               SE              FT   \n...         ...              ...             ...   \n5042       2021               MI              FT   \n5129       2021               MI              FT   \n5171       2021               MI              FT   \n5199       2021               EN              FT   \n5321       2020               SE              FT   \n\n                            job_title    salary salary_currency  \\\n31                  Security Engineer  230000.0             USD   \n32                  Security Engineer  168000.0             USD   \n43                  Security Engineer  238050.0             USD   \n44                  Security Engineer  175950.0             USD   \n57                  Security Engineer  190000.0             USD   \n...                               ...       ...             ...   \n5042           Cyber Security Analyst   90000.0             USD   \n5129    Information Security Engineer  120000.0             USD   \n5171               Penetration Tester  100000.0             USD   \n5199           Cyber Security Analyst   80000.0             USD   \n5321  Information Security Specialist  170000.0             USD   \n\n      salary_in_usd employee_residence remote_ratio company_location  \\\n31         230000.0                 US            0               US   \n32         168000.0                 US            0               US   \n43         238050.0                 US            0               US   \n44         175950.0                 US            0               US   \n57         190000.0                 US            0               US   \n...             ...                ...          ...              ...   \n5042        90000.0                 US          100               US   \n5129       120000.0                 US          100               US   \n5171       100000.0                 US          100               US   \n5199        80000.0                 US           50               US   \n5321       170000.0                 US          100               US   \n\n     company_size  \n31              M  \n32              M  \n43              M  \n44              M  \n57              M  \n...           ...  \n5042            L  \n5129            L  \n5171            M  \n5199            L  \n5321            L  \n\n[1681 rows x 11 columns]",
      "text/html": "<div>\n<style scoped>\n    .dataframe tbody tr th:only-of-type {\n        vertical-align: middle;\n    }\n\n    .dataframe tbody tr th {\n        vertical-align: top;\n    }\n\n    .dataframe thead th {\n        text-align: right;\n    }\n</style>\n<table border=\"1\" class=\"dataframe\">\n  <thead>\n    <tr style=\"text-align: right;\">\n      <th></th>\n      <th>work_year</th>\n      <th>experience_level</th>\n      <th>employment_type</th>\n      <th>job_title</th>\n      <th>salary</th>\n      <th>salary_currency</th>\n      <th>salary_in_usd</th>\n      <th>employee_residence</th>\n      <th>remote_ratio</th>\n      <th>company_location</th>\n      <th>company_size</th>\n    </tr>\n  </thead>\n  <tbody>\n    <tr>\n      <th>31</th>\n      <td>2024</td>\n      <td>SE</td>\n      <td>FT</td>\n      <td>Security Engineer</td>\n      <td>230000.0</td>\n      <td>USD</td>\n      <td>230000.0</td>\n      <td>US</td>\n      <td>0</td>\n      <td>US</td>\n      <td>M</td>\n    </tr>\n    <tr>\n      <th>32</th>\n      <td>2024</td>\n      <td>SE</td>\n      <td>FT</td>\n      <td>Security Engineer</td>\n      <td>168000.0</td>\n      <td>USD</td>\n      <td>168000.0</td>\n      <td>US</td>\n      <td>0</td>\n      <td>US</td>\n      <td>M</td>\n    </tr>\n    <tr>\n      <th>43</th>\n      <td>2024</td>\n      <td>SE</td>\n      <td>FT</td>\n      <td>Security Engineer</td>\n      <td>238050.0</td>\n      <td>USD</td>\n      <td>238050.0</td>\n      <td>US</td>\n      <td>0</td>\n      <td>US</td>\n      <td>M</td>\n    </tr>\n    <tr>\n      <th>44</th>\n      <td>2024</td>\n      <td>SE</td>\n      <td>FT</td>\n      <td>Security Engineer</td>\n      <td>175950.0</td>\n      <td>USD</td>\n      <td>175950.0</td>\n      <td>US</td>\n      <td>0</td>\n      <td>US</td>\n      <td>M</td>\n    </tr>\n    <tr>\n      <th>57</th>\n      <td>2024</td>\n      <td>SE</td>\n      <td>FT</td>\n      <td>Security Engineer</td>\n      <td>190000.0</td>\n      <td>USD</td>\n      <td>190000.0</td>\n      <td>US</td>\n      <td>0</td>\n      <td>US</td>\n      <td>M</td>\n    </tr>\n    <tr>\n      <th>...</th>\n      <td>...</td>\n      <td>...</td>\n      <td>...</td>\n      <td>...</td>\n      <td>...</td>\n      <td>...</td>\n      <td>...</td>\n      <td>...</td>\n      <td>...</td>\n      <td>...</td>\n      <td>...</td>\n    </tr>\n    <tr>\n      <th>5042</th>\n      <td>2021</td>\n      <td>MI</td>\n      <td>FT</td>\n      <td>Cyber Security Analyst</td>\n      <td>90000.0</td>\n      <td>USD</td>\n      <td>90000.0</td>\n      <td>US</td>\n      <td>100</td>\n      <td>US</td>\n      <td>L</td>\n    </tr>\n    <tr>\n      <th>5129</th>\n      <td>2021</td>\n      <td>MI</td>\n      <td>FT</td>\n      <td>Information Security Engineer</td>\n      <td>120000.0</td>\n      <td>USD</td>\n      <td>120000.0</td>\n      <td>US</td>\n      <td>100</td>\n      <td>US</td>\n      <td>L</td>\n    </tr>\n    <tr>\n      <th>5171</th>\n      <td>2021</td>\n      <td>MI</td>\n      <td>FT</td>\n      <td>Penetration Tester</td>\n      <td>100000.0</td>\n      <td>USD</td>\n      <td>100000.0</td>\n      <td>US</td>\n      <td>100</td>\n      <td>US</td>\n      <td>M</td>\n    </tr>\n    <tr>\n      <th>5199</th>\n      <td>2021</td>\n      <td>EN</td>\n      <td>FT</td>\n      <td>Cyber Security Analyst</td>\n      <td>80000.0</td>\n      <td>USD</td>\n      <td>80000.0</td>\n      <td>US</td>\n      <td>50</td>\n      <td>US</td>\n      <td>L</td>\n    </tr>\n    <tr>\n      <th>5321</th>\n      <td>2020</td>\n      <td>SE</td>\n      <td>FT</td>\n      <td>Information Security Specialist</td>\n      <td>170000.0</td>\n      <td>USD</td>\n      <td>170000.0</td>\n      <td>US</td>\n      <td>100</td>\n      <td>US</td>\n      <td>L</td>\n    </tr>\n  </tbody>\n</table>\n<p>1681 rows × 11 columns</p>\n</div>"
     },
     "execution_count": 32,
     "metadata": {},
     "output_type": "execute_result"
    }
   ],
   "source": [
    "duplicate_rows = df[df.duplicated()]\n",
    "duplicate_rows"
   ]
  },
  {
   "cell_type": "code",
   "execution_count": 33,
   "id": "140447f03257eff5",
   "metadata": {
    "ExecuteTime": {
     "end_time": "2024-01-11T21:54:09.692406300Z",
     "start_time": "2024-01-11T21:54:09.522549Z"
    }
   },
   "outputs": [
    {
     "data": {
      "text/plain": "   work_year experience_level employment_type               job_title  \\\n0       2024               EN              FT  Cyber Security Analyst   \n1       2024               SE              FT      Security Architect   \n2       2024               SE              FT      Security Architect   \n3       2024               EX              FT         Privacy Officer   \n4       2024               EX              FT         Privacy Officer   \n\n     salary salary_currency  salary_in_usd employee_residence remote_ratio  \\\n0   45000.0             EUR        50000.0                 FR           50   \n1  300000.0             USD       300000.0                 US            0   \n2  200000.0             USD       200000.0                 US            0   \n3  297000.0             USD       297000.0                 US            0   \n4  216000.0             USD       216000.0                 US            0   \n\n  company_location company_size  \n0               FR            L  \n1               US            M  \n2               US            M  \n3               US            M  \n4               US            M  ",
      "text/html": "<div>\n<style scoped>\n    .dataframe tbody tr th:only-of-type {\n        vertical-align: middle;\n    }\n\n    .dataframe tbody tr th {\n        vertical-align: top;\n    }\n\n    .dataframe thead th {\n        text-align: right;\n    }\n</style>\n<table border=\"1\" class=\"dataframe\">\n  <thead>\n    <tr style=\"text-align: right;\">\n      <th></th>\n      <th>work_year</th>\n      <th>experience_level</th>\n      <th>employment_type</th>\n      <th>job_title</th>\n      <th>salary</th>\n      <th>salary_currency</th>\n      <th>salary_in_usd</th>\n      <th>employee_residence</th>\n      <th>remote_ratio</th>\n      <th>company_location</th>\n      <th>company_size</th>\n    </tr>\n  </thead>\n  <tbody>\n    <tr>\n      <th>0</th>\n      <td>2024</td>\n      <td>EN</td>\n      <td>FT</td>\n      <td>Cyber Security Analyst</td>\n      <td>45000.0</td>\n      <td>EUR</td>\n      <td>50000.0</td>\n      <td>FR</td>\n      <td>50</td>\n      <td>FR</td>\n      <td>L</td>\n    </tr>\n    <tr>\n      <th>1</th>\n      <td>2024</td>\n      <td>SE</td>\n      <td>FT</td>\n      <td>Security Architect</td>\n      <td>300000.0</td>\n      <td>USD</td>\n      <td>300000.0</td>\n      <td>US</td>\n      <td>0</td>\n      <td>US</td>\n      <td>M</td>\n    </tr>\n    <tr>\n      <th>2</th>\n      <td>2024</td>\n      <td>SE</td>\n      <td>FT</td>\n      <td>Security Architect</td>\n      <td>200000.0</td>\n      <td>USD</td>\n      <td>200000.0</td>\n      <td>US</td>\n      <td>0</td>\n      <td>US</td>\n      <td>M</td>\n    </tr>\n    <tr>\n      <th>3</th>\n      <td>2024</td>\n      <td>EX</td>\n      <td>FT</td>\n      <td>Privacy Officer</td>\n      <td>297000.0</td>\n      <td>USD</td>\n      <td>297000.0</td>\n      <td>US</td>\n      <td>0</td>\n      <td>US</td>\n      <td>M</td>\n    </tr>\n    <tr>\n      <th>4</th>\n      <td>2024</td>\n      <td>EX</td>\n      <td>FT</td>\n      <td>Privacy Officer</td>\n      <td>216000.0</td>\n      <td>USD</td>\n      <td>216000.0</td>\n      <td>US</td>\n      <td>0</td>\n      <td>US</td>\n      <td>M</td>\n    </tr>\n  </tbody>\n</table>\n</div>"
     },
     "execution_count": 33,
     "metadata": {},
     "output_type": "execute_result"
    }
   ],
   "source": [
    "df_cleaned = df.drop_duplicates()\n",
    "df_cleaned.head()"
   ]
  },
  {
   "cell_type": "code",
   "execution_count": 34,
   "id": "b2ce783e1a2954a9",
   "metadata": {
    "ExecuteTime": {
     "end_time": "2024-01-11T21:54:10.011752300Z",
     "start_time": "2024-01-11T21:54:09.796440300Z"
    }
   },
   "outputs": [
    {
     "name": "stdout",
     "output_type": "stream",
     "text": [
      "Shape before removing duplicates: (5330, 11)\n",
      "Shape after removing duplicates: (3649, 11)\n"
     ]
    }
   ],
   "source": [
    "# Check DataFrame shape before removing duplicates\n",
    "print(\"Shape before removing duplicates:\", df.shape)\n",
    "# Check DataFrame shape after removing duplicates\n",
    "print(\"Shape after removing duplicates:\", df_cleaned.shape)"
   ]
  },
  {
   "cell_type": "code",
   "execution_count": 35,
   "id": "5ab8ac6d4f12c6b0",
   "metadata": {
    "ExecuteTime": {
     "end_time": "2024-01-11T21:54:10.491527300Z",
     "start_time": "2024-01-11T21:54:10.117231100Z"
    }
   },
   "outputs": [],
   "source": [
    "# Save the cleaned dataset to a new CSV file\n",
    "df_cleaned.to_csv('Data\\cleaned_salaries.csv', index=False)"
   ]
  }
 ],
 "metadata": {
  "kernelspec": {
   "display_name": "Python 3 (ipykernel)",
   "language": "python",
   "name": "python3"
  },
  "language_info": {
   "codemirror_mode": {
    "name": "ipython",
    "version": 3
   },
   "file_extension": ".py",
   "mimetype": "text/x-python",
   "name": "python",
   "nbconvert_exporter": "python",
   "pygments_lexer": "ipython3",
   "version": "3.11.5"
  }
 },
 "nbformat": 4,
 "nbformat_minor": 5
}
