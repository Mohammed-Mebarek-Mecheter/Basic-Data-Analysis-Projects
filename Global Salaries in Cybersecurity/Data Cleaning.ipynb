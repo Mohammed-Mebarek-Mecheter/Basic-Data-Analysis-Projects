{
 "cells": [
  {
   "cell_type": "code",
   "execution_count": 36,
   "id": "initial_id",
   "metadata": {
    "collapsed": true,
    "ExecuteTime": {
     "end_time": "2024-01-12T19:36:26.626754800Z",
     "start_time": "2024-01-12T19:36:26.592204900Z"
    }
   },
   "outputs": [],
   "source": [
    "# Import Libraries\n",
    "import pandas as pd\n",
    "import numpy as np\n",
    "import seaborn as sns\n",
    "import matplotlib.pyplot as plt"
   ]
  },
  {
   "cell_type": "code",
   "execution_count": 25,
   "id": "e6c023c6e836c255",
   "metadata": {
    "ExecuteTime": {
     "end_time": "2024-01-12T19:31:09.601548100Z",
     "start_time": "2024-01-12T19:31:09.391521400Z"
    }
   },
   "outputs": [],
   "source": [
    "# Load Dataset\n",
    "df = pd.read_csv('data/salaries.csv')"
   ]
  },
  {
   "cell_type": "code",
   "execution_count": 26,
   "id": "c82be2340c3fb733",
   "metadata": {
    "ExecuteTime": {
     "end_time": "2024-01-12T19:31:09.669917800Z",
     "start_time": "2024-01-12T19:31:09.437089100Z"
    }
   },
   "outputs": [
    {
     "data": {
      "text/plain": "   work_year experience_level employment_type               job_title  salary  \\\n0       2024               EN              FT  Cyber Security Analyst   45000   \n1       2024               SE              FT      Security Architect  300000   \n2       2024               SE              FT      Security Architect  200000   \n3       2024               EX              FT         Privacy Officer  297000   \n4       2024               EX              FT         Privacy Officer  216000   \n\n  salary_currency  salary_in_usd employee_residence  remote_ratio  \\\n0             EUR          50000                 FR            50   \n1             USD         300000                 US             0   \n2             USD         200000                 US             0   \n3             USD         297000                 US             0   \n4             USD         216000                 US             0   \n\n  company_location company_size  \n0               FR            L  \n1               US            M  \n2               US            M  \n3               US            M  \n4               US            M  ",
      "text/html": "<div>\n<style scoped>\n    .dataframe tbody tr th:only-of-type {\n        vertical-align: middle;\n    }\n\n    .dataframe tbody tr th {\n        vertical-align: top;\n    }\n\n    .dataframe thead th {\n        text-align: right;\n    }\n</style>\n<table border=\"1\" class=\"dataframe\">\n  <thead>\n    <tr style=\"text-align: right;\">\n      <th></th>\n      <th>work_year</th>\n      <th>experience_level</th>\n      <th>employment_type</th>\n      <th>job_title</th>\n      <th>salary</th>\n      <th>salary_currency</th>\n      <th>salary_in_usd</th>\n      <th>employee_residence</th>\n      <th>remote_ratio</th>\n      <th>company_location</th>\n      <th>company_size</th>\n    </tr>\n  </thead>\n  <tbody>\n    <tr>\n      <th>0</th>\n      <td>2024</td>\n      <td>EN</td>\n      <td>FT</td>\n      <td>Cyber Security Analyst</td>\n      <td>45000</td>\n      <td>EUR</td>\n      <td>50000</td>\n      <td>FR</td>\n      <td>50</td>\n      <td>FR</td>\n      <td>L</td>\n    </tr>\n    <tr>\n      <th>1</th>\n      <td>2024</td>\n      <td>SE</td>\n      <td>FT</td>\n      <td>Security Architect</td>\n      <td>300000</td>\n      <td>USD</td>\n      <td>300000</td>\n      <td>US</td>\n      <td>0</td>\n      <td>US</td>\n      <td>M</td>\n    </tr>\n    <tr>\n      <th>2</th>\n      <td>2024</td>\n      <td>SE</td>\n      <td>FT</td>\n      <td>Security Architect</td>\n      <td>200000</td>\n      <td>USD</td>\n      <td>200000</td>\n      <td>US</td>\n      <td>0</td>\n      <td>US</td>\n      <td>M</td>\n    </tr>\n    <tr>\n      <th>3</th>\n      <td>2024</td>\n      <td>EX</td>\n      <td>FT</td>\n      <td>Privacy Officer</td>\n      <td>297000</td>\n      <td>USD</td>\n      <td>297000</td>\n      <td>US</td>\n      <td>0</td>\n      <td>US</td>\n      <td>M</td>\n    </tr>\n    <tr>\n      <th>4</th>\n      <td>2024</td>\n      <td>EX</td>\n      <td>FT</td>\n      <td>Privacy Officer</td>\n      <td>216000</td>\n      <td>USD</td>\n      <td>216000</td>\n      <td>US</td>\n      <td>0</td>\n      <td>US</td>\n      <td>M</td>\n    </tr>\n  </tbody>\n</table>\n</div>"
     },
     "execution_count": 26,
     "metadata": {},
     "output_type": "execute_result"
    }
   ],
   "source": [
    "df.head()"
   ]
  },
  {
   "cell_type": "code",
   "execution_count": 27,
   "id": "93124a9b3d71f7e8",
   "metadata": {
    "ExecuteTime": {
     "end_time": "2024-01-12T19:31:09.672915900Z",
     "start_time": "2024-01-12T19:31:09.463408Z"
    }
   },
   "outputs": [
    {
     "data": {
      "text/plain": "work_year             0\nexperience_level      0\nemployment_type       0\njob_title             0\nsalary                0\nsalary_currency       0\nsalary_in_usd         0\nemployee_residence    0\nremote_ratio          0\ncompany_location      0\ncompany_size          0\ndtype: int64"
     },
     "execution_count": 27,
     "metadata": {},
     "output_type": "execute_result"
    }
   ],
   "source": [
    "df.isnull().sum()"
   ]
  },
  {
   "cell_type": "code",
   "execution_count": 28,
   "id": "9124ab04369fa39c",
   "metadata": {
    "ExecuteTime": {
     "end_time": "2024-01-12T19:31:09.719158100Z",
     "start_time": "2024-01-12T19:31:09.608544700Z"
    }
   },
   "outputs": [
    {
     "name": "stdout",
     "output_type": "stream",
     "text": [
      "Data types of each column:\n"
     ]
    },
    {
     "data": {
      "text/plain": "work_year              int64\nexperience_level      object\nemployment_type       object\njob_title             object\nsalary                 int64\nsalary_currency       object\nsalary_in_usd          int64\nemployee_residence    object\nremote_ratio           int64\ncompany_location      object\ncompany_size          object\ndtype: object"
     },
     "execution_count": 28,
     "metadata": {},
     "output_type": "execute_result"
    }
   ],
   "source": [
    "print(\"Data types of each column:\")\n",
    "df.dtypes"
   ]
  },
  {
   "cell_type": "code",
   "execution_count": 29,
   "id": "9d2f0f77b4ec24a6",
   "metadata": {
    "ExecuteTime": {
     "end_time": "2024-01-12T19:31:09.912589700Z",
     "start_time": "2024-01-12T19:31:09.716158900Z"
    }
   },
   "outputs": [
    {
     "name": "stdout",
     "output_type": "stream",
     "text": [
      "\n",
      "Data types after conversion:\n"
     ]
    },
    {
     "data": {
      "text/plain": "work_year                int64\nexperience_level      category\nemployment_type       category\njob_title               object\nsalary                 float64\nsalary_currency         object\nsalary_in_usd          float64\nemployee_residence      object\nremote_ratio          category\ncompany_location        object\ncompany_size          category\ndtype: object"
     },
     "execution_count": 29,
     "metadata": {},
     "output_type": "execute_result"
    }
   ],
   "source": [
    "# Convert columns to appropriate data types\n",
    "\n",
    "# Convert 'work_year' to string (no change needed)\n",
    "\n",
    "# Convert 'experience_level' to category\n",
    "df['experience_level'] = df['experience_level'].astype('category')\n",
    "\n",
    "# Convert 'employment_type' to category\n",
    "df['employment_type'] = df['employment_type'].astype('category')\n",
    "\n",
    "# Convert 'job_title' to string (no change needed)\n",
    "\n",
    "# Convert 'salary' to float\n",
    "df['salary'] = df['salary'].astype(float)\n",
    "\n",
    "# Convert 'salary_currency' to string (no change needed)\n",
    "\n",
    "# Convert 'salary_in_usd' to float\n",
    "df['salary_in_usd'] = df['salary_in_usd'].astype(float)\n",
    "\n",
    "# Convert 'employee_residence' to string (no change needed)\n",
    "\n",
    "# Convert 'remote_ratio' to category (assuming it represents categories)\n",
    "df['remote_ratio'] = df['remote_ratio'].astype('category')\n",
    "\n",
    "# Convert 'company_location' to string (no change needed)\n",
    "\n",
    "# Convert 'company_size' to category\n",
    "df['company_size'] = df['company_size'].astype('category')\n",
    "\n",
    "# Check data types after conversion\n",
    "print(\"\\nData types after conversion:\")\n",
    "df.dtypes"
   ]
  },
  {
   "cell_type": "code",
   "execution_count": 30,
   "id": "6158dcb3ac666b30",
   "metadata": {
    "ExecuteTime": {
     "end_time": "2024-01-12T19:31:10.242130700Z",
     "start_time": "2024-01-12T19:31:09.917614200Z"
    }
   },
   "outputs": [
    {
     "data": {
      "text/plain": "      work_year experience_level employment_type  \\\n31         2024               SE              FT   \n32         2024               SE              FT   \n43         2024               SE              FT   \n44         2024               SE              FT   \n57         2024               SE              FT   \n...         ...              ...             ...   \n5042       2021               MI              FT   \n5129       2021               MI              FT   \n5171       2021               MI              FT   \n5199       2021               EN              FT   \n5321       2020               SE              FT   \n\n                            job_title    salary salary_currency  \\\n31                  Security Engineer  230000.0             USD   \n32                  Security Engineer  168000.0             USD   \n43                  Security Engineer  238050.0             USD   \n44                  Security Engineer  175950.0             USD   \n57                  Security Engineer  190000.0             USD   \n...                               ...       ...             ...   \n5042           Cyber Security Analyst   90000.0             USD   \n5129    Information Security Engineer  120000.0             USD   \n5171               Penetration Tester  100000.0             USD   \n5199           Cyber Security Analyst   80000.0             USD   \n5321  Information Security Specialist  170000.0             USD   \n\n      salary_in_usd employee_residence remote_ratio company_location  \\\n31         230000.0                 US            0               US   \n32         168000.0                 US            0               US   \n43         238050.0                 US            0               US   \n44         175950.0                 US            0               US   \n57         190000.0                 US            0               US   \n...             ...                ...          ...              ...   \n5042        90000.0                 US          100               US   \n5129       120000.0                 US          100               US   \n5171       100000.0                 US          100               US   \n5199        80000.0                 US           50               US   \n5321       170000.0                 US          100               US   \n\n     company_size  \n31              M  \n32              M  \n43              M  \n44              M  \n57              M  \n...           ...  \n5042            L  \n5129            L  \n5171            M  \n5199            L  \n5321            L  \n\n[1681 rows x 11 columns]",
      "text/html": "<div>\n<style scoped>\n    .dataframe tbody tr th:only-of-type {\n        vertical-align: middle;\n    }\n\n    .dataframe tbody tr th {\n        vertical-align: top;\n    }\n\n    .dataframe thead th {\n        text-align: right;\n    }\n</style>\n<table border=\"1\" class=\"dataframe\">\n  <thead>\n    <tr style=\"text-align: right;\">\n      <th></th>\n      <th>work_year</th>\n      <th>experience_level</th>\n      <th>employment_type</th>\n      <th>job_title</th>\n      <th>salary</th>\n      <th>salary_currency</th>\n      <th>salary_in_usd</th>\n      <th>employee_residence</th>\n      <th>remote_ratio</th>\n      <th>company_location</th>\n      <th>company_size</th>\n    </tr>\n  </thead>\n  <tbody>\n    <tr>\n      <th>31</th>\n      <td>2024</td>\n      <td>SE</td>\n      <td>FT</td>\n      <td>Security Engineer</td>\n      <td>230000.0</td>\n      <td>USD</td>\n      <td>230000.0</td>\n      <td>US</td>\n      <td>0</td>\n      <td>US</td>\n      <td>M</td>\n    </tr>\n    <tr>\n      <th>32</th>\n      <td>2024</td>\n      <td>SE</td>\n      <td>FT</td>\n      <td>Security Engineer</td>\n      <td>168000.0</td>\n      <td>USD</td>\n      <td>168000.0</td>\n      <td>US</td>\n      <td>0</td>\n      <td>US</td>\n      <td>M</td>\n    </tr>\n    <tr>\n      <th>43</th>\n      <td>2024</td>\n      <td>SE</td>\n      <td>FT</td>\n      <td>Security Engineer</td>\n      <td>238050.0</td>\n      <td>USD</td>\n      <td>238050.0</td>\n      <td>US</td>\n      <td>0</td>\n      <td>US</td>\n      <td>M</td>\n    </tr>\n    <tr>\n      <th>44</th>\n      <td>2024</td>\n      <td>SE</td>\n      <td>FT</td>\n      <td>Security Engineer</td>\n      <td>175950.0</td>\n      <td>USD</td>\n      <td>175950.0</td>\n      <td>US</td>\n      <td>0</td>\n      <td>US</td>\n      <td>M</td>\n    </tr>\n    <tr>\n      <th>57</th>\n      <td>2024</td>\n      <td>SE</td>\n      <td>FT</td>\n      <td>Security Engineer</td>\n      <td>190000.0</td>\n      <td>USD</td>\n      <td>190000.0</td>\n      <td>US</td>\n      <td>0</td>\n      <td>US</td>\n      <td>M</td>\n    </tr>\n    <tr>\n      <th>...</th>\n      <td>...</td>\n      <td>...</td>\n      <td>...</td>\n      <td>...</td>\n      <td>...</td>\n      <td>...</td>\n      <td>...</td>\n      <td>...</td>\n      <td>...</td>\n      <td>...</td>\n      <td>...</td>\n    </tr>\n    <tr>\n      <th>5042</th>\n      <td>2021</td>\n      <td>MI</td>\n      <td>FT</td>\n      <td>Cyber Security Analyst</td>\n      <td>90000.0</td>\n      <td>USD</td>\n      <td>90000.0</td>\n      <td>US</td>\n      <td>100</td>\n      <td>US</td>\n      <td>L</td>\n    </tr>\n    <tr>\n      <th>5129</th>\n      <td>2021</td>\n      <td>MI</td>\n      <td>FT</td>\n      <td>Information Security Engineer</td>\n      <td>120000.0</td>\n      <td>USD</td>\n      <td>120000.0</td>\n      <td>US</td>\n      <td>100</td>\n      <td>US</td>\n      <td>L</td>\n    </tr>\n    <tr>\n      <th>5171</th>\n      <td>2021</td>\n      <td>MI</td>\n      <td>FT</td>\n      <td>Penetration Tester</td>\n      <td>100000.0</td>\n      <td>USD</td>\n      <td>100000.0</td>\n      <td>US</td>\n      <td>100</td>\n      <td>US</td>\n      <td>M</td>\n    </tr>\n    <tr>\n      <th>5199</th>\n      <td>2021</td>\n      <td>EN</td>\n      <td>FT</td>\n      <td>Cyber Security Analyst</td>\n      <td>80000.0</td>\n      <td>USD</td>\n      <td>80000.0</td>\n      <td>US</td>\n      <td>50</td>\n      <td>US</td>\n      <td>L</td>\n    </tr>\n    <tr>\n      <th>5321</th>\n      <td>2020</td>\n      <td>SE</td>\n      <td>FT</td>\n      <td>Information Security Specialist</td>\n      <td>170000.0</td>\n      <td>USD</td>\n      <td>170000.0</td>\n      <td>US</td>\n      <td>100</td>\n      <td>US</td>\n      <td>L</td>\n    </tr>\n  </tbody>\n</table>\n<p>1681 rows × 11 columns</p>\n</div>"
     },
     "execution_count": 30,
     "metadata": {},
     "output_type": "execute_result"
    }
   ],
   "source": [
    "duplicate_rows = df[df.duplicated()]\n",
    "duplicate_rows"
   ]
  },
  {
   "cell_type": "code",
   "execution_count": 31,
   "id": "140447f03257eff5",
   "metadata": {
    "ExecuteTime": {
     "end_time": "2024-01-12T19:31:10.379039300Z",
     "start_time": "2024-01-12T19:31:10.018636900Z"
    }
   },
   "outputs": [
    {
     "data": {
      "text/plain": "   work_year experience_level employment_type               job_title  \\\n0       2024               EN              FT  Cyber Security Analyst   \n1       2024               SE              FT      Security Architect   \n2       2024               SE              FT      Security Architect   \n3       2024               EX              FT         Privacy Officer   \n4       2024               EX              FT         Privacy Officer   \n\n     salary salary_currency  salary_in_usd employee_residence remote_ratio  \\\n0   45000.0             EUR        50000.0                 FR           50   \n1  300000.0             USD       300000.0                 US            0   \n2  200000.0             USD       200000.0                 US            0   \n3  297000.0             USD       297000.0                 US            0   \n4  216000.0             USD       216000.0                 US            0   \n\n  company_location company_size  \n0               FR            L  \n1               US            M  \n2               US            M  \n3               US            M  \n4               US            M  ",
      "text/html": "<div>\n<style scoped>\n    .dataframe tbody tr th:only-of-type {\n        vertical-align: middle;\n    }\n\n    .dataframe tbody tr th {\n        vertical-align: top;\n    }\n\n    .dataframe thead th {\n        text-align: right;\n    }\n</style>\n<table border=\"1\" class=\"dataframe\">\n  <thead>\n    <tr style=\"text-align: right;\">\n      <th></th>\n      <th>work_year</th>\n      <th>experience_level</th>\n      <th>employment_type</th>\n      <th>job_title</th>\n      <th>salary</th>\n      <th>salary_currency</th>\n      <th>salary_in_usd</th>\n      <th>employee_residence</th>\n      <th>remote_ratio</th>\n      <th>company_location</th>\n      <th>company_size</th>\n    </tr>\n  </thead>\n  <tbody>\n    <tr>\n      <th>0</th>\n      <td>2024</td>\n      <td>EN</td>\n      <td>FT</td>\n      <td>Cyber Security Analyst</td>\n      <td>45000.0</td>\n      <td>EUR</td>\n      <td>50000.0</td>\n      <td>FR</td>\n      <td>50</td>\n      <td>FR</td>\n      <td>L</td>\n    </tr>\n    <tr>\n      <th>1</th>\n      <td>2024</td>\n      <td>SE</td>\n      <td>FT</td>\n      <td>Security Architect</td>\n      <td>300000.0</td>\n      <td>USD</td>\n      <td>300000.0</td>\n      <td>US</td>\n      <td>0</td>\n      <td>US</td>\n      <td>M</td>\n    </tr>\n    <tr>\n      <th>2</th>\n      <td>2024</td>\n      <td>SE</td>\n      <td>FT</td>\n      <td>Security Architect</td>\n      <td>200000.0</td>\n      <td>USD</td>\n      <td>200000.0</td>\n      <td>US</td>\n      <td>0</td>\n      <td>US</td>\n      <td>M</td>\n    </tr>\n    <tr>\n      <th>3</th>\n      <td>2024</td>\n      <td>EX</td>\n      <td>FT</td>\n      <td>Privacy Officer</td>\n      <td>297000.0</td>\n      <td>USD</td>\n      <td>297000.0</td>\n      <td>US</td>\n      <td>0</td>\n      <td>US</td>\n      <td>M</td>\n    </tr>\n    <tr>\n      <th>4</th>\n      <td>2024</td>\n      <td>EX</td>\n      <td>FT</td>\n      <td>Privacy Officer</td>\n      <td>216000.0</td>\n      <td>USD</td>\n      <td>216000.0</td>\n      <td>US</td>\n      <td>0</td>\n      <td>US</td>\n      <td>M</td>\n    </tr>\n  </tbody>\n</table>\n</div>"
     },
     "execution_count": 31,
     "metadata": {},
     "output_type": "execute_result"
    }
   ],
   "source": [
    "df_cleaned = df.drop_duplicates()\n",
    "df_cleaned.head()"
   ]
  },
  {
   "cell_type": "code",
   "execution_count": 32,
   "id": "b2ce783e1a2954a9",
   "metadata": {
    "ExecuteTime": {
     "end_time": "2024-01-12T19:31:10.430974700Z",
     "start_time": "2024-01-12T19:31:10.270119200Z"
    }
   },
   "outputs": [
    {
     "name": "stdout",
     "output_type": "stream",
     "text": [
      "Shape before removing duplicates: (5330, 11)\n",
      "Shape after removing duplicates: (3649, 11)\n"
     ]
    }
   ],
   "source": [
    "# Check DataFrame shape before removing duplicates\n",
    "print(\"Shape before removing duplicates:\", df.shape)\n",
    "# Check DataFrame shape after removing duplicates\n",
    "print(\"Shape after removing duplicates:\", df_cleaned.shape)"
   ]
  },
  {
   "cell_type": "code",
   "outputs": [
    {
     "data": {
      "text/plain": "<Figure size 800x600 with 1 Axes>",
      "image/png": "[encoded data removed]"
     },
     "metadata": {},
     "output_type": "display_data"
    },
    {
     "name": "stdout",
     "output_type": "stream",
     "text": [
      "Identified Outliers:\n",
      "      work_year experience_level employment_type  \\\n",
      "13         2024               SE              FT   \n",
      "41         2024               SE              FT   \n",
      "49         2024               MI              FT   \n",
      "119        2024               SE              FT   \n",
      "127        2024               EX              FT   \n",
      "...         ...              ...             ...   \n",
      "5242       2021               SE              FT   \n",
      "5245       2021               MI              FT   \n",
      "5295       2021               SE              FT   \n",
      "5297       2021               EX              FT   \n",
      "5324       2020               MI              FT   \n",
      "\n",
      "                               job_title     salary salary_currency  \\\n",
      "13                     Security Engineer   329500.0             USD   \n",
      "41                    Security Architect   332300.0             USD   \n",
      "49                     Security Engineer   700000.0             USD   \n",
      "119           Security Software Engineer   350000.0             USD   \n",
      "127         Information Security Officer   375000.0             USD   \n",
      "...                                  ...        ...             ...   \n",
      "5242            Cyber Security Architect   450000.0             BRL   \n",
      "5245           Cyber Security Researcher  1500000.0             INR   \n",
      "5295        Penetration Testing Engineer   384000.0             ILS   \n",
      "5297  Chief Information Security Officer   400000.0             USD   \n",
      "5324                      Ethical Hacker   356000.0             GBP   \n",
      "\n",
      "      salary_in_usd employee_residence remote_ratio company_location  \\\n",
      "13         329500.0                 US            0               US   \n",
      "41         332300.0                 US            0               US   \n",
      "49         700000.0                 US          100               US   \n",
      "119        350000.0                 US            0               US   \n",
      "127        375000.0                 US            0               US   \n",
      "...             ...                ...          ...              ...   \n",
      "5242        83415.0                 BR          100               BR   \n",
      "5245        20285.0                 IN            0               IN   \n",
      "5295       118903.0                 IL           50               IL   \n",
      "5297       400000.0                 US          100               US   \n",
      "5324       456621.0                 GB          100               GB   \n",
      "\n",
      "     company_size  \n",
      "13              M  \n",
      "41              M  \n",
      "49              M  \n",
      "119             M  \n",
      "127             M  \n",
      "...           ...  \n",
      "5242            L  \n",
      "5245            M  \n",
      "5295            L  \n",
      "5297            L  \n",
      "5324            L  \n",
      "\n",
      "[101 rows x 11 columns]\n"
     ]
    },
    {
     "data": {
      "text/plain": "<Figure size 800x600 with 1 Axes>",
      "image/png": "[encoded data removed]"
     },
     "metadata": {},
     "output_type": "display_data"
    }
   ],
   "source": [
    "# Set the style of seaborn for better aesthetics\n",
    "sns.set(style=\"whitegrid\")\n",
    "\n",
    "# Plotting a box plot to visualize the distribution of salaries\n",
    "plt.figure(figsize=(8, 6))\n",
    "sns.boxplot(x='salary', data=df_cleaned)\n",
    "plt.title('Box Plot of Salary Distribution')\n",
    "plt.xlabel('Salary')\n",
    "plt.show()\n",
    "\n",
    "# Calculate the interquartile range (IQR)\n",
    "Q1 = df_cleaned['salary'].quantile(0.25)\n",
    "Q3 = df_cleaned['salary'].quantile(0.75)\n",
    "IQR = Q3 - Q1\n",
    "\n",
    "# Define the upper and lower bounds for outliers\n",
    "lower_bound = Q1 - 1.5 * IQR\n",
    "upper_bound = Q3 + 1.5 * IQR\n",
    "\n",
    "# Identify outliers\n",
    "outliers = df_cleaned[(df_cleaned['salary'] < lower_bound) | (df_cleaned['salary'] > upper_bound)]\n",
    "\n",
    "# Display the identified outliers\n",
    "print(\"Identified Outliers:\")\n",
    "print(outliers)\n",
    "\n",
    "# Remove outliers from the dataset\n",
    "df_cleaned_no_outliers = df_cleaned[(df_cleaned['salary'] >= lower_bound) & (df_cleaned['salary'] <= upper_bound)]\n",
    "\n",
    "# Plotting a box plot after removing outliers to confirm\n",
    "plt.figure(figsize=(8, 6))\n",
    "sns.boxplot(x='salary', data=df_cleaned_no_outliers)\n",
    "plt.title('Box Plot of Salary Distribution (No Outliers)')\n",
    "plt.xlabel('Salary')\n",
    "plt.show()"
   ],
   "metadata": {
    "collapsed": false,
    "ExecuteTime": {
     "end_time": "2024-01-12T19:31:12.358743900Z",
     "start_time": "2024-01-12T19:31:10.432975Z"
    }
   },
   "id": "4bf634e2737cc1aa",
   "execution_count": 33
  },
  {
   "cell_type": "code",
   "outputs": [
    {
     "data": {
      "text/plain": "<Figure size 800x600 with 1 Axes>",
      "image/png": "[encoded data removed]"
     },
     "metadata": {},
     "output_type": "display_data"
    }
   ],
   "source": [
    "# Log transformation of the 'salary' column\n",
    "df_cleaned_no_outliers_copy = df_cleaned_no_outliers.copy()\n",
    "df_cleaned_no_outliers_copy['salary_log'] = np.log1p(df_cleaned_no_outliers_copy['salary'])\n",
    "\n",
    "# Plotting a box plot of the log-transformed salary\n",
    "plt.figure(figsize=(8, 6))\n",
    "sns.boxplot(x='salary_log', data=df_cleaned_no_outliers_copy)\n",
    "plt.title('Box Plot of Log-Transformed Salary')\n",
    "plt.xlabel('Log-Transformed Salary')\n",
    "plt.show()"
   ],
   "metadata": {
    "collapsed": false,
    "ExecuteTime": {
     "end_time": "2024-01-12T19:39:26.477662600Z",
     "start_time": "2024-01-12T19:39:25.832013300Z"
    }
   },
   "id": "2b02b44f23283d32",
   "execution_count": 38
  },
  {
   "cell_type": "code",
   "outputs": [
    {
     "data": {
      "text/plain": "(3548, 12)"
     },
     "execution_count": 41,
     "metadata": {},
     "output_type": "execute_result"
    }
   ],
   "source": [
    "df_cleaned_no_outliers_copy.shape"
   ],
   "metadata": {
    "collapsed": false,
    "ExecuteTime": {
     "end_time": "2024-01-12T19:50:40.612155100Z",
     "start_time": "2024-01-12T19:50:40.574744Z"
    }
   },
   "id": "b35ea84394e6092",
   "execution_count": 41
  },
  {
   "cell_type": "code",
   "outputs": [
    {
     "name": "stdout",
     "output_type": "stream",
     "text": [
      "Identified Outliers in Log-Transformed Salary:\n",
      "      work_year experience_level employment_type  \\\n",
      "449        2023               EN              FT   \n",
      "675        2023               MI              FT   \n",
      "1259       2023               MI              FT   \n",
      "1287       2023               EN              FT   \n",
      "2094       2023               EN              FT   \n",
      "2820       2023               MI              FT   \n",
      "2917       2023               MI              FT   \n",
      "3129       2023               MI              FT   \n",
      "3136       2023               EN              FT   \n",
      "3301       2023               EN              FT   \n",
      "3383       2023               EN              FT   \n",
      "3496       2023               MI              FT   \n",
      "3497       2023               MI              FT   \n",
      "3500       2022               MI              FT   \n",
      "3646       2022               SE              FT   \n",
      "3669       2022               EN              PT   \n",
      "3764       2022               MI              FT   \n",
      "3930       2022               EN              FT   \n",
      "3939       2022               EN              FT   \n",
      "3960       2022               MI              FT   \n",
      "4086       2022               MI              FT   \n",
      "4107       2022               MI              FT   \n",
      "4215       2021               EN              FT   \n",
      "4291       2022               EN              PT   \n",
      "4359       2022               EN              FT   \n",
      "4417       2022               SE              FT   \n",
      "4553       2021               MI              FT   \n",
      "4624       2022               SE              FT   \n",
      "4653       2022               MI              FT   \n",
      "4673       2021               EN              FT   \n",
      "4793       2021               EN              PT   \n",
      "4860       2021               MI              FT   \n",
      "4866       2021               EN              FT   \n",
      "4882       2021               EN              FT   \n",
      "4943       2020               SE              FT   \n",
      "4964       2021               EN              FT   \n",
      "4993       2021               EN              FT   \n",
      "5023       2021               EN              FT   \n",
      "5112       2020               EN              FT   \n",
      "5119       2021               MI              FT   \n",
      "5152       2020               EN              FT   \n",
      "5154       2021               EN              FT   \n",
      "5165       2021               EN              FT   \n",
      "5179       2020               MI              FT   \n",
      "5201       2021               MI              FT   \n",
      "5221       2021               EN              FT   \n",
      "5222       2020               MI              FT   \n",
      "5228       2020               SE              FT   \n",
      "5232       2021               MI              FT   \n",
      "\n",
      "                                 job_title   salary salary_currency  \\\n",
      "449                    Security Specialist  32000.0             EUR   \n",
      "675   Information System Security Engineer  20400.0             USD   \n",
      "1259                    Penetration Tester  32000.0             EUR   \n",
      "1287          Information Security Analyst  32000.0             USD   \n",
      "2094                Cyber Security Analyst  26000.0             EUR   \n",
      "2820          Information Security Officer  31500.0             GBP   \n",
      "2917       Information Security Specialist  25000.0             SGD   \n",
      "3129             Cyber Security Consultant  24000.0             EUR   \n",
      "3136                   Security Specialist  31700.0             USD   \n",
      "3301                Cyber Security Analyst  16800.0             EUR   \n",
      "3383                           SOC Analyst  29250.0             GBP   \n",
      "3496         Application Security Engineer  24000.0             GBP   \n",
      "3497         Application Security Engineer  24000.0             GBP   \n",
      "3500             Cyber Security Consultant  29400.0             EUR   \n",
      "3646         Information Security Engineer  20000.0             EUR   \n",
      "3669                    Penetration Tester  16400.0             EUR   \n",
      "3764         Application Security Engineer  18000.0             USD   \n",
      "3930                   Security Consultant  30000.0             GBP   \n",
      "3939                Cyber Security Analyst  31000.0             GBP   \n",
      "3960                IT Security Specialist  25000.0             USD   \n",
      "4086                    Penetration Tester  27000.0             EUR   \n",
      "4107                  IT Security Engineer  27000.0             EUR   \n",
      "4215         Information Security Engineer  25000.0             EUR   \n",
      "4291                   Security Consultant  20000.0             EUR   \n",
      "4359                    Penetration Tester  25000.0             EUR   \n",
      "4417              Security DevOps Engineer  30000.0             USD   \n",
      "4553                    Penetration Tester  28000.0             GBP   \n",
      "4624          Security Engineering Manager  20000.0             USD   \n",
      "4653                Cyber Security Analyst  20100.0             USD   \n",
      "4673                           SOC Analyst  32000.0             EUR   \n",
      "4793          Information Security Analyst  30000.0             USD   \n",
      "4860                  IT Security Engineer  23000.0             EUR   \n",
      "4866                    DevSecOps Engineer  27000.0             EUR   \n",
      "4882                Cyber Security Analyst  26100.0             GBP   \n",
      "4943          Security Engineering Manager  27000.0             USD   \n",
      "4964                  Cyber Threat Analyst  20000.0             EUR   \n",
      "4993                   IT Security Analyst  31000.0             USD   \n",
      "5023          Information Security Officer  28800.0             EUR   \n",
      "5112                     Security Engineer  28250.0             GBP   \n",
      "5119                      Security Analyst  20000.0             USD   \n",
      "5152                Cyber Security Analyst  23000.0             EUR   \n",
      "5154                Cyber Security Analyst  28500.0             GBP   \n",
      "5165                Cyber Security Analyst  23500.0             GBP   \n",
      "5179                Cyber Security Analyst  30000.0             EUR   \n",
      "5201          Information Security Analyst  30000.0             USD   \n",
      "5221                  IT Security Engineer  16800.0             EUR   \n",
      "5222             Cyber Security Specialist  26000.0             EUR   \n",
      "5228         Information Security Engineer  29950.0             EUR   \n",
      "5232                    Penetration Tester  33000.0             EUR   \n",
      "\n",
      "      salary_in_usd employee_residence remote_ratio company_location  \\\n",
      "449         34549.0                 FR          100               FR   \n",
      "675         20400.0                 BG          100               BG   \n",
      "1259        34549.0                 IT           50               IT   \n",
      "1287        32000.0                 CR          100               US   \n",
      "2094        28071.0                 IT          100               IT   \n",
      "2820        38757.0                 GB            0               GB   \n",
      "2917        18720.0                 MY            0               MY   \n",
      "3129        25912.0                 PT           50               PT   \n",
      "3136        31700.0                 US            0               US   \n",
      "3301        18138.0                 PT           50               PT   \n",
      "3383        35989.0                 GB          100               GB   \n",
      "3496        29529.0                 IN          100               GR   \n",
      "3497        29529.0                 IN          100               US   \n",
      "3500        30889.0                 GR           50               GR   \n",
      "3646        21013.0                 HR           50               HR   \n",
      "3669        17230.0                 DE           50               DE   \n",
      "3764        18000.0                 IN           50               IN   \n",
      "3930        36940.0                 GB          100               GB   \n",
      "3939        38171.0                 GB          100               GB   \n",
      "3960        25000.0                 PY           50               PY   \n",
      "4086        28368.0                 ES          100               ES   \n",
      "4107        28368.0                 ES          100               ES   \n",
      "4215        29551.0                 IT          100               IT   \n",
      "4291        21013.0                 DE          100               DE   \n",
      "4359        26266.0                 GR            0               GR   \n",
      "4417        30000.0                 US          100               US   \n",
      "4553        38513.0                 GB          100               GB   \n",
      "4624        20000.0                 PK            0               PK   \n",
      "4653        20100.0                 CR          100               US   \n",
      "4673        37825.0                 PT          100               PT   \n",
      "4793        30000.0                 US          100               US   \n",
      "4860        27187.0                 GR            0               GR   \n",
      "4866        31915.0                 EE            0               EE   \n",
      "4882        35899.0                 GB           50               GB   \n",
      "4943        27000.0                 AR           50               AR   \n",
      "4964        23641.0                 GR          100               US   \n",
      "4993        31000.0                 US            0               US   \n",
      "5023        34043.0                 BE           50               BE   \n",
      "5112        36234.0                 GB          100               GB   \n",
      "5119        20000.0                 IN          100               US   \n",
      "5152        26230.0                 IT          100               IT   \n",
      "5154        39200.0                 GB           50               GB   \n",
      "5165        32323.0                 GB           50               GB   \n",
      "5179        34214.0                 PT            0               PT   \n",
      "5201        30000.0                 US            0               US   \n",
      "5221        19858.0                 GR           50               GR   \n",
      "5222        29652.0                 IT           50               IT   \n",
      "5228        34157.0                 GR           50               GR   \n",
      "5232        39007.0                 ES          100               ES   \n",
      "\n",
      "     company_size  salary_log  \n",
      "449             M   10.373522  \n",
      "675             L    9.923339  \n",
      "1259            S   10.373522  \n",
      "1287            L   10.373522  \n",
      "2094            L   10.165890  \n",
      "2820            M   10.357775  \n",
      "2917            M   10.126671  \n",
      "3129            L   10.085851  \n",
      "3136            L   10.364104  \n",
      "3301            L    9.729194  \n",
      "3383            S   10.283669  \n",
      "3496            M   10.085851  \n",
      "3497            S   10.085851  \n",
      "3500            M   10.288784  \n",
      "3646            M    9.903538  \n",
      "3669            L    9.705098  \n",
      "3764            L    9.798183  \n",
      "3930            L   10.308986  \n",
      "3939            L   10.341775  \n",
      "3960            S   10.126671  \n",
      "4086            L   10.203629  \n",
      "4107            L   10.203629  \n",
      "4215            S   10.126671  \n",
      "4291            M    9.903538  \n",
      "4359            M   10.126671  \n",
      "4417            M   10.308986  \n",
      "4553            S   10.239996  \n",
      "4624            L    9.903538  \n",
      "4653            L    9.908525  \n",
      "4673            L   10.373522  \n",
      "4793            L   10.308986  \n",
      "4860            M   10.043293  \n",
      "4866            L   10.203629  \n",
      "4882            L   10.169729  \n",
      "4943            M   10.203629  \n",
      "4964            L    9.903538  \n",
      "4993            L   10.341775  \n",
      "5023            L   10.268165  \n",
      "5112            M   10.248884  \n",
      "5119            L    9.903538  \n",
      "5152            L   10.043293  \n",
      "5154            S   10.257694  \n",
      "5165            L   10.064798  \n",
      "5179            L   10.308986  \n",
      "5201            M   10.308986  \n",
      "5221            M    9.729194  \n",
      "5222            M   10.165890  \n",
      "5228            L   10.307318  \n",
      "5232            M   10.404293  \n"
     ]
    },
    {
     "data": {
      "text/plain": "<Figure size 800x600 with 1 Axes>",
      "image/png": "[encoded data removed]"
     },
     "metadata": {},
     "output_type": "display_data"
    }
   ],
   "source": [
    "# Calculate the interquartile range (IQR) for log-transformed salary\n",
    "Q1_log = df_cleaned_no_outliers_copy['salary_log'].quantile(0.25)\n",
    "Q3_log = df_cleaned_no_outliers_copy['salary_log'].quantile(0.75)\n",
    "IQR_log = Q3_log - Q1_log\n",
    "\n",
    "# Define the upper and lower bounds for outliers in log-transformed salary\n",
    "lower_bound_log = Q1_log - 1.5 * IQR_log\n",
    "upper_bound_log = Q3_log + 1.5 * IQR_log\n",
    "\n",
    "# Identify outliers in log-transformed salary\n",
    "outliers_log = df_cleaned_no_outliers_copy[(df_cleaned_no_outliers_copy['salary_log'] < lower_bound_log) | (df_cleaned_no_outliers_copy['salary_log'] > upper_bound_log)]\n",
    "\n",
    "# Display the identified outliers\n",
    "print(\"Identified Outliers in Log-Transformed Salary:\")\n",
    "print(outliers_log)\n",
    "\n",
    "# Remove outliers from the dataset\n",
    "df_no_outliers_log = df_cleaned_no_outliers_copy[(df_cleaned_no_outliers_copy['salary_log'] >= lower_bound_log) & (df_cleaned_no_outliers_copy['salary_log'] <= upper_bound_log)]\n",
    "\n",
    "# Plotting a box plot after removing outliers to confirm\n",
    "plt.figure(figsize=(8, 6))\n",
    "sns.boxplot(x='salary_log', data=df_no_outliers_log)\n",
    "plt.title('Box Plot of Log-Transformed Salary (No Outliers)')\n",
    "plt.xlabel('Log-Transformed Salary')\n",
    "plt.show()"
   ],
   "metadata": {
    "collapsed": false,
    "ExecuteTime": {
     "end_time": "2024-01-12T19:47:09.181480800Z",
     "start_time": "2024-01-12T19:47:08.504303700Z"
    }
   },
   "id": "2c218946a2913734",
   "execution_count": 39
  },
  {
   "cell_type": "code",
   "outputs": [],
   "source": [
    "df_no_outliers_log = df_no_outliers_log.drop('salary_log', axis=1)"
   ],
   "metadata": {
    "collapsed": false,
    "ExecuteTime": {
     "end_time": "2024-01-12T19:55:19.285077300Z",
     "start_time": "2024-01-12T19:55:19.258603800Z"
    }
   },
   "id": "efb3c90a87266ca1",
   "execution_count": 43
  },
  {
   "cell_type": "code",
   "execution_count": 45,
   "id": "5ab8ac6d4f12c6b0",
   "metadata": {
    "ExecuteTime": {
     "end_time": "2024-01-12T19:58:19.113362500Z",
     "start_time": "2024-01-12T19:58:19.052820700Z"
    }
   },
   "outputs": [],
   "source": [
    "# Save the cleaned dataset to a new CSV file\n",
    "df_no_outliers_log.to_csv('Data\\cleaned_salaries.csv', index=False)"
   ]
  }
 ],
 "metadata": {
  "kernelspec": {
   "display_name": "Python 3 (ipykernel)",
   "language": "python",
   "name": "python3"
  },
  "language_info": {
   "codemirror_mode": {
    "name": "ipython",
    "version": 3
   },
   "file_extension": ".py",
   "mimetype": "text/x-python",
   "name": "python",
   "nbconvert_exporter": "python",
   "pygments_lexer": "ipython3",
   "version": "3.11.5"
  }
 },
 "nbformat": 4,
 "nbformat_minor": 5
}
