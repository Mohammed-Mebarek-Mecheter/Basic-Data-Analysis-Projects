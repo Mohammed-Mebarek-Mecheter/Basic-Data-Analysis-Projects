{
 "cells": [
  {
   "cell_type": "code",
   "execution_count": 1,
   "id": "initial_id",
   "metadata": {
    "collapsed": true,
    "ExecuteTime": {
     "end_time": "2024-01-10T22:02:12.823288900Z",
     "start_time": "2024-01-10T22:02:12.786926300Z"
    }
   },
   "outputs": [],
   "source": [
    "# Import Libraries\n",
    "import pandas as pd"
   ]
  },
  {
   "cell_type": "code",
   "outputs": [],
   "source": [
    "# Load Dataset\n",
    "df = pd.read_csv('data/salaries.csv')"
   ],
   "metadata": {
    "collapsed": false,
    "ExecuteTime": {
     "end_time": "2024-01-10T22:02:14.043726700Z",
     "start_time": "2024-01-10T22:02:13.916738800Z"
    }
   },
   "id": "9c0fb81fc1255f29",
   "execution_count": 2
  },
  {
   "cell_type": "code",
   "outputs": [
    {
     "data": {
      "text/plain": "   work_year experience_level employment_type               job_title  salary  \\\n0       2024               EN              FT  Cyber Security Analyst   45000   \n1       2024               SE              FT      Security Architect  300000   \n2       2024               SE              FT      Security Architect  200000   \n3       2024               EX              FT         Privacy Officer  297000   \n4       2024               EX              FT         Privacy Officer  216000   \n\n  salary_currency  salary_in_usd employee_residence  remote_ratio  \\\n0             EUR          50000                 FR            50   \n1             USD         300000                 US             0   \n2             USD         200000                 US             0   \n3             USD         297000                 US             0   \n4             USD         216000                 US             0   \n\n  company_location company_size  \n0               FR            L  \n1               US            M  \n2               US            M  \n3               US            M  \n4               US            M  ",
      "text/html": "<div>\n<style scoped>\n    .dataframe tbody tr th:only-of-type {\n        vertical-align: middle;\n    }\n\n    .dataframe tbody tr th {\n        vertical-align: top;\n    }\n\n    .dataframe thead th {\n        text-align: right;\n    }\n</style>\n<table border=\"1\" class=\"dataframe\">\n  <thead>\n    <tr style=\"text-align: right;\">\n      <th></th>\n      <th>work_year</th>\n      <th>experience_level</th>\n      <th>employment_type</th>\n      <th>job_title</th>\n      <th>salary</th>\n      <th>salary_currency</th>\n      <th>salary_in_usd</th>\n      <th>employee_residence</th>\n      <th>remote_ratio</th>\n      <th>company_location</th>\n      <th>company_size</th>\n    </tr>\n  </thead>\n  <tbody>\n    <tr>\n      <th>0</th>\n      <td>2024</td>\n      <td>EN</td>\n      <td>FT</td>\n      <td>Cyber Security Analyst</td>\n      <td>45000</td>\n      <td>EUR</td>\n      <td>50000</td>\n      <td>FR</td>\n      <td>50</td>\n      <td>FR</td>\n      <td>L</td>\n    </tr>\n    <tr>\n      <th>1</th>\n      <td>2024</td>\n      <td>SE</td>\n      <td>FT</td>\n      <td>Security Architect</td>\n      <td>300000</td>\n      <td>USD</td>\n      <td>300000</td>\n      <td>US</td>\n      <td>0</td>\n      <td>US</td>\n      <td>M</td>\n    </tr>\n    <tr>\n      <th>2</th>\n      <td>2024</td>\n      <td>SE</td>\n      <td>FT</td>\n      <td>Security Architect</td>\n      <td>200000</td>\n      <td>USD</td>\n      <td>200000</td>\n      <td>US</td>\n      <td>0</td>\n      <td>US</td>\n      <td>M</td>\n    </tr>\n    <tr>\n      <th>3</th>\n      <td>2024</td>\n      <td>EX</td>\n      <td>FT</td>\n      <td>Privacy Officer</td>\n      <td>297000</td>\n      <td>USD</td>\n      <td>297000</td>\n      <td>US</td>\n      <td>0</td>\n      <td>US</td>\n      <td>M</td>\n    </tr>\n    <tr>\n      <th>4</th>\n      <td>2024</td>\n      <td>EX</td>\n      <td>FT</td>\n      <td>Privacy Officer</td>\n      <td>216000</td>\n      <td>USD</td>\n      <td>216000</td>\n      <td>US</td>\n      <td>0</td>\n      <td>US</td>\n      <td>M</td>\n    </tr>\n  </tbody>\n</table>\n</div>"
     },
     "execution_count": 3,
     "metadata": {},
     "output_type": "execute_result"
    }
   ],
   "source": [
    "df.head()"
   ],
   "metadata": {
    "collapsed": false,
    "ExecuteTime": {
     "end_time": "2024-01-10T22:02:47.914153900Z",
     "start_time": "2024-01-10T22:02:47.787399600Z"
    }
   },
   "id": "e2b63613387b97dd",
   "execution_count": 3
  },
  {
   "cell_type": "code",
   "outputs": [
    {
     "data": {
      "text/plain": "<bound method DataFrame.info of       work_year experience_level employment_type  \\\n0          2024               EN              FT   \n1          2024               SE              FT   \n2          2024               SE              FT   \n3          2024               EX              FT   \n4          2024               EX              FT   \n...         ...              ...             ...   \n5325       2020               MI              FT   \n5326       2021               SE              FT   \n5327       2021               SE              FT   \n5328       2021               MI              FT   \n5329       2021               MI              FT   \n\n                         job_title  salary salary_currency  salary_in_usd  \\\n0           Cyber Security Analyst   45000             EUR          50000   \n1               Security Architect  300000             USD         300000   \n2               Security Architect  200000             USD         200000   \n3                  Privacy Officer  297000             USD         297000   \n4                  Privacy Officer  216000             USD         216000   \n...                            ...     ...             ...            ...   \n5325        Cyber Security Analyst  140000             AUD          96422   \n5326  Information Security Manager   60000             GBP          82528   \n5327  Penetration Testing Engineer  126000             USD         126000   \n5328  Information Security Analyst   42000             GBP          57769   \n5329   Threat Intelligence Analyst   66310             USD          66310   \n\n     employee_residence  remote_ratio company_location company_size  \n0                    FR            50               FR            L  \n1                    US             0               US            M  \n2                    US             0               US            M  \n3                    US             0               US            M  \n4                    US             0               US            M  \n...                 ...           ...              ...          ...  \n5325                 AU            50               AU            M  \n5326                 GB            50               GB            L  \n5327                 US           100               US            L  \n5328                 GB           100               GB            L  \n5329                 US             0               US            L  \n\n[5330 rows x 11 columns]>"
     },
     "execution_count": 4,
     "metadata": {},
     "output_type": "execute_result"
    }
   ],
   "source": [
    "df.info"
   ],
   "metadata": {
    "collapsed": false,
    "ExecuteTime": {
     "end_time": "2024-01-10T22:03:09.121967600Z",
     "start_time": "2024-01-10T22:03:09.069351200Z"
    }
   },
   "id": "ef46ae389d5e0b8f",
   "execution_count": 4
  },
  {
   "cell_type": "code",
   "outputs": [
    {
     "data": {
      "text/plain": "(5330, 11)"
     },
     "execution_count": 5,
     "metadata": {},
     "output_type": "execute_result"
    }
   ],
   "source": [
    "df.shape"
   ],
   "metadata": {
    "collapsed": false,
    "ExecuteTime": {
     "end_time": "2024-01-10T22:04:03.045395500Z",
     "start_time": "2024-01-10T22:04:03.000750200Z"
    }
   },
   "id": "c87b9d7522f7922a",
   "execution_count": 5
  },
  {
   "cell_type": "code",
   "outputs": [
    {
     "data": {
      "text/plain": "         work_year        salary  salary_in_usd  remote_ratio\ncount  5330.000000  5.330000e+03    5330.000000   5330.000000\nmean   2022.548968  3.652264e+05  146232.111069     41.772983\nstd       0.823938  1.069612e+07   63996.566877     47.801635\nmin    2020.000000  1.640000e+04   15897.000000      0.000000\n25%    2022.000000  1.005000e+05  100000.000000      0.000000\n50%    2023.000000  1.400000e+05  138000.000000      0.000000\n75%    2023.000000  1.830000e+05  180000.000000    100.000000\nmax    2024.000000  6.000000e+08  700000.000000    100.000000",
      "text/html": "<div>\n<style scoped>\n    .dataframe tbody tr th:only-of-type {\n        vertical-align: middle;\n    }\n\n    .dataframe tbody tr th {\n        vertical-align: top;\n    }\n\n    .dataframe thead th {\n        text-align: right;\n    }\n</style>\n<table border=\"1\" class=\"dataframe\">\n  <thead>\n    <tr style=\"text-align: right;\">\n      <th></th>\n      <th>work_year</th>\n      <th>salary</th>\n      <th>salary_in_usd</th>\n      <th>remote_ratio</th>\n    </tr>\n  </thead>\n  <tbody>\n    <tr>\n      <th>count</th>\n      <td>5330.000000</td>\n      <td>5.330000e+03</td>\n      <td>5330.000000</td>\n      <td>5330.000000</td>\n    </tr>\n    <tr>\n      <th>mean</th>\n      <td>2022.548968</td>\n      <td>3.652264e+05</td>\n      <td>146232.111069</td>\n      <td>41.772983</td>\n    </tr>\n    <tr>\n      <th>std</th>\n      <td>0.823938</td>\n      <td>1.069612e+07</td>\n      <td>63996.566877</td>\n      <td>47.801635</td>\n    </tr>\n    <tr>\n      <th>min</th>\n      <td>2020.000000</td>\n      <td>1.640000e+04</td>\n      <td>15897.000000</td>\n      <td>0.000000</td>\n    </tr>\n    <tr>\n      <th>25%</th>\n      <td>2022.000000</td>\n      <td>1.005000e+05</td>\n      <td>100000.000000</td>\n      <td>0.000000</td>\n    </tr>\n    <tr>\n      <th>50%</th>\n      <td>2023.000000</td>\n      <td>1.400000e+05</td>\n      <td>138000.000000</td>\n      <td>0.000000</td>\n    </tr>\n    <tr>\n      <th>75%</th>\n      <td>2023.000000</td>\n      <td>1.830000e+05</td>\n      <td>180000.000000</td>\n      <td>100.000000</td>\n    </tr>\n    <tr>\n      <th>max</th>\n      <td>2024.000000</td>\n      <td>6.000000e+08</td>\n      <td>700000.000000</td>\n      <td>100.000000</td>\n    </tr>\n  </tbody>\n</table>\n</div>"
     },
     "execution_count": 6,
     "metadata": {},
     "output_type": "execute_result"
    }
   ],
   "source": [
    "df.describe()"
   ],
   "metadata": {
    "collapsed": false,
    "ExecuteTime": {
     "end_time": "2024-01-10T22:04:18.764187200Z",
     "start_time": "2024-01-10T22:04:18.700343700Z"
    }
   },
   "id": "7eb591e8966ed8d8",
   "execution_count": 6
  },
  {
   "cell_type": "code",
   "outputs": [
    {
     "data": {
      "text/plain": "work_year              int64\nexperience_level      object\nemployment_type       object\njob_title             object\nsalary                 int64\nsalary_currency       object\nsalary_in_usd          int64\nemployee_residence    object\nremote_ratio           int64\ncompany_location      object\ncompany_size          object\ndtype: object"
     },
     "execution_count": 7,
     "metadata": {},
     "output_type": "execute_result"
    }
   ],
   "source": [
    "df.dtypes"
   ],
   "metadata": {
    "collapsed": false,
    "ExecuteTime": {
     "end_time": "2024-01-10T22:05:07.220797100Z",
     "start_time": "2024-01-10T22:05:07.175334400Z"
    }
   },
   "id": "ed3ec1d7b4f2b379",
   "execution_count": 7
  }
 ],
 "metadata": {
  "kernelspec": {
   "display_name": "Python 3",
   "language": "python",
   "name": "python3"
  },
  "language_info": {
   "codemirror_mode": {
    "name": "ipython",
    "version": 2
   },
   "file_extension": ".py",
   "mimetype": "text/x-python",
   "name": "python",
   "nbconvert_exporter": "python",
   "pygments_lexer": "ipython2",
   "version": "2.7.6"
  }
 },
 "nbformat": 4,
 "nbformat_minor": 5
}
