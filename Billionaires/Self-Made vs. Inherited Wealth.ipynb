{
 "cells": [
  {
   "cell_type": "code",
   "execution_count": 1,
   "id": "initial_id",
   "metadata": {
    "ExecuteTime": {
     "end_time": "2023-10-16T14:54:33.503352300Z",
     "start_time": "2023-10-16T14:54:33.456501100Z"
    }
   },
   "outputs": [],
   "source": [
    "import pandas as pd"
   ]
  },
  {
   "cell_type": "code",
   "execution_count": 2,
   "id": "92d4da8399f4b91b",
   "metadata": {
    "ExecuteTime": {
     "end_time": "2023-10-16T14:54:33.633182100Z",
     "start_time": "2023-10-16T14:54:33.472125Z"
    }
   },
   "outputs": [],
   "source": [
    "# Load the dataset\n",
    "data = pd.read_csv(\"cleaned_billionaires.csv\")"
   ]
  },
  {
   "cell_type": "code",
   "execution_count": 8,
   "id": "76cdec4e05484d62",
   "metadata": {
    "ExecuteTime": {
     "end_time": "2023-10-16T15:31:12.046833100Z",
     "start_time": "2023-10-16T15:31:12.021204Z"
    }
   },
   "outputs": [
    {
     "data": {
      "text/plain": "  wealth.how.inherited  wealth.how.was founder\n0        not inherited                    True\n1        not inherited                    True\n2        not inherited                    True\n3        not inherited                    True\n4        not inherited                    True",
      "text/html": "<div>\n<style scoped>\n    .dataframe tbody tr th:only-of-type {\n        vertical-align: middle;\n    }\n\n    .dataframe tbody tr th {\n        vertical-align: top;\n    }\n\n    .dataframe thead th {\n        text-align: right;\n    }\n</style>\n<table border=\"1\" class=\"dataframe\">\n  <thead>\n    <tr style=\"text-align: right;\">\n      <th></th>\n      <th>wealth.how.inherited</th>\n      <th>wealth.how.was founder</th>\n    </tr>\n  </thead>\n  <tbody>\n    <tr>\n      <th>0</th>\n      <td>not inherited</td>\n      <td>True</td>\n    </tr>\n    <tr>\n      <th>1</th>\n      <td>not inherited</td>\n      <td>True</td>\n    </tr>\n    <tr>\n      <th>2</th>\n      <td>not inherited</td>\n      <td>True</td>\n    </tr>\n    <tr>\n      <th>3</th>\n      <td>not inherited</td>\n      <td>True</td>\n    </tr>\n    <tr>\n      <th>4</th>\n      <td>not inherited</td>\n      <td>True</td>\n    </tr>\n  </tbody>\n</table>\n</div>"
     },
     "execution_count": 8,
     "metadata": {},
     "output_type": "execute_result"
    }
   ],
   "source": [
    "# Filter the dataset to include only relevant columns\n",
    "filtered_data = data[['wealth.how.inherited', 'wealth.how.was founder']]\n",
    "filtered_data.head()"
   ]
  },
  {
   "cell_type": "code",
   "execution_count": 4,
   "id": "ebcb63516b48e291",
   "metadata": {
    "ExecuteTime": {
     "end_time": "2023-10-16T14:56:28.550678500Z",
     "start_time": "2023-10-16T14:56:28.410867700Z"
    }
   },
   "outputs": [
    {
     "data": {
      "text/html": [
       "<div>\n",
       "<style scoped>\n",
       "    .dataframe tbody tr th:only-of-type {\n",
       "        vertical-align: middle;\n",
       "    }\n",
       "\n",
       "    .dataframe tbody tr th {\n",
       "        vertical-align: top;\n",
       "    }\n",
       "\n",
       "    .dataframe thead th {\n",
       "        text-align: right;\n",
       "    }\n",
       "</style>\n",
       "<table border=\"1\" class=\"dataframe\">\n",
       "  <thead>\n",
       "    <tr style=\"text-align: right;\">\n",
       "      <th></th>\n",
       "      <th>wealth.how.inherited</th>\n",
       "      <th>wealth.how.was founder</th>\n",
       "      <th>self_made</th>\n",
       "    </tr>\n",
       "  </thead>\n",
       "  <tbody>\n",
       "    <tr>\n",
       "      <th>0</th>\n",
       "      <td>not inherited</td>\n",
       "      <td>True</td>\n",
       "      <td>inherited</td>\n",
       "    </tr>\n",
       "    <tr>\n",
       "      <th>1</th>\n",
       "      <td>not inherited</td>\n",
       "      <td>True</td>\n",
       "      <td>inherited</td>\n",
       "    </tr>\n",
       "    <tr>\n",
       "      <th>2</th>\n",
       "      <td>not inherited</td>\n",
       "      <td>True</td>\n",
       "      <td>inherited</td>\n",
       "    </tr>\n",
       "    <tr>\n",
       "      <th>3</th>\n",
       "      <td>not inherited</td>\n",
       "      <td>True</td>\n",
       "      <td>inherited</td>\n",
       "    </tr>\n",
       "    <tr>\n",
       "      <th>4</th>\n",
       "      <td>not inherited</td>\n",
       "      <td>True</td>\n",
       "      <td>inherited</td>\n",
       "    </tr>\n",
       "  </tbody>\n",
       "</table>\n",
       "</div>"
      ],
      "text/plain": [
       "  wealth.how.inherited  wealth.how.was founder  self_made\n",
       "0        not inherited                    True  inherited\n",
       "1        not inherited                    True  inherited\n",
       "2        not inherited                    True  inherited\n",
       "3        not inherited                    True  inherited\n",
       "4        not inherited                    True  inherited"
      ]
     },
     "execution_count": 4,
     "metadata": {},
     "output_type": "execute_result"
    }
   ],
   "source": [
    "# Create a new binary column for self-made vs. inherited\n",
    "data['self_made'] = data.apply(lambda row: 'self-made' if row['wealth.how.inherited'] == 'not inherited' and row['wealth.how.was founder'] == 'true' else 'inherited', axis=1)\n",
    "\n",
    "# Display the dataset with the new 'self_made' column\n",
    "data[['wealth.how.inherited', 'wealth.how.was founder', 'self_made']].head()"
   ]
  },
  {
   "cell_type": "code",
   "execution_count": 10,
   "outputs": [
    {
     "name": "stdout",
     "output_type": "stream",
     "text": [
      "Proportion of Self-Made Billionaires: 64.04%\n",
      "Proportion of Inherited Billionaires: 35.96%\n"
     ]
    }
   ],
   "source": [
    "# Calculate the total count of billionaires\n",
    "total_count = len(data)\n",
    "\n",
    "# Count the number of individuals with inherited wealth\n",
    "inherited_wealth = len(data[data['wealth.how.inherited'] != 'not inherited'])\n",
    "\n",
    "# Calculate the proportion of self-made billionaires\n",
    "self_made_proportion = (total_count - inherited_wealth) / total_count\n",
    "\n",
    "# Calculate the proportion of inherited billionaires\n",
    "inherited_proportion = inherited_wealth / total_count\n",
    "\n",
    "# Print the proportions\n",
    "print(\"Proportion of Self-Made Billionaires: {:.2%}\".format(self_made_proportion))\n",
    "print(\"Proportion of Inherited Billionaires: {:.2%}\".format(inherited_proportion))"
   ],
   "metadata": {
    "collapsed": false,
    "ExecuteTime": {
     "end_time": "2023-10-16T15:47:49.702784400Z",
     "start_time": "2023-10-16T15:47:49.656269900Z"
    }
   },
   "id": "112fe7d000486590"
  },
  {
   "cell_type": "code",
   "execution_count": 11,
   "outputs": [
    {
     "name": "stdout",
     "output_type": "stream",
     "text": [
      "Proportions of Self-Made vs. Inherited Billionaires by Gender:\n",
      "self_made            inherited\n",
      "demographics.gender           \n",
      "female                     1.0\n",
      "male                       1.0\n",
      "married couple             1.0\n"
     ]
    }
   ],
   "source": [
    "# Gender Analysis\n",
    "gender_proportions = data.groupby('demographics.gender')['self_made'].value_counts(normalize=True).unstack()\n",
    "print(\"Proportions of Self-Made vs. Inherited Billionaires by Gender:\")\n",
    "print(gender_proportions)"
   ],
   "metadata": {
    "collapsed": false,
    "ExecuteTime": {
     "end_time": "2023-10-16T20:28:48.320911600Z",
     "start_time": "2023-10-16T20:28:47.631254800Z"
    }
   },
   "id": "72672d87d363faab"
  },
  {
   "cell_type": "code",
   "execution_count": 12,
   "outputs": [
    {
     "name": "stdout",
     "output_type": "stream",
     "text": [
      "\n",
      "Proportions of Self-Made vs. Inherited Billionaires by Location:\n",
      "self_made             inherited\n",
      "location.citizenship           \n",
      "Algeria                     1.0\n",
      "Angola                      1.0\n",
      "Argentina                   1.0\n",
      "Australia                   1.0\n",
      "Austria                     1.0\n",
      "...                         ...\n",
      "United Arab Emirates        1.0\n",
      "United Kingdom              1.0\n",
      "United States               1.0\n",
      "Venezuela                   1.0\n",
      "Vietnam                     1.0\n",
      "\n",
      "[73 rows x 1 columns]\n"
     ]
    }
   ],
   "source": [
    "# Location Analysis\n",
    "location_proportions = data.groupby('location.citizenship')['self_made'].value_counts(normalize=True).unstack()\n",
    "print(\"\\nProportions of Self-Made vs. Inherited Billionaires by Location:\")\n",
    "print(location_proportions)"
   ],
   "metadata": {
    "collapsed": false,
    "ExecuteTime": {
     "end_time": "2023-10-16T20:29:07.641020800Z",
     "start_time": "2023-10-16T20:29:07.576257900Z"
    }
   },
   "id": "a9882aeeccbd4c7f"
  },
  {
   "cell_type": "code",
   "execution_count": 14,
   "outputs": [
    {
     "name": "stdout",
     "output_type": "stream",
     "text": [
      "Proportions of Self-Made vs. Inherited Billionaires by Gender:\n",
      "self_made            inherited\n",
      "demographics.gender           \n",
      "female                     1.0\n",
      "male                       1.0\n",
      "married couple             1.0\n"
     ]
    }
   ],
   "source": [
    "# Group the data by gender\n",
    "gender_grouped = data.groupby('demographics.gender')\n",
    "\n",
    "# Calculate the proportions of self-made and inherited billionaires for each gender\n",
    "gender_proportions = gender_grouped['self_made'].value_counts(normalize=True).unstack()\n",
    "\n",
    "# Display the proportions\n",
    "print(\"Proportions of Self-Made vs. Inherited Billionaires by Gender:\")\n",
    "print(gender_proportions)"
   ],
   "metadata": {
    "collapsed": false,
    "ExecuteTime": {
     "end_time": "2023-10-16T21:42:47.024070Z",
     "start_time": "2023-10-16T21:42:46.956974500Z"
    }
   },
   "id": "8bfb3ecd49677e07"
  },
  {
   "cell_type": "code",
   "execution_count": 18,
   "outputs": [
    {
     "name": "stdout",
     "output_type": "stream",
     "text": [
      "Number of Male Billionaires: 2288\n",
      "Number of Female Billionaires: 248\n"
     ]
    }
   ],
   "source": [
    "# Count the number of male and female billionaires\n",
    "gender_counts = data['demographics.gender'].value_counts()\n",
    "\n",
    "# Display the counts\n",
    "print(\"Number of Male Billionaires:\", gender_counts['male'])\n",
    "print(\"Number of Female Billionaires:\", gender_counts['female'])"
   ],
   "metadata": {
    "collapsed": false,
    "ExecuteTime": {
     "end_time": "2023-10-16T22:49:49.006704600Z",
     "start_time": "2023-10-16T22:49:48.940108500Z"
    }
   },
   "id": "2e7a5fa1639c9ef7"
  }
 ],
 "metadata": {
  "kernelspec": {
   "display_name": "Python 3 (ipykernel)",
   "language": "python",
   "name": "python3"
  },
  "language_info": {
   "codemirror_mode": {
    "name": "ipython",
    "version": 3
   },
   "file_extension": ".py",
   "mimetype": "text/x-python",
   "name": "python",
   "nbconvert_exporter": "python",
   "pygments_lexer": "ipython3",
   "version": "3.11.5"
  }
 },
 "nbformat": 4,
 "nbformat_minor": 5
}
