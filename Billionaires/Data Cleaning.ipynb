{
 "cells": [
  {
   "cell_type": "code",
   "execution_count": 1,
   "id": "initial_id",
   "metadata": {
    "ExecuteTime": {
     "end_time": "2023-10-12T15:07:52.096610700Z",
     "start_time": "2023-10-12T15:07:52.087315500Z"
    }
   },
   "outputs": [],
   "source": [
    "import pandas as pd"
   ]
  },
  {
   "cell_type": "code",
   "execution_count": 2,
   "id": "e3385eb39c5ba7dd",
   "metadata": {
    "ExecuteTime": {
     "end_time": "2023-10-12T15:07:59.324834600Z",
     "start_time": "2023-10-12T15:07:59.281449400Z"
    }
   },
   "outputs": [],
   "source": [
    "# Load the dataset\n",
    "data = pd.read_csv(\"data/billionaires.csv\")"
   ]
  },
  {
   "cell_type": "code",
   "execution_count": 3,
   "id": "c4762f724daf7d54",
   "metadata": {
    "ExecuteTime": {
     "end_time": "2023-10-12T15:08:14.560771Z",
     "start_time": "2023-10-12T15:08:14.520196300Z"
    }
   },
   "outputs": [
    {
     "name": "stdout",
     "output_type": "stream",
     "text": [
      "Missing Data Count:\n",
      "name                         0\n",
      "rank                         0\n",
      "year                         0\n",
      "company.founded              0\n",
      "company.name                38\n",
      "company.relationship        46\n",
      "company.sector              23\n",
      "company.type                36\n",
      "demographics.age             0\n",
      "demographics.gender         34\n",
      "location.citizenship         0\n",
      "location.country code        0\n",
      "location.gdp                 0\n",
      "location.region              0\n",
      "wealth.type                 22\n",
      "wealth.worth in billions     0\n",
      "wealth.how.category          1\n",
      "wealth.how.from emerging     0\n",
      "wealth.how.industry          1\n",
      "wealth.how.inherited         0\n",
      "wealth.how.was founder       0\n",
      "wealth.how.was political     0\n",
      "dtype: int64\n"
     ]
    }
   ],
   "source": [
    "# Check for missing data\n",
    "missing_data = data.isnull()\n",
    "\n",
    "# Count missing values in each column\n",
    "missing_count = missing_data.sum()\n",
    "print(\"Missing Data Count:\")\n",
    "print(missing_count)"
   ]
  },
  {
   "cell_type": "code",
   "execution_count": 4,
   "id": "32d9de0cfeed854b",
   "metadata": {
    "ExecuteTime": {
     "end_time": "2023-10-12T15:09:17.446055400Z",
     "start_time": "2023-10-12T15:09:17.418098800Z"
    }
   },
   "outputs": [
    {
     "name": "stdout",
     "output_type": "stream",
     "text": [
      "Original Data Shape: (2614, 22)\n",
      "Cleaned Data Shape: (2539, 22)\n"
     ]
    }
   ],
   "source": [
    "# Remove rows with missing values\n",
    "cleaned_data = data.dropna()\n",
    "\n",
    "# Display the shape of the cleaned dataset to see how many rows were removed\n",
    "print(\"Original Data Shape:\", data.shape)\n",
    "print(\"Cleaned Data Shape:\", cleaned_data.shape)"
   ]
  },
  {
   "cell_type": "code",
   "execution_count": 5,
   "id": "9bd3174be8041431",
   "metadata": {
    "ExecuteTime": {
     "end_time": "2023-10-12T15:09:51.480152900Z",
     "start_time": "2023-10-12T15:09:51.456425Z"
    }
   },
   "outputs": [
    {
     "data": {
      "text/plain": [
       "name                         object\n",
       "rank                          int64\n",
       "year                          int64\n",
       "company.founded               int64\n",
       "company.name                 object\n",
       "company.relationship         object\n",
       "company.sector               object\n",
       "company.type                 object\n",
       "demographics.age              int64\n",
       "demographics.gender          object\n",
       "location.citizenship         object\n",
       "location.country code        object\n",
       "location.gdp                float64\n",
       "location.region              object\n",
       "wealth.type                  object\n",
       "wealth.worth in billions    float64\n",
       "wealth.how.category          object\n",
       "wealth.how.from emerging       bool\n",
       "wealth.how.industry          object\n",
       "wealth.how.inherited         object\n",
       "wealth.how.was founder         bool\n",
       "wealth.how.was political       bool\n",
       "dtype: object"
      ]
     },
     "execution_count": 5,
     "metadata": {},
     "output_type": "execute_result"
    }
   ],
   "source": [
    "data.dtypes"
   ]
  },
  {
   "cell_type": "code",
   "execution_count": 6,
   "id": "ed75d17d250f57cd",
   "metadata": {
    "ExecuteTime": {
     "end_time": "2023-10-12T15:12:22.246896300Z",
     "start_time": "2023-10-12T15:12:22.162348300Z"
    }
   },
   "outputs": [],
   "source": [
    "# Save the cleaned dataset to a CSV file\n",
    "cleaned_data.to_csv('cleaned_billionaires.csv', index=False)"
   ]
  }
 ],
 "metadata": {
  "kernelspec": {
   "display_name": "Python 3 (ipykernel)",
   "language": "python",
   "name": "python3"
  },
  "language_info": {
   "codemirror_mode": {
    "name": "ipython",
    "version": 3
   },
   "file_extension": ".py",
   "mimetype": "text/x-python",
   "name": "python",
   "nbconvert_exporter": "python",
   "pygments_lexer": "ipython3",
   "version": "3.11.5"
  }
 },
 "nbformat": 4,
 "nbformat_minor": 5
}
