{
 "cells": [
  {
   "cell_type": "code",
   "execution_count": 1,
   "id": "initial_id",
   "metadata": {
    "collapsed": true,
    "ExecuteTime": {
     "end_time": "2023-08-19T19:28:15.126748Z",
     "start_time": "2023-08-19T19:28:14.176145200Z"
    }
   },
   "outputs": [],
   "source": [
    "import pandas as pd"
   ]
  },
  {
   "cell_type": "code",
   "execution_count": 4,
   "outputs": [],
   "source": [
    "# Load the dataset\n",
    "data = pd.read_csv(\"data/Global YouTube Statistics.csv\", encoding='latin1')"
   ],
   "metadata": {
    "collapsed": false,
    "ExecuteTime": {
     "end_time": "2023-08-19T19:32:23.788586600Z",
     "start_time": "2023-08-19T19:32:23.699550100Z"
    }
   },
   "id": "c8168e7eb734e3cc"
  },
  {
   "cell_type": "code",
   "execution_count": 5,
   "outputs": [
    {
     "data": {
      "text/plain": "   rank                    Youtuber  subscribers   video views  \\\n0     1                    T-Series    245000000  2.280000e+11   \n1     2              YouTube Movies    170000000  0.000000e+00   \n2     3                     MrBeast    166000000  2.836884e+10   \n3     4  Cocomelon - Nursery Rhymes    162000000  1.640000e+11   \n4     5                   SET India    159000000  1.480000e+11   \n\n           category                       Title  uploads        Country  \\\n0             Music                    T-Series    20082          India   \n1  Film & Animation               youtubemovies        1  United States   \n2     Entertainment                     MrBeast      741  United States   \n3         Education  Cocomelon - Nursery Rhymes      966  United States   \n4             Shows                   SET India   116536          India   \n\n  Abbreviation   channel_type  ...  subscribers_for_last_30_days  \\\n0           IN          Music  ...                     2000000.0   \n1           US          Games  ...                           NaN   \n2           US  Entertainment  ...                     8000000.0   \n3           US      Education  ...                     1000000.0   \n4           IN  Entertainment  ...                     1000000.0   \n\n   created_year  created_month  created_date  \\\n0        2006.0            Mar          13.0   \n1        2006.0            Mar           5.0   \n2        2012.0            Feb          20.0   \n3        2006.0            Sep           1.0   \n4        2006.0            Sep          20.0   \n\n   Gross tertiary education enrollment (%)    Population  Unemployment rate  \\\n0                                     28.1  1.366418e+09               5.36   \n1                                     88.2  3.282395e+08              14.70   \n2                                     88.2  3.282395e+08              14.70   \n3                                     88.2  3.282395e+08              14.70   \n4                                     28.1  1.366418e+09               5.36   \n\n   Urban_population   Latitude  Longitude  \n0       471031528.0  20.593684  78.962880  \n1       270663028.0  37.090240 -95.712891  \n2       270663028.0  37.090240 -95.712891  \n3       270663028.0  37.090240 -95.712891  \n4       471031528.0  20.593684  78.962880  \n\n[5 rows x 28 columns]",
      "text/html": "<div>\n<style scoped>\n    .dataframe tbody tr th:only-of-type {\n        vertical-align: middle;\n    }\n\n    .dataframe tbody tr th {\n        vertical-align: top;\n    }\n\n    .dataframe thead th {\n        text-align: right;\n    }\n</style>\n<table border=\"1\" class=\"dataframe\">\n  <thead>\n    <tr style=\"text-align: right;\">\n      <th></th>\n      <th>rank</th>\n      <th>Youtuber</th>\n      <th>subscribers</th>\n      <th>video views</th>\n      <th>category</th>\n      <th>Title</th>\n      <th>uploads</th>\n      <th>Country</th>\n      <th>Abbreviation</th>\n      <th>channel_type</th>\n      <th>...</th>\n      <th>subscribers_for_last_30_days</th>\n      <th>created_year</th>\n      <th>created_month</th>\n      <th>created_date</th>\n      <th>Gross tertiary education enrollment (%)</th>\n      <th>Population</th>\n      <th>Unemployment rate</th>\n      <th>Urban_population</th>\n      <th>Latitude</th>\n      <th>Longitude</th>\n    </tr>\n  </thead>\n  <tbody>\n    <tr>\n      <th>0</th>\n      <td>1</td>\n      <td>T-Series</td>\n      <td>245000000</td>\n      <td>2.280000e+11</td>\n      <td>Music</td>\n      <td>T-Series</td>\n      <td>20082</td>\n      <td>India</td>\n      <td>IN</td>\n      <td>Music</td>\n      <td>...</td>\n      <td>2000000.0</td>\n      <td>2006.0</td>\n      <td>Mar</td>\n      <td>13.0</td>\n      <td>28.1</td>\n      <td>1.366418e+09</td>\n      <td>5.36</td>\n      <td>471031528.0</td>\n      <td>20.593684</td>\n      <td>78.962880</td>\n    </tr>\n    <tr>\n      <th>1</th>\n      <td>2</td>\n      <td>YouTube Movies</td>\n      <td>170000000</td>\n      <td>0.000000e+00</td>\n      <td>Film &amp; Animation</td>\n      <td>youtubemovies</td>\n      <td>1</td>\n      <td>United States</td>\n      <td>US</td>\n      <td>Games</td>\n      <td>...</td>\n      <td>NaN</td>\n      <td>2006.0</td>\n      <td>Mar</td>\n      <td>5.0</td>\n      <td>88.2</td>\n      <td>3.282395e+08</td>\n      <td>14.70</td>\n      <td>270663028.0</td>\n      <td>37.090240</td>\n      <td>-95.712891</td>\n    </tr>\n    <tr>\n      <th>2</th>\n      <td>3</td>\n      <td>MrBeast</td>\n      <td>166000000</td>\n      <td>2.836884e+10</td>\n      <td>Entertainment</td>\n      <td>MrBeast</td>\n      <td>741</td>\n      <td>United States</td>\n      <td>US</td>\n      <td>Entertainment</td>\n      <td>...</td>\n      <td>8000000.0</td>\n      <td>2012.0</td>\n      <td>Feb</td>\n      <td>20.0</td>\n      <td>88.2</td>\n      <td>3.282395e+08</td>\n      <td>14.70</td>\n      <td>270663028.0</td>\n      <td>37.090240</td>\n      <td>-95.712891</td>\n    </tr>\n    <tr>\n      <th>3</th>\n      <td>4</td>\n      <td>Cocomelon - Nursery Rhymes</td>\n      <td>162000000</td>\n      <td>1.640000e+11</td>\n      <td>Education</td>\n      <td>Cocomelon - Nursery Rhymes</td>\n      <td>966</td>\n      <td>United States</td>\n      <td>US</td>\n      <td>Education</td>\n      <td>...</td>\n      <td>1000000.0</td>\n      <td>2006.0</td>\n      <td>Sep</td>\n      <td>1.0</td>\n      <td>88.2</td>\n      <td>3.282395e+08</td>\n      <td>14.70</td>\n      <td>270663028.0</td>\n      <td>37.090240</td>\n      <td>-95.712891</td>\n    </tr>\n    <tr>\n      <th>4</th>\n      <td>5</td>\n      <td>SET India</td>\n      <td>159000000</td>\n      <td>1.480000e+11</td>\n      <td>Shows</td>\n      <td>SET India</td>\n      <td>116536</td>\n      <td>India</td>\n      <td>IN</td>\n      <td>Entertainment</td>\n      <td>...</td>\n      <td>1000000.0</td>\n      <td>2006.0</td>\n      <td>Sep</td>\n      <td>20.0</td>\n      <td>28.1</td>\n      <td>1.366418e+09</td>\n      <td>5.36</td>\n      <td>471031528.0</td>\n      <td>20.593684</td>\n      <td>78.962880</td>\n    </tr>\n  </tbody>\n</table>\n<p>5 rows × 28 columns</p>\n</div>"
     },
     "execution_count": 5,
     "metadata": {},
     "output_type": "execute_result"
    }
   ],
   "source": [
    "# Display the first few rows of the dataset\n",
    "data.head()"
   ],
   "metadata": {
    "collapsed": false,
    "ExecuteTime": {
     "end_time": "2023-08-19T19:33:01.307500200Z",
     "start_time": "2023-08-19T19:33:01.097526100Z"
    }
   },
   "id": "864ef70899fd471f"
  },
  {
   "cell_type": "code",
   "execution_count": 6,
   "outputs": [
    {
     "data": {
      "text/plain": "<bound method DataFrame.info of      rank                    Youtuber  subscribers   video views  \\\n0       1                    T-Series    245000000  2.280000e+11   \n1       2              YouTube Movies    170000000  0.000000e+00   \n2       3                     MrBeast    166000000  2.836884e+10   \n3       4  Cocomelon - Nursery Rhymes    162000000  1.640000e+11   \n4       5                   SET India    159000000  1.480000e+11   \n..    ...                         ...          ...           ...   \n990   991               Natan por Aï¿     12300000  9.029610e+09   \n991   992    Free Fire India Official     12300000  1.674410e+09   \n992   993                       Panda     12300000  2.214684e+09   \n993   994                 RobTopGames     12300000  3.741235e+08   \n994   995                Make Joke Of     12300000  2.129774e+09   \n\n             category                       Title  uploads         Country  \\\n0               Music                    T-Series    20082           India   \n1    Film & Animation               youtubemovies        1   United States   \n2       Entertainment                     MrBeast      741   United States   \n3           Education  Cocomelon - Nursery Rhymes      966   United States   \n4               Shows                   SET India   116536           India   \n..                ...                         ...      ...             ...   \n990            Sports               Natan por Aï¿     1200          Brazil   \n991    People & Blogs    Free Fire India Official     1500           India   \n992               NaN                 HybridPanda     2452  United Kingdom   \n993            Gaming                 RobTopGames       39          Sweden   \n994            Comedy                Make Joke Of       62           India   \n\n    Abbreviation   channel_type  ...  subscribers_for_last_30_days  \\\n0             IN          Music  ...                     2000000.0   \n1             US          Games  ...                           NaN   \n2             US  Entertainment  ...                     8000000.0   \n3             US      Education  ...                     1000000.0   \n4             IN  Entertainment  ...                     1000000.0   \n..           ...            ...  ...                           ...   \n990           BR  Entertainment  ...                      700000.0   \n991           IN          Games  ...                      300000.0   \n992           GB          Games  ...                        1000.0   \n993           SE          Games  ...                      100000.0   \n994           IN         Comedy  ...                      100000.0   \n\n     created_year  created_month  created_date  \\\n0          2006.0            Mar          13.0   \n1          2006.0            Mar           5.0   \n2          2012.0            Feb          20.0   \n3          2006.0            Sep           1.0   \n4          2006.0            Sep          20.0   \n..            ...            ...           ...   \n990        2017.0            Feb          12.0   \n991        2018.0            Sep          14.0   \n992        2006.0            Sep          11.0   \n993        2012.0            May           9.0   \n994        2017.0            Aug           1.0   \n\n     Gross tertiary education enrollment (%)    Population  Unemployment rate  \\\n0                                       28.1  1.366418e+09               5.36   \n1                                       88.2  3.282395e+08              14.70   \n2                                       88.2  3.282395e+08              14.70   \n3                                       88.2  3.282395e+08              14.70   \n4                                       28.1  1.366418e+09               5.36   \n..                                       ...           ...                ...   \n990                                     51.3  2.125594e+08              12.08   \n991                                     28.1  1.366418e+09               5.36   \n992                                     60.0  6.683440e+07               3.85   \n993                                     67.0  1.028545e+07               6.48   \n994                                     28.1  1.366418e+09               5.36   \n\n     Urban_population   Latitude  Longitude  \n0         471031528.0  20.593684  78.962880  \n1         270663028.0  37.090240 -95.712891  \n2         270663028.0  37.090240 -95.712891  \n3         270663028.0  37.090240 -95.712891  \n4         471031528.0  20.593684  78.962880  \n..                ...        ...        ...  \n990       183241641.0 -14.235004 -51.925280  \n991       471031528.0  20.593684  78.962880  \n992        55908316.0  55.378051  -3.435973  \n993         9021165.0  60.128161  18.643501  \n994       471031528.0  20.593684  78.962880  \n\n[995 rows x 28 columns]>"
     },
     "execution_count": 6,
     "metadata": {},
     "output_type": "execute_result"
    }
   ],
   "source": [
    "# Display information about the dataset (data types, non-null counts, memory usage, etc.)\n",
    "data.info"
   ],
   "metadata": {
    "collapsed": false,
    "ExecuteTime": {
     "end_time": "2023-08-19T19:33:33.850116700Z",
     "start_time": "2023-08-19T19:33:33.763577400Z"
    }
   },
   "id": "84b6bf93c2573307"
  },
  {
   "cell_type": "code",
   "execution_count": 7,
   "outputs": [
    {
     "data": {
      "text/plain": "            rank   subscribers   video views        uploads  video_views_rank  \\\ncount  995.00000  9.950000e+02  9.950000e+02     995.000000      9.940000e+02   \nmean   498.00000  2.298241e+07  1.103954e+10    9187.125628      5.542489e+05   \nstd    287.37606  1.752611e+07  1.411084e+10   34151.352254      1.362782e+06   \nmin      1.00000  1.230000e+07  0.000000e+00       0.000000      1.000000e+00   \n25%    249.50000  1.450000e+07  4.288145e+09     194.500000      3.230000e+02   \n50%    498.00000  1.770000e+07  7.760820e+09     729.000000      9.155000e+02   \n75%    746.50000  2.460000e+07  1.355470e+10    2667.500000      3.584500e+03   \nmax    995.00000  2.450000e+08  2.280000e+11  301308.000000      4.057944e+06   \n\n       country_rank  channel_type_rank  video_views_for_the_last_30_days  \\\ncount    879.000000         962.000000                      9.390000e+02   \nmean     386.053470         745.719335                      1.756103e+08   \nstd     1232.244746        1944.386561                      4.163782e+08   \nmin        1.000000           1.000000                      1.000000e+00   \n25%       11.000000          27.000000                      2.013750e+07   \n50%       51.000000          65.500000                      6.408500e+07   \n75%      123.000000         139.750000                      1.688265e+08   \nmax     7741.000000        7741.000000                      6.589000e+09   \n\n       lowest_monthly_earnings  highest_monthly_earnings  ...  \\\ncount               995.000000              9.950000e+02  ...   \nmean              36886.148281              5.898078e+05  ...   \nstd               71858.724092              1.148622e+06  ...   \nmin                   0.000000              0.000000e+00  ...   \n25%                2700.000000              4.350000e+04  ...   \n50%               13300.000000              2.127000e+05  ...   \n75%               37900.000000              6.068000e+05  ...   \nmax              850900.000000              1.360000e+07  ...   \n\n       highest_yearly_earnings  subscribers_for_last_30_days  created_year  \\\ncount             9.950000e+02                  6.580000e+02    990.000000   \nmean              7.081814e+06                  3.490791e+05   2012.630303   \nstd               1.379704e+07                  6.143554e+05      4.512503   \nmin               0.000000e+00                  1.000000e+00   1970.000000   \n25%               5.217500e+05                  1.000000e+05   2009.000000   \n50%               2.600000e+06                  2.000000e+05   2013.000000   \n75%               7.300000e+06                  4.000000e+05   2016.000000   \nmax               1.634000e+08                  8.000000e+06   2022.000000   \n\n       created_date  Gross tertiary education enrollment (%)    Population  \\\ncount    990.000000                               872.000000  8.720000e+02   \nmean      15.746465                                63.627752  4.303873e+08   \nstd        8.777520                                26.106893  4.727947e+08   \nmin        1.000000                                 7.600000  2.025060e+05   \n25%        8.000000                                36.300000  8.335541e+07   \n50%       16.000000                                68.000000  3.282395e+08   \n75%       23.000000                                88.200000  3.282395e+08   \nmax       31.000000                               113.100000  1.397715e+09   \n\n       Unemployment rate  Urban_population    Latitude   Longitude  \ncount         872.000000      8.720000e+02  872.000000  872.000000  \nmean            9.279278      2.242150e+08   26.632783  -14.128146  \nstd             4.888354      1.546874e+08   20.560533   84.760809  \nmin             0.750000      3.558800e+04  -38.416097 -172.104629  \n25%             5.270000      5.590832e+07   20.593684  -95.712891  \n50%             9.365000      2.706630e+08   37.090240  -51.925280  \n75%            14.700000      2.706630e+08   37.090240   78.962880  \nmax            14.720000      8.429340e+08   61.924110  138.252924  \n\n[8 rows x 21 columns]",
      "text/html": "<div>\n<style scoped>\n    .dataframe tbody tr th:only-of-type {\n        vertical-align: middle;\n    }\n\n    .dataframe tbody tr th {\n        vertical-align: top;\n    }\n\n    .dataframe thead th {\n        text-align: right;\n    }\n</style>\n<table border=\"1\" class=\"dataframe\">\n  <thead>\n    <tr style=\"text-align: right;\">\n      <th></th>\n      <th>rank</th>\n      <th>subscribers</th>\n      <th>video views</th>\n      <th>uploads</th>\n      <th>video_views_rank</th>\n      <th>country_rank</th>\n      <th>channel_type_rank</th>\n      <th>video_views_for_the_last_30_days</th>\n      <th>lowest_monthly_earnings</th>\n      <th>highest_monthly_earnings</th>\n      <th>...</th>\n      <th>highest_yearly_earnings</th>\n      <th>subscribers_for_last_30_days</th>\n      <th>created_year</th>\n      <th>created_date</th>\n      <th>Gross tertiary education enrollment (%)</th>\n      <th>Population</th>\n      <th>Unemployment rate</th>\n      <th>Urban_population</th>\n      <th>Latitude</th>\n      <th>Longitude</th>\n    </tr>\n  </thead>\n  <tbody>\n    <tr>\n      <th>count</th>\n      <td>995.00000</td>\n      <td>9.950000e+02</td>\n      <td>9.950000e+02</td>\n      <td>995.000000</td>\n      <td>9.940000e+02</td>\n      <td>879.000000</td>\n      <td>962.000000</td>\n      <td>9.390000e+02</td>\n      <td>995.000000</td>\n      <td>9.950000e+02</td>\n      <td>...</td>\n      <td>9.950000e+02</td>\n      <td>6.580000e+02</td>\n      <td>990.000000</td>\n      <td>990.000000</td>\n      <td>872.000000</td>\n      <td>8.720000e+02</td>\n      <td>872.000000</td>\n      <td>8.720000e+02</td>\n      <td>872.000000</td>\n      <td>872.000000</td>\n    </tr>\n    <tr>\n      <th>mean</th>\n      <td>498.00000</td>\n      <td>2.298241e+07</td>\n      <td>1.103954e+10</td>\n      <td>9187.125628</td>\n      <td>5.542489e+05</td>\n      <td>386.053470</td>\n      <td>745.719335</td>\n      <td>1.756103e+08</td>\n      <td>36886.148281</td>\n      <td>5.898078e+05</td>\n      <td>...</td>\n      <td>7.081814e+06</td>\n      <td>3.490791e+05</td>\n      <td>2012.630303</td>\n      <td>15.746465</td>\n      <td>63.627752</td>\n      <td>4.303873e+08</td>\n      <td>9.279278</td>\n      <td>2.242150e+08</td>\n      <td>26.632783</td>\n      <td>-14.128146</td>\n    </tr>\n    <tr>\n      <th>std</th>\n      <td>287.37606</td>\n      <td>1.752611e+07</td>\n      <td>1.411084e+10</td>\n      <td>34151.352254</td>\n      <td>1.362782e+06</td>\n      <td>1232.244746</td>\n      <td>1944.386561</td>\n      <td>4.163782e+08</td>\n      <td>71858.724092</td>\n      <td>1.148622e+06</td>\n      <td>...</td>\n      <td>1.379704e+07</td>\n      <td>6.143554e+05</td>\n      <td>4.512503</td>\n      <td>8.777520</td>\n      <td>26.106893</td>\n      <td>4.727947e+08</td>\n      <td>4.888354</td>\n      <td>1.546874e+08</td>\n      <td>20.560533</td>\n      <td>84.760809</td>\n    </tr>\n    <tr>\n      <th>min</th>\n      <td>1.00000</td>\n      <td>1.230000e+07</td>\n      <td>0.000000e+00</td>\n      <td>0.000000</td>\n      <td>1.000000e+00</td>\n      <td>1.000000</td>\n      <td>1.000000</td>\n      <td>1.000000e+00</td>\n      <td>0.000000</td>\n      <td>0.000000e+00</td>\n      <td>...</td>\n      <td>0.000000e+00</td>\n      <td>1.000000e+00</td>\n      <td>1970.000000</td>\n      <td>1.000000</td>\n      <td>7.600000</td>\n      <td>2.025060e+05</td>\n      <td>0.750000</td>\n      <td>3.558800e+04</td>\n      <td>-38.416097</td>\n      <td>-172.104629</td>\n    </tr>\n    <tr>\n      <th>25%</th>\n      <td>249.50000</td>\n      <td>1.450000e+07</td>\n      <td>4.288145e+09</td>\n      <td>194.500000</td>\n      <td>3.230000e+02</td>\n      <td>11.000000</td>\n      <td>27.000000</td>\n      <td>2.013750e+07</td>\n      <td>2700.000000</td>\n      <td>4.350000e+04</td>\n      <td>...</td>\n      <td>5.217500e+05</td>\n      <td>1.000000e+05</td>\n      <td>2009.000000</td>\n      <td>8.000000</td>\n      <td>36.300000</td>\n      <td>8.335541e+07</td>\n      <td>5.270000</td>\n      <td>5.590832e+07</td>\n      <td>20.593684</td>\n      <td>-95.712891</td>\n    </tr>\n    <tr>\n      <th>50%</th>\n      <td>498.00000</td>\n      <td>1.770000e+07</td>\n      <td>7.760820e+09</td>\n      <td>729.000000</td>\n      <td>9.155000e+02</td>\n      <td>51.000000</td>\n      <td>65.500000</td>\n      <td>6.408500e+07</td>\n      <td>13300.000000</td>\n      <td>2.127000e+05</td>\n      <td>...</td>\n      <td>2.600000e+06</td>\n      <td>2.000000e+05</td>\n      <td>2013.000000</td>\n      <td>16.000000</td>\n      <td>68.000000</td>\n      <td>3.282395e+08</td>\n      <td>9.365000</td>\n      <td>2.706630e+08</td>\n      <td>37.090240</td>\n      <td>-51.925280</td>\n    </tr>\n    <tr>\n      <th>75%</th>\n      <td>746.50000</td>\n      <td>2.460000e+07</td>\n      <td>1.355470e+10</td>\n      <td>2667.500000</td>\n      <td>3.584500e+03</td>\n      <td>123.000000</td>\n      <td>139.750000</td>\n      <td>1.688265e+08</td>\n      <td>37900.000000</td>\n      <td>6.068000e+05</td>\n      <td>...</td>\n      <td>7.300000e+06</td>\n      <td>4.000000e+05</td>\n      <td>2016.000000</td>\n      <td>23.000000</td>\n      <td>88.200000</td>\n      <td>3.282395e+08</td>\n      <td>14.700000</td>\n      <td>2.706630e+08</td>\n      <td>37.090240</td>\n      <td>78.962880</td>\n    </tr>\n    <tr>\n      <th>max</th>\n      <td>995.00000</td>\n      <td>2.450000e+08</td>\n      <td>2.280000e+11</td>\n      <td>301308.000000</td>\n      <td>4.057944e+06</td>\n      <td>7741.000000</td>\n      <td>7741.000000</td>\n      <td>6.589000e+09</td>\n      <td>850900.000000</td>\n      <td>1.360000e+07</td>\n      <td>...</td>\n      <td>1.634000e+08</td>\n      <td>8.000000e+06</td>\n      <td>2022.000000</td>\n      <td>31.000000</td>\n      <td>113.100000</td>\n      <td>1.397715e+09</td>\n      <td>14.720000</td>\n      <td>8.429340e+08</td>\n      <td>61.924110</td>\n      <td>138.252924</td>\n    </tr>\n  </tbody>\n</table>\n<p>8 rows × 21 columns</p>\n</div>"
     },
     "execution_count": 7,
     "metadata": {},
     "output_type": "execute_result"
    }
   ],
   "source": [
    "# Display summary statistics of numeric columns\n",
    "data.describe()"
   ],
   "metadata": {
    "collapsed": false,
    "ExecuteTime": {
     "end_time": "2023-08-19T19:34:07.379705700Z",
     "start_time": "2023-08-19T19:34:06.994364500Z"
    }
   },
   "id": "4692d443c8d636a0"
  },
  {
   "cell_type": "code",
   "execution_count": 8,
   "outputs": [
    {
     "data": {
      "text/plain": "(995, 28)"
     },
     "execution_count": 8,
     "metadata": {},
     "output_type": "execute_result"
    }
   ],
   "source": [
    "data.shape"
   ],
   "metadata": {
    "collapsed": false,
    "ExecuteTime": {
     "end_time": "2023-08-19T19:34:44.896140600Z",
     "start_time": "2023-08-19T19:34:44.845696700Z"
    }
   },
   "id": "68598cad8cb3bc05"
  },
  {
   "cell_type": "code",
   "execution_count": 9,
   "outputs": [
    {
     "data": {
      "text/plain": "rank                                         int64\nYoutuber                                    object\nsubscribers                                  int64\nvideo views                                float64\ncategory                                    object\nTitle                                       object\nuploads                                      int64\nCountry                                     object\nAbbreviation                                object\nchannel_type                                object\nvideo_views_rank                           float64\ncountry_rank                               float64\nchannel_type_rank                          float64\nvideo_views_for_the_last_30_days           float64\nlowest_monthly_earnings                    float64\nhighest_monthly_earnings                   float64\nlowest_yearly_earnings                     float64\nhighest_yearly_earnings                    float64\nsubscribers_for_last_30_days               float64\ncreated_year                               float64\ncreated_month                               object\ncreated_date                               float64\nGross tertiary education enrollment (%)    float64\nPopulation                                 float64\nUnemployment rate                          float64\nUrban_population                           float64\nLatitude                                   float64\nLongitude                                  float64\ndtype: object"
     },
     "execution_count": 9,
     "metadata": {},
     "output_type": "execute_result"
    }
   ],
   "source": [
    "data.dtypes"
   ],
   "metadata": {
    "collapsed": false,
    "ExecuteTime": {
     "end_time": "2023-08-19T19:34:59.909494100Z",
     "start_time": "2023-08-19T19:34:59.851753500Z"
    }
   },
   "id": "da76c3ee44ffad17"
  },
  {
   "cell_type": "code",
   "execution_count": null,
   "outputs": [],
   "source": [
    "1.\tHow many entries (rows) are there in the dataset?"
   ],
   "metadata": {
    "collapsed": false
   },
   "id": "e2b61b49685bc6dd"
  }
 ],
 "metadata": {
  "kernelspec": {
   "display_name": "Python 3",
   "language": "python",
   "name": "python3"
  },
  "language_info": {
   "codemirror_mode": {
    "name": "ipython",
    "version": 2
   },
   "file_extension": ".py",
   "mimetype": "text/x-python",
   "name": "python",
   "nbconvert_exporter": "python",
   "pygments_lexer": "ipython2",
   "version": "2.7.6"
  }
 },
 "nbformat": 4,
 "nbformat_minor": 5
}
