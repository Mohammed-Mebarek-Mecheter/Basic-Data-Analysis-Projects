{
 "cells": [
  {
   "cell_type": "code",
   "execution_count": 6,
   "id": "initial_id",
   "metadata": {
    "collapsed": true,
    "ExecuteTime": {
     "end_time": "2024-02-03T20:21:38.908646Z",
     "start_time": "2024-02-03T20:21:38.862776900Z"
    }
   },
   "outputs": [],
   "source": [
    "import pandas as pd\n",
    "from datetime import datetime"
   ]
  },
  {
   "cell_type": "code",
   "outputs": [],
   "source": [
    "#load dataset\n",
    "df = pd.read_csv('data/netflix_titles.csv')"
   ],
   "metadata": {
    "collapsed": false,
    "ExecuteTime": {
     "end_time": "2024-02-03T20:17:16.275477600Z",
     "start_time": "2024-02-03T20:17:16.070096400Z"
    }
   },
   "id": "34a94d7706b27628",
   "execution_count": 3
  },
  {
   "cell_type": "code",
   "outputs": [
    {
     "data": {
      "text/plain": "  show_id     type                  title         director  \\\n0      s1    movie   Dick Johnson Is Dead  Kirsten Johnson   \n1      s2  tv show          Blood & Water              NaN   \n2      s3  tv show              Ganglands  Julien Leclercq   \n3      s4  tv show  Jailbirds New Orleans              NaN   \n4      s5  tv show           Kota Factory              NaN   \n\n                                                cast        country  \\\n0                                                NaN  united states   \n1  Ama Qamata, Khosi Ngema, Gail Mabalane, Thaban...   south africa   \n2  Sami Bouajila, Tracy Gotoas, Samuel Jouy, Nabi...            NaN   \n3                                                NaN            NaN   \n4  Mayur More, Jitendra Kumar, Ranjan Raj, Alam K...          india   \n\n  date_added  release_year rating   duration  \\\n0 2021-09-25          2020  pg-13     90 min   \n1 2021-09-24          2021  tv-ma  2 Seasons   \n2 2021-09-24          2021  tv-ma   1 Season   \n3 2021-09-24          2021  tv-ma   1 Season   \n4 2021-09-24          2021  tv-ma  2 Seasons   \n\n                                           listed_in  \\\n0                                      documentaries   \n1    international tv shows, tv dramas, tv mysteries   \n2  crime tv shows, international tv shows, tv act...   \n3                             docuseries, reality tv   \n4  international tv shows, romantic tv shows, tv ...   \n\n                                         description  \n0  As her father nears the end of his life, filmm...  \n1  After crossing paths at a party, a Cape Town t...  \n2  To protect his family from a powerful drug lor...  \n3  Feuds, flirtations and toilet talk go down amo...  \n4  In a city of coaching centers known to train I...  ",
      "text/html": "<div>\n<style scoped>\n    .dataframe tbody tr th:only-of-type {\n        vertical-align: middle;\n    }\n\n    .dataframe tbody tr th {\n        vertical-align: top;\n    }\n\n    .dataframe thead th {\n        text-align: right;\n    }\n</style>\n<table border=\"1\" class=\"dataframe\">\n  <thead>\n    <tr style=\"text-align: right;\">\n      <th></th>\n      <th>show_id</th>\n      <th>type</th>\n      <th>title</th>\n      <th>director</th>\n      <th>cast</th>\n      <th>country</th>\n      <th>date_added</th>\n      <th>release_year</th>\n      <th>rating</th>\n      <th>duration</th>\n      <th>listed_in</th>\n      <th>description</th>\n    </tr>\n  </thead>\n  <tbody>\n    <tr>\n      <th>0</th>\n      <td>s1</td>\n      <td>movie</td>\n      <td>Dick Johnson Is Dead</td>\n      <td>Kirsten Johnson</td>\n      <td>NaN</td>\n      <td>united states</td>\n      <td>2021-09-25</td>\n      <td>2020</td>\n      <td>pg-13</td>\n      <td>90 min</td>\n      <td>documentaries</td>\n      <td>As her father nears the end of his life, filmm...</td>\n    </tr>\n    <tr>\n      <th>1</th>\n      <td>s2</td>\n      <td>tv show</td>\n      <td>Blood &amp; Water</td>\n      <td>NaN</td>\n      <td>Ama Qamata, Khosi Ngema, Gail Mabalane, Thaban...</td>\n      <td>south africa</td>\n      <td>2021-09-24</td>\n      <td>2021</td>\n      <td>tv-ma</td>\n      <td>2 Seasons</td>\n      <td>international tv shows, tv dramas, tv mysteries</td>\n      <td>After crossing paths at a party, a Cape Town t...</td>\n    </tr>\n    <tr>\n      <th>2</th>\n      <td>s3</td>\n      <td>tv show</td>\n      <td>Ganglands</td>\n      <td>Julien Leclercq</td>\n      <td>Sami Bouajila, Tracy Gotoas, Samuel Jouy, Nabi...</td>\n      <td>NaN</td>\n      <td>2021-09-24</td>\n      <td>2021</td>\n      <td>tv-ma</td>\n      <td>1 Season</td>\n      <td>crime tv shows, international tv shows, tv act...</td>\n      <td>To protect his family from a powerful drug lor...</td>\n    </tr>\n    <tr>\n      <th>3</th>\n      <td>s4</td>\n      <td>tv show</td>\n      <td>Jailbirds New Orleans</td>\n      <td>NaN</td>\n      <td>NaN</td>\n      <td>NaN</td>\n      <td>2021-09-24</td>\n      <td>2021</td>\n      <td>tv-ma</td>\n      <td>1 Season</td>\n      <td>docuseries, reality tv</td>\n      <td>Feuds, flirtations and toilet talk go down amo...</td>\n    </tr>\n    <tr>\n      <th>4</th>\n      <td>s5</td>\n      <td>tv show</td>\n      <td>Kota Factory</td>\n      <td>NaN</td>\n      <td>Mayur More, Jitendra Kumar, Ranjan Raj, Alam K...</td>\n      <td>india</td>\n      <td>2021-09-24</td>\n      <td>2021</td>\n      <td>tv-ma</td>\n      <td>2 Seasons</td>\n      <td>international tv shows, romantic tv shows, tv ...</td>\n      <td>In a city of coaching centers known to train I...</td>\n    </tr>\n  </tbody>\n</table>\n</div>"
     },
     "execution_count": 11,
     "metadata": {},
     "output_type": "execute_result"
    }
   ],
   "source": [
    "# Check the first few rows\n",
    "df.head()"
   ],
   "metadata": {
    "collapsed": false,
    "ExecuteTime": {
     "end_time": "2024-02-03T20:29:47.857063500Z",
     "start_time": "2024-02-03T20:29:47.812881Z"
    }
   },
   "id": "96188de5a5e647b3",
   "execution_count": 11
  },
  {
   "cell_type": "code",
   "outputs": [],
   "source": [
    "# Standardize text data in categorical columns\n",
    "categorical_columns = ['type', 'rating', 'country', 'listed_in']\n",
    "for col in categorical_columns:\n",
    "    df[col] = df[col].str.lower()  # Convert to lowercase for consistency"
   ],
   "metadata": {
    "collapsed": false,
    "ExecuteTime": {
     "end_time": "2024-02-03T20:18:24.694343200Z",
     "start_time": "2024-02-03T20:18:24.648030200Z"
    }
   },
   "id": "5f6fc3e886de88da",
   "execution_count": 4
  },
  {
   "cell_type": "code",
   "outputs": [
    {
     "name": "stdout",
     "output_type": "stream",
     "text": [
      "0   2021-09-25\n",
      "1   2021-09-24\n",
      "2   2021-09-24\n",
      "3   2021-09-24\n",
      "4   2021-09-24\n",
      "Name: date_added, dtype: datetime64[ns]\n"
     ]
    }
   ],
   "source": [
    "# Convert 'date_added' column to datetime format\n",
    "df['date_added'] = pd.to_datetime(df['date_added'], format='mixed')\n",
    "\n",
    "# Check the first few rows to verify the conversion\n",
    "print(df['date_added'].head())"
   ],
   "metadata": {
    "collapsed": false,
    "ExecuteTime": {
     "end_time": "2024-02-03T20:26:19.476962600Z",
     "start_time": "2024-02-03T20:26:18.877993200Z"
    }
   },
   "id": "bc2f5599f3f93ea1",
   "execution_count": 10
  },
  {
   "cell_type": "code",
   "outputs": [
    {
     "data": {
      "text/plain": "show_id            0\ntype               0\ntitle              0\ndirector        2634\ncast             825\ncountry          831\ndate_added        10\nrelease_year       0\nrating             4\nduration           3\nlisted_in          0\ndescription        0\ndtype: int64"
     },
     "execution_count": 15,
     "metadata": {},
     "output_type": "execute_result"
    }
   ],
   "source": [
    "df.isnull().sum()"
   ],
   "metadata": {
    "collapsed": false,
    "ExecuteTime": {
     "end_time": "2024-02-03T20:36:31.792187400Z",
     "start_time": "2024-02-03T20:36:31.763461Z"
    }
   },
   "id": "1cf1029e12bbaef3",
   "execution_count": 15
  },
  {
   "cell_type": "code",
   "outputs": [
    {
     "data": {
      "text/plain": "show_id         0\ntype            0\ntitle           0\ndirector        0\ncast            0\ncountry         0\ndate_added      0\nrelease_year    0\nrating          0\nduration        0\nlisted_in       0\ndescription     0\ndtype: int64"
     },
     "execution_count": 17,
     "metadata": {},
     "output_type": "execute_result"
    }
   ],
   "source": [
    "# Step 1: Drop rows with missing values in 'date_added' and 'duration' columns\n",
    "df.dropna(subset=['date_added', 'duration'], inplace=True)\n",
    "\n",
    "# Step 2: Fill missing values in other columns with 'Unknown'\n",
    "columns_to_fill = ['director', 'cast', 'country', 'rating']\n",
    "df[columns_to_fill] = df[columns_to_fill].fillna('Unknown')\n",
    "\n",
    "# Check if there are any remaining missing values\n",
    "df.isnull().sum()"
   ],
   "metadata": {
    "collapsed": false,
    "ExecuteTime": {
     "end_time": "2024-02-03T20:45:04.972519200Z",
     "start_time": "2024-02-03T20:45:04.898919500Z"
    }
   },
   "id": "cf6875e25bcf8963",
   "execution_count": 17
  },
  {
   "cell_type": "code",
   "outputs": [],
   "source": [
    "# Save the cleaned dataset to a new CSV file\n",
    "df.to_csv('data/netflix_clean.csv', index=False)"
   ],
   "metadata": {
    "collapsed": false,
    "ExecuteTime": {
     "end_time": "2024-02-03T20:46:59.214951400Z",
     "start_time": "2024-02-03T20:46:58.950141500Z"
    }
   },
   "id": "76aec9e574065e5d",
   "execution_count": 18
  }
 ],
 "metadata": {
  "kernelspec": {
   "display_name": "Python 3",
   "language": "python",
   "name": "python3"
  },
  "language_info": {
   "codemirror_mode": {
    "name": "ipython",
    "version": 2
   },
   "file_extension": ".py",
   "mimetype": "text/x-python",
   "name": "python",
   "nbconvert_exporter": "python",
   "pygments_lexer": "ipython2",
   "version": "2.7.6"
  }
 },
 "nbformat": 4,
 "nbformat_minor": 5
}
